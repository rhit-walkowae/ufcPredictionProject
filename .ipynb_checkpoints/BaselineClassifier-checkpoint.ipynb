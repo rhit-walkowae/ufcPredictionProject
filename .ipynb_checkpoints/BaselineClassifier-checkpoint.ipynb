{
 "cells": [
  {
   "cell_type": "code",
   "execution_count": 1,
   "id": "ff3ef3a5",
   "metadata": {},
   "outputs": [],
   "source": [
    "import pandas as pd"
   ]
  },
  {
   "cell_type": "code",
   "execution_count": 2,
   "id": "c3595f72",
   "metadata": {},
   "outputs": [],
   "source": [
    "ufc = pd.read_csv('../Data/UFCdata.csv')"
   ]
  },
  {
   "cell_type": "code",
   "execution_count": 15,
   "id": "bbac0810",
   "metadata": {},
   "outputs": [
    {
     "name": "stdout",
     "output_type": "stream",
     "text": [
      "Baseline Accuracy: 66.2 %\n"
     ]
    }
   ],
   "source": [
    "b = ufc.Winner.value_counts().index[0]\n",
    "yh = ufc.Winner == b\n",
    "accuracy = round((sum(yh) / len(yh)),3) * 100\n",
    "print(\"Baseline Accuracy:\",accuracy,\"%\")"
   ]
  }
 ],
 "metadata": {
  "kernelspec": {
   "display_name": "Python 3",
   "language": "python",
   "name": "python3"
  },
  "language_info": {
   "codemirror_mode": {
    "name": "ipython",
    "version": 3
   },
   "file_extension": ".py",
   "mimetype": "text/x-python",
   "name": "python",
   "nbconvert_exporter": "python",
   "pygments_lexer": "ipython3",
   "version": "3.8.8"
  }
 },
 "nbformat": 4,
 "nbformat_minor": 5
}
