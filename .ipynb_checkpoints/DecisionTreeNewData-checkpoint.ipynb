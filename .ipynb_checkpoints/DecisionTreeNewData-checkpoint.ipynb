{
 "cells": [
  {
   "cell_type": "markdown",
   "id": "3fe64b4e",
   "metadata": {},
   "source": [
    "### Decsion Trees\n",
    "A file to explore applicaitons of Decision Tree Classifiers for predicting the winner of a fight"
   ]
  },
  {
   "cell_type": "code",
   "execution_count": 67,
   "id": "cf36590f",
   "metadata": {},
   "outputs": [],
   "source": [
    "import pandas as pd\n",
    "import numpy as np\n",
    "import matplotlib.pyplot as plt\n",
    "import os\n",
    "from sklearn.model_selection import GridSearchCV\n",
    "from sklearn.tree import DecisionTreeClassifier\n",
    "from sklearn.neighbors import KNeighborsClassifier\n",
    "from sklearn.linear_model import LogisticRegression\n",
    "from sklearn.preprocessing import PolynomialFeatures"
   ]
  },
  {
   "cell_type": "code",
   "execution_count": 68,
   "id": "7d715100",
   "metadata": {},
   "outputs": [
    {
     "data": {
      "text/plain": [
       "'C:\\\\Users\\\\walkowae\\\\Documents\\\\GitHub\\\\UFCdata.csv'"
      ]
     },
     "execution_count": 68,
     "metadata": {},
     "output_type": "execute_result"
    }
   ],
   "source": [
    "path = os.getcwd()\n",
    "p = path.removesuffix('ufcPredictionProject')\n",
    "p= p+'UFCdata.csv'\n",
    "p"
   ]
  },
  {
   "cell_type": "code",
   "execution_count": 69,
   "id": "5f26f081",
   "metadata": {},
   "outputs": [
    {
     "data": {
      "text/html": [
       "<div>\n",
       "<style scoped>\n",
       "    .dataframe tbody tr th:only-of-type {\n",
       "        vertical-align: middle;\n",
       "    }\n",
       "\n",
       "    .dataframe tbody tr th {\n",
       "        vertical-align: top;\n",
       "    }\n",
       "\n",
       "    .dataframe thead th {\n",
       "        text-align: right;\n",
       "    }\n",
       "</style>\n",
       "<table border=\"1\" class=\"dataframe\">\n",
       "  <thead>\n",
       "    <tr style=\"text-align: right;\">\n",
       "      <th></th>\n",
       "      <th>R_fighter</th>\n",
       "      <th>B_fighter</th>\n",
       "      <th>Referee</th>\n",
       "      <th>date</th>\n",
       "      <th>location</th>\n",
       "      <th>Winner</th>\n",
       "      <th>title_bout</th>\n",
       "      <th>weight_class</th>\n",
       "      <th>B_avg_KD</th>\n",
       "      <th>B_avg_opp_KD</th>\n",
       "      <th>...</th>\n",
       "      <th>R_win_by_Decision_Unanimous</th>\n",
       "      <th>R_win_by_KO/TKO</th>\n",
       "      <th>R_win_by_Submission</th>\n",
       "      <th>R_win_by_TKO_Doctor_Stoppage</th>\n",
       "      <th>R_Stance</th>\n",
       "      <th>R_Height_cms</th>\n",
       "      <th>R_Reach_cms</th>\n",
       "      <th>R_Weight_lbs</th>\n",
       "      <th>B_age</th>\n",
       "      <th>R_age</th>\n",
       "    </tr>\n",
       "  </thead>\n",
       "  <tbody>\n",
       "    <tr>\n",
       "      <th>0</th>\n",
       "      <td>Aalon Cruz</td>\n",
       "      <td>Spike Carlyle</td>\n",
       "      <td>Scott Howard</td>\n",
       "      <td>2/29/2020</td>\n",
       "      <td>Norfolk, Virginia, USA</td>\n",
       "      <td>Blue</td>\n",
       "      <td>False</td>\n",
       "      <td>Featherweight</td>\n",
       "      <td>NaN</td>\n",
       "      <td>NaN</td>\n",
       "      <td>...</td>\n",
       "      <td>0</td>\n",
       "      <td>0</td>\n",
       "      <td>0</td>\n",
       "      <td>0</td>\n",
       "      <td>Switch</td>\n",
       "      <td>182.88</td>\n",
       "      <td>198.12</td>\n",
       "      <td>145.0</td>\n",
       "      <td>26.0</td>\n",
       "      <td>30.0</td>\n",
       "    </tr>\n",
       "    <tr>\n",
       "      <th>1</th>\n",
       "      <td>Aaron Phillips</td>\n",
       "      <td>Matt Hobar</td>\n",
       "      <td>Kevin Nix</td>\n",
       "      <td>8/23/2014</td>\n",
       "      <td>Tulsa, Oklahoma, USA</td>\n",
       "      <td>Blue</td>\n",
       "      <td>False</td>\n",
       "      <td>Bantamweight</td>\n",
       "      <td>0.0</td>\n",
       "      <td>0.0</td>\n",
       "      <td>...</td>\n",
       "      <td>0</td>\n",
       "      <td>0</td>\n",
       "      <td>0</td>\n",
       "      <td>0</td>\n",
       "      <td>Southpaw</td>\n",
       "      <td>175.26</td>\n",
       "      <td>180.34</td>\n",
       "      <td>135.0</td>\n",
       "      <td>27.0</td>\n",
       "      <td>25.0</td>\n",
       "    </tr>\n",
       "    <tr>\n",
       "      <th>2</th>\n",
       "      <td>Aaron Riley</td>\n",
       "      <td>Justin Salas</td>\n",
       "      <td>Randy Corley</td>\n",
       "      <td>7/27/2013</td>\n",
       "      <td>Seattle, Washington, USA</td>\n",
       "      <td>Blue</td>\n",
       "      <td>False</td>\n",
       "      <td>Lightweight</td>\n",
       "      <td>0.0</td>\n",
       "      <td>1.0</td>\n",
       "      <td>...</td>\n",
       "      <td>3</td>\n",
       "      <td>0</td>\n",
       "      <td>0</td>\n",
       "      <td>0</td>\n",
       "      <td>Southpaw</td>\n",
       "      <td>172.72</td>\n",
       "      <td>175.26</td>\n",
       "      <td>155.0</td>\n",
       "      <td>31.0</td>\n",
       "      <td>32.0</td>\n",
       "    </tr>\n",
       "  </tbody>\n",
       "</table>\n",
       "<p>3 rows × 144 columns</p>\n",
       "</div>"
      ],
      "text/plain": [
       "        R_fighter      B_fighter       Referee       date  \\\n",
       "0      Aalon Cruz  Spike Carlyle  Scott Howard  2/29/2020   \n",
       "1  Aaron Phillips     Matt Hobar     Kevin Nix  8/23/2014   \n",
       "2     Aaron Riley   Justin Salas  Randy Corley  7/27/2013   \n",
       "\n",
       "                   location Winner  title_bout   weight_class  B_avg_KD  \\\n",
       "0    Norfolk, Virginia, USA   Blue       False  Featherweight       NaN   \n",
       "1      Tulsa, Oklahoma, USA   Blue       False   Bantamweight       0.0   \n",
       "2  Seattle, Washington, USA   Blue       False    Lightweight       0.0   \n",
       "\n",
       "   B_avg_opp_KD  ...  R_win_by_Decision_Unanimous  R_win_by_KO/TKO  \\\n",
       "0           NaN  ...                            0                0   \n",
       "1           0.0  ...                            0                0   \n",
       "2           1.0  ...                            3                0   \n",
       "\n",
       "   R_win_by_Submission  R_win_by_TKO_Doctor_Stoppage  R_Stance  R_Height_cms  \\\n",
       "0                    0                             0    Switch        182.88   \n",
       "1                    0                             0  Southpaw        175.26   \n",
       "2                    0                             0  Southpaw        172.72   \n",
       "\n",
       "   R_Reach_cms  R_Weight_lbs  B_age  R_age  \n",
       "0       198.12         145.0   26.0   30.0  \n",
       "1       180.34         135.0   27.0   25.0  \n",
       "2       175.26         155.0   31.0   32.0  \n",
       "\n",
       "[3 rows x 144 columns]"
      ]
     },
     "execution_count": 69,
     "metadata": {},
     "output_type": "execute_result"
    }
   ],
   "source": [
    "df = pd.read_csv(p)\n",
    "df.head(3)\n"
   ]
  },
  {
   "cell_type": "code",
   "execution_count": 70,
   "id": "cddad125",
   "metadata": {},
   "outputs": [
    {
     "name": "stdout",
     "output_type": "stream",
     "text": [
      "Index(['B_draw', 'R_draw'], dtype='object')\n"
     ]
    },
    {
     "data": {
      "text/html": [
       "<div>\n",
       "<style scoped>\n",
       "    .dataframe tbody tr th:only-of-type {\n",
       "        vertical-align: middle;\n",
       "    }\n",
       "\n",
       "    .dataframe tbody tr th {\n",
       "        vertical-align: top;\n",
       "    }\n",
       "\n",
       "    .dataframe thead th {\n",
       "        text-align: right;\n",
       "    }\n",
       "</style>\n",
       "<table border=\"1\" class=\"dataframe\">\n",
       "  <thead>\n",
       "    <tr style=\"text-align: right;\">\n",
       "      <th></th>\n",
       "      <th>R_fighter</th>\n",
       "      <th>B_fighter</th>\n",
       "      <th>Referee</th>\n",
       "      <th>date</th>\n",
       "      <th>location</th>\n",
       "      <th>Winner</th>\n",
       "      <th>title_bout</th>\n",
       "      <th>weight_class</th>\n",
       "      <th>B_avg_KD</th>\n",
       "      <th>B_avg_opp_KD</th>\n",
       "      <th>...</th>\n",
       "      <th>R_win_by_Decision_Unanimous</th>\n",
       "      <th>R_win_by_KO/TKO</th>\n",
       "      <th>R_win_by_Submission</th>\n",
       "      <th>R_win_by_TKO_Doctor_Stoppage</th>\n",
       "      <th>R_Stance</th>\n",
       "      <th>R_Height_cms</th>\n",
       "      <th>R_Reach_cms</th>\n",
       "      <th>R_Weight_lbs</th>\n",
       "      <th>B_age</th>\n",
       "      <th>R_age</th>\n",
       "    </tr>\n",
       "  </thead>\n",
       "  <tbody>\n",
       "    <tr>\n",
       "      <th>0</th>\n",
       "      <td>Aalon Cruz</td>\n",
       "      <td>Spike Carlyle</td>\n",
       "      <td>Scott Howard</td>\n",
       "      <td>2/29/2020</td>\n",
       "      <td>Norfolk, Virginia, USA</td>\n",
       "      <td>Blue</td>\n",
       "      <td>False</td>\n",
       "      <td>Featherweight</td>\n",
       "      <td>NaN</td>\n",
       "      <td>NaN</td>\n",
       "      <td>...</td>\n",
       "      <td>0</td>\n",
       "      <td>0</td>\n",
       "      <td>0</td>\n",
       "      <td>0</td>\n",
       "      <td>Switch</td>\n",
       "      <td>182.88</td>\n",
       "      <td>198.12</td>\n",
       "      <td>145.0</td>\n",
       "      <td>26.0</td>\n",
       "      <td>30.0</td>\n",
       "    </tr>\n",
       "    <tr>\n",
       "      <th>1</th>\n",
       "      <td>Aaron Phillips</td>\n",
       "      <td>Matt Hobar</td>\n",
       "      <td>Kevin Nix</td>\n",
       "      <td>8/23/2014</td>\n",
       "      <td>Tulsa, Oklahoma, USA</td>\n",
       "      <td>Blue</td>\n",
       "      <td>False</td>\n",
       "      <td>Bantamweight</td>\n",
       "      <td>0.0</td>\n",
       "      <td>0.0</td>\n",
       "      <td>...</td>\n",
       "      <td>0</td>\n",
       "      <td>0</td>\n",
       "      <td>0</td>\n",
       "      <td>0</td>\n",
       "      <td>Southpaw</td>\n",
       "      <td>175.26</td>\n",
       "      <td>180.34</td>\n",
       "      <td>135.0</td>\n",
       "      <td>27.0</td>\n",
       "      <td>25.0</td>\n",
       "    </tr>\n",
       "    <tr>\n",
       "      <th>2</th>\n",
       "      <td>Aaron Riley</td>\n",
       "      <td>Justin Salas</td>\n",
       "      <td>Randy Corley</td>\n",
       "      <td>7/27/2013</td>\n",
       "      <td>Seattle, Washington, USA</td>\n",
       "      <td>Blue</td>\n",
       "      <td>False</td>\n",
       "      <td>Lightweight</td>\n",
       "      <td>0.0</td>\n",
       "      <td>1.0</td>\n",
       "      <td>...</td>\n",
       "      <td>3</td>\n",
       "      <td>0</td>\n",
       "      <td>0</td>\n",
       "      <td>0</td>\n",
       "      <td>Southpaw</td>\n",
       "      <td>172.72</td>\n",
       "      <td>175.26</td>\n",
       "      <td>155.0</td>\n",
       "      <td>31.0</td>\n",
       "      <td>32.0</td>\n",
       "    </tr>\n",
       "    <tr>\n",
       "      <th>3</th>\n",
       "      <td>Aaron Riley</td>\n",
       "      <td>Joe Brammer</td>\n",
       "      <td>Steve Mazzagatti</td>\n",
       "      <td>5/29/2010</td>\n",
       "      <td>Las Vegas, Nevada, USA</td>\n",
       "      <td>Red</td>\n",
       "      <td>False</td>\n",
       "      <td>Lightweight</td>\n",
       "      <td>0.0</td>\n",
       "      <td>0.0</td>\n",
       "      <td>...</td>\n",
       "      <td>2</td>\n",
       "      <td>0</td>\n",
       "      <td>0</td>\n",
       "      <td>0</td>\n",
       "      <td>Southpaw</td>\n",
       "      <td>172.72</td>\n",
       "      <td>175.26</td>\n",
       "      <td>155.0</td>\n",
       "      <td>26.0</td>\n",
       "      <td>29.0</td>\n",
       "    </tr>\n",
       "    <tr>\n",
       "      <th>4</th>\n",
       "      <td>Aaron Riley</td>\n",
       "      <td>Shane Nelson</td>\n",
       "      <td>Kevin Mulhall</td>\n",
       "      <td>8/8/2009</td>\n",
       "      <td>Philadelphia, Pennsylvania, USA</td>\n",
       "      <td>Red</td>\n",
       "      <td>False</td>\n",
       "      <td>Lightweight</td>\n",
       "      <td>0.5</td>\n",
       "      <td>0.0</td>\n",
       "      <td>...</td>\n",
       "      <td>1</td>\n",
       "      <td>0</td>\n",
       "      <td>0</td>\n",
       "      <td>0</td>\n",
       "      <td>Southpaw</td>\n",
       "      <td>172.72</td>\n",
       "      <td>175.26</td>\n",
       "      <td>155.0</td>\n",
       "      <td>24.0</td>\n",
       "      <td>28.0</td>\n",
       "    </tr>\n",
       "  </tbody>\n",
       "</table>\n",
       "<p>5 rows × 142 columns</p>\n",
       "</div>"
      ],
      "text/plain": [
       "        R_fighter      B_fighter           Referee       date  \\\n",
       "0      Aalon Cruz  Spike Carlyle      Scott Howard  2/29/2020   \n",
       "1  Aaron Phillips     Matt Hobar         Kevin Nix  8/23/2014   \n",
       "2     Aaron Riley   Justin Salas      Randy Corley  7/27/2013   \n",
       "3     Aaron Riley    Joe Brammer  Steve Mazzagatti  5/29/2010   \n",
       "4     Aaron Riley   Shane Nelson     Kevin Mulhall   8/8/2009   \n",
       "\n",
       "                          location Winner  title_bout   weight_class  \\\n",
       "0           Norfolk, Virginia, USA   Blue       False  Featherweight   \n",
       "1             Tulsa, Oklahoma, USA   Blue       False   Bantamweight   \n",
       "2         Seattle, Washington, USA   Blue       False    Lightweight   \n",
       "3           Las Vegas, Nevada, USA    Red       False    Lightweight   \n",
       "4  Philadelphia, Pennsylvania, USA    Red       False    Lightweight   \n",
       "\n",
       "   B_avg_KD  B_avg_opp_KD  ...  R_win_by_Decision_Unanimous  R_win_by_KO/TKO  \\\n",
       "0       NaN           NaN  ...                            0                0   \n",
       "1       0.0           0.0  ...                            0                0   \n",
       "2       0.0           1.0  ...                            3                0   \n",
       "3       0.0           0.0  ...                            2                0   \n",
       "4       0.5           0.0  ...                            1                0   \n",
       "\n",
       "   R_win_by_Submission  R_win_by_TKO_Doctor_Stoppage  R_Stance  R_Height_cms  \\\n",
       "0                    0                             0    Switch        182.88   \n",
       "1                    0                             0  Southpaw        175.26   \n",
       "2                    0                             0  Southpaw        172.72   \n",
       "3                    0                             0  Southpaw        172.72   \n",
       "4                    0                             0  Southpaw        172.72   \n",
       "\n",
       "   R_Reach_cms  R_Weight_lbs  B_age  R_age  \n",
       "0       198.12         145.0   26.0   30.0  \n",
       "1       180.34         135.0   27.0   25.0  \n",
       "2       175.26         155.0   31.0   32.0  \n",
       "3       175.26         155.0   26.0   29.0  \n",
       "4       175.26         155.0   24.0   28.0  \n",
       "\n",
       "[5 rows x 142 columns]"
      ]
     },
     "execution_count": 70,
     "metadata": {},
     "output_type": "execute_result"
    }
   ],
   "source": [
    "nunique = df.nunique()\n",
    "cols_to_drop = nunique[nunique == 1].index\n",
    "print(cols_to_drop)\n",
    "df = df.drop(cols_to_drop, axis=1)\n",
    "df.head()"
   ]
  },
  {
   "cell_type": "code",
   "execution_count": 71,
   "id": "a68826fd",
   "metadata": {},
   "outputs": [
    {
     "name": "stdout",
     "output_type": "stream",
     "text": [
      "(6012, 142)\n"
     ]
    },
    {
     "data": {
      "text/plain": [
       "(3890, 142)"
      ]
     },
     "execution_count": 71,
     "metadata": {},
     "output_type": "execute_result"
    }
   ],
   "source": [
    "print(df.shape)\n",
    "df = df.dropna()\n",
    "df.shape"
   ]
  },
  {
   "cell_type": "code",
   "execution_count": null,
   "id": "716be231",
   "metadata": {},
   "outputs": [],
   "source": []
  },
  {
   "cell_type": "code",
   "execution_count": 72,
   "id": "7a8c17fa",
   "metadata": {},
   "outputs": [
    {
     "name": "stdout",
     "output_type": "stream",
     "text": [
      "Index(['R_fighter', 'B_fighter', 'Referee', 'date', 'location', 'title_bout',\n",
      "       'weight_class', 'B_Stance', 'R_Stance'],\n",
      "      dtype='object')\n"
     ]
    },
    {
     "data": {
      "text/html": [
       "<div>\n",
       "<style scoped>\n",
       "    .dataframe tbody tr th:only-of-type {\n",
       "        vertical-align: middle;\n",
       "    }\n",
       "\n",
       "    .dataframe tbody tr th {\n",
       "        vertical-align: top;\n",
       "    }\n",
       "\n",
       "    .dataframe thead th {\n",
       "        text-align: right;\n",
       "    }\n",
       "</style>\n",
       "<table border=\"1\" class=\"dataframe\">\n",
       "  <thead>\n",
       "    <tr style=\"text-align: right;\">\n",
       "      <th></th>\n",
       "      <th>B_avg_KD</th>\n",
       "      <th>B_avg_opp_KD</th>\n",
       "      <th>B_avg_SIG_STR_pct</th>\n",
       "      <th>B_avg_opp_SIG_STR_pct</th>\n",
       "      <th>B_avg_TD_pct</th>\n",
       "      <th>B_avg_opp_TD_pct</th>\n",
       "      <th>B_avg_SUB_ATT</th>\n",
       "      <th>B_avg_opp_SUB_ATT</th>\n",
       "      <th>B_avg_REV</th>\n",
       "      <th>B_avg_opp_REV</th>\n",
       "      <th>...</th>\n",
       "      <th>R_win_by_Decision_Split</th>\n",
       "      <th>R_win_by_Decision_Unanimous</th>\n",
       "      <th>R_win_by_KO/TKO</th>\n",
       "      <th>R_win_by_Submission</th>\n",
       "      <th>R_win_by_TKO_Doctor_Stoppage</th>\n",
       "      <th>R_Height_cms</th>\n",
       "      <th>R_Reach_cms</th>\n",
       "      <th>R_Weight_lbs</th>\n",
       "      <th>B_age</th>\n",
       "      <th>R_age</th>\n",
       "    </tr>\n",
       "  </thead>\n",
       "  <tbody>\n",
       "    <tr>\n",
       "      <th>1</th>\n",
       "      <td>0.0</td>\n",
       "      <td>0.0</td>\n",
       "      <td>0.250</td>\n",
       "      <td>0.55</td>\n",
       "      <td>0.00</td>\n",
       "      <td>1.0</td>\n",
       "      <td>0.0</td>\n",
       "      <td>1.0</td>\n",
       "      <td>0.0</td>\n",
       "      <td>0.0</td>\n",
       "      <td>...</td>\n",
       "      <td>0</td>\n",
       "      <td>0</td>\n",
       "      <td>0</td>\n",
       "      <td>0</td>\n",
       "      <td>0</td>\n",
       "      <td>175.26</td>\n",
       "      <td>180.34</td>\n",
       "      <td>135.0</td>\n",
       "      <td>27.0</td>\n",
       "      <td>25.0</td>\n",
       "    </tr>\n",
       "    <tr>\n",
       "      <th>2</th>\n",
       "      <td>0.0</td>\n",
       "      <td>1.0</td>\n",
       "      <td>0.535</td>\n",
       "      <td>0.47</td>\n",
       "      <td>0.13</td>\n",
       "      <td>0.0</td>\n",
       "      <td>0.0</td>\n",
       "      <td>0.0</td>\n",
       "      <td>0.0</td>\n",
       "      <td>0.0</td>\n",
       "      <td>...</td>\n",
       "      <td>0</td>\n",
       "      <td>3</td>\n",
       "      <td>0</td>\n",
       "      <td>0</td>\n",
       "      <td>0</td>\n",
       "      <td>172.72</td>\n",
       "      <td>175.26</td>\n",
       "      <td>155.0</td>\n",
       "      <td>31.0</td>\n",
       "      <td>32.0</td>\n",
       "    </tr>\n",
       "    <tr>\n",
       "      <th>4</th>\n",
       "      <td>0.5</td>\n",
       "      <td>0.0</td>\n",
       "      <td>0.360</td>\n",
       "      <td>0.36</td>\n",
       "      <td>0.15</td>\n",
       "      <td>0.5</td>\n",
       "      <td>1.0</td>\n",
       "      <td>0.0</td>\n",
       "      <td>0.0</td>\n",
       "      <td>0.0</td>\n",
       "      <td>...</td>\n",
       "      <td>0</td>\n",
       "      <td>1</td>\n",
       "      <td>0</td>\n",
       "      <td>0</td>\n",
       "      <td>0</td>\n",
       "      <td>172.72</td>\n",
       "      <td>175.26</td>\n",
       "      <td>155.0</td>\n",
       "      <td>24.0</td>\n",
       "      <td>28.0</td>\n",
       "    </tr>\n",
       "  </tbody>\n",
       "</table>\n",
       "<p>3 rows × 132 columns</p>\n",
       "</div>"
      ],
      "text/plain": [
       "   B_avg_KD  B_avg_opp_KD  B_avg_SIG_STR_pct  B_avg_opp_SIG_STR_pct  \\\n",
       "1       0.0           0.0              0.250                   0.55   \n",
       "2       0.0           1.0              0.535                   0.47   \n",
       "4       0.5           0.0              0.360                   0.36   \n",
       "\n",
       "   B_avg_TD_pct  B_avg_opp_TD_pct  B_avg_SUB_ATT  B_avg_opp_SUB_ATT  \\\n",
       "1          0.00               1.0            0.0                1.0   \n",
       "2          0.13               0.0            0.0                0.0   \n",
       "4          0.15               0.5            1.0                0.0   \n",
       "\n",
       "   B_avg_REV  B_avg_opp_REV  ...  R_win_by_Decision_Split  \\\n",
       "1        0.0            0.0  ...                        0   \n",
       "2        0.0            0.0  ...                        0   \n",
       "4        0.0            0.0  ...                        0   \n",
       "\n",
       "   R_win_by_Decision_Unanimous  R_win_by_KO/TKO  R_win_by_Submission  \\\n",
       "1                            0                0                    0   \n",
       "2                            3                0                    0   \n",
       "4                            1                0                    0   \n",
       "\n",
       "   R_win_by_TKO_Doctor_Stoppage  R_Height_cms  R_Reach_cms  R_Weight_lbs  \\\n",
       "1                             0        175.26       180.34         135.0   \n",
       "2                             0        172.72       175.26         155.0   \n",
       "4                             0        172.72       175.26         155.0   \n",
       "\n",
       "   B_age  R_age  \n",
       "1   27.0   25.0  \n",
       "2   31.0   32.0  \n",
       "4   24.0   28.0  \n",
       "\n",
       "[3 rows x 132 columns]"
      ]
     },
     "execution_count": 72,
     "metadata": {},
     "output_type": "execute_result"
    }
   ],
   "source": [
    "y = df.Winner\n",
    "df = df.drop('Winner', axis = 1)\n",
    "X_category = df.select_dtypes(exclude=np.number)\n",
    "X_numerical = df.select_dtypes(include=np.number)\n",
    "\n",
    "print(X_category.columns)\n",
    "X_numerical.head(3)"
   ]
  },
  {
   "cell_type": "code",
   "execution_count": 73,
   "id": "b0bf5865",
   "metadata": {},
   "outputs": [
    {
     "name": "stdout",
     "output_type": "stream",
     "text": [
      "0\n"
     ]
    }
   ],
   "source": [
    "\n",
    "\n",
    "X_num = X_numerical\n",
    "\n",
    "\n",
    "X_num = (X_num - X_num.mean())/X_num.std()\n",
    "print(X_num.isnull().sum().sum())\n"
   ]
  },
  {
   "cell_type": "code",
   "execution_count": 74,
   "id": "5222e5d4",
   "metadata": {},
   "outputs": [
    {
     "name": "stdout",
     "output_type": "stream",
     "text": [
      "0\n"
     ]
    }
   ],
   "source": [
    "X_cat = X_category.drop(['R_fighter', 'B_fighter', 'Referee', 'date', 'location', 'title_bout'],axis=1)\n",
    "X_cat=pd.get_dummies(X_cat)\n",
    "print(X_cat.isnull().sum().sum())"
   ]
  },
  {
   "cell_type": "code",
   "execution_count": 75,
   "id": "8285087a",
   "metadata": {},
   "outputs": [
    {
     "data": {
      "text/plain": [
       "Index(['weight_class_Bantamweight', 'weight_class_CatchWeight',\n",
       "       'weight_class_Featherweight', 'weight_class_Flyweight',\n",
       "       'weight_class_Heavyweight', 'weight_class_LightHeavyweight',\n",
       "       'weight_class_Lightweight', 'weight_class_Middleweight',\n",
       "       'weight_class_Welterweight', 'weight_class_WomenBantamweight',\n",
       "       'weight_class_WomenFeatherweight', 'weight_class_WomenFlyweight',\n",
       "       'weight_class_WomenStrawweight', 'B_Stance_Open Stance',\n",
       "       'B_Stance_Orthodox', 'B_Stance_Southpaw', 'B_Stance_Switch',\n",
       "       'R_Stance_Open Stance', 'R_Stance_Orthodox', 'R_Stance_Southpaw',\n",
       "       'R_Stance_Switch'],\n",
       "      dtype='object')"
      ]
     },
     "execution_count": 75,
     "metadata": {},
     "output_type": "execute_result"
    }
   ],
   "source": [
    "X_cat.columns"
   ]
  },
  {
   "cell_type": "code",
   "execution_count": 76,
   "id": "ba1359a7",
   "metadata": {},
   "outputs": [
    {
     "name": "stdout",
     "output_type": "stream",
     "text": [
      "Red     2397\n",
      "Blue    1424\n",
      "Draw      69\n",
      "Name: Winner, dtype: int64\n",
      "(3890, 153)\n"
     ]
    },
    {
     "data": {
      "text/html": [
       "<div>\n",
       "<style scoped>\n",
       "    .dataframe tbody tr th:only-of-type {\n",
       "        vertical-align: middle;\n",
       "    }\n",
       "\n",
       "    .dataframe tbody tr th {\n",
       "        vertical-align: top;\n",
       "    }\n",
       "\n",
       "    .dataframe thead th {\n",
       "        text-align: right;\n",
       "    }\n",
       "</style>\n",
       "<table border=\"1\" class=\"dataframe\">\n",
       "  <thead>\n",
       "    <tr style=\"text-align: right;\">\n",
       "      <th></th>\n",
       "      <th>B_avg_KD</th>\n",
       "      <th>B_avg_opp_KD</th>\n",
       "      <th>B_avg_SIG_STR_pct</th>\n",
       "      <th>B_avg_opp_SIG_STR_pct</th>\n",
       "      <th>B_avg_TD_pct</th>\n",
       "      <th>B_avg_opp_TD_pct</th>\n",
       "      <th>B_avg_SUB_ATT</th>\n",
       "      <th>B_avg_opp_SUB_ATT</th>\n",
       "      <th>B_avg_REV</th>\n",
       "      <th>B_avg_opp_REV</th>\n",
       "      <th>...</th>\n",
       "      <th>weight_class_WomenFlyweight</th>\n",
       "      <th>weight_class_WomenStrawweight</th>\n",
       "      <th>B_Stance_Open Stance</th>\n",
       "      <th>B_Stance_Orthodox</th>\n",
       "      <th>B_Stance_Southpaw</th>\n",
       "      <th>B_Stance_Switch</th>\n",
       "      <th>R_Stance_Open Stance</th>\n",
       "      <th>R_Stance_Orthodox</th>\n",
       "      <th>R_Stance_Southpaw</th>\n",
       "      <th>R_Stance_Switch</th>\n",
       "    </tr>\n",
       "  </thead>\n",
       "  <tbody>\n",
       "    <tr>\n",
       "      <th>1</th>\n",
       "      <td>-0.690263</td>\n",
       "      <td>-0.560499</td>\n",
       "      <td>-1.704518</td>\n",
       "      <td>1.003821</td>\n",
       "      <td>-1.119503</td>\n",
       "      <td>2.970785</td>\n",
       "      <td>-0.671011</td>\n",
       "      <td>1.041472</td>\n",
       "      <td>-0.470803</td>\n",
       "      <td>-0.444503</td>\n",
       "      <td>...</td>\n",
       "      <td>0</td>\n",
       "      <td>0</td>\n",
       "      <td>0</td>\n",
       "      <td>0</td>\n",
       "      <td>1</td>\n",
       "      <td>0</td>\n",
       "      <td>0</td>\n",
       "      <td>0</td>\n",
       "      <td>1</td>\n",
       "      <td>0</td>\n",
       "    </tr>\n",
       "    <tr>\n",
       "      <th>2</th>\n",
       "      <td>-0.690263</td>\n",
       "      <td>2.696667</td>\n",
       "      <td>0.666250</td>\n",
       "      <td>0.346643</td>\n",
       "      <td>-0.626459</td>\n",
       "      <td>-1.027669</td>\n",
       "      <td>-0.671011</td>\n",
       "      <td>-0.632948</td>\n",
       "      <td>-0.470803</td>\n",
       "      <td>-0.444503</td>\n",
       "      <td>...</td>\n",
       "      <td>0</td>\n",
       "      <td>0</td>\n",
       "      <td>0</td>\n",
       "      <td>0</td>\n",
       "      <td>1</td>\n",
       "      <td>0</td>\n",
       "      <td>0</td>\n",
       "      <td>0</td>\n",
       "      <td>1</td>\n",
       "      <td>0</td>\n",
       "    </tr>\n",
       "    <tr>\n",
       "      <th>4</th>\n",
       "      <td>0.616173</td>\n",
       "      <td>-0.560499</td>\n",
       "      <td>-0.789485</td>\n",
       "      <td>-0.556977</td>\n",
       "      <td>-0.550606</td>\n",
       "      <td>0.971558</td>\n",
       "      <td>0.761297</td>\n",
       "      <td>-0.632948</td>\n",
       "      <td>-0.470803</td>\n",
       "      <td>-0.444503</td>\n",
       "      <td>...</td>\n",
       "      <td>0</td>\n",
       "      <td>0</td>\n",
       "      <td>0</td>\n",
       "      <td>0</td>\n",
       "      <td>1</td>\n",
       "      <td>0</td>\n",
       "      <td>0</td>\n",
       "      <td>0</td>\n",
       "      <td>1</td>\n",
       "      <td>0</td>\n",
       "    </tr>\n",
       "    <tr>\n",
       "      <th>5</th>\n",
       "      <td>-0.690263</td>\n",
       "      <td>-0.560499</td>\n",
       "      <td>-0.469743</td>\n",
       "      <td>-0.549276</td>\n",
       "      <td>0.983048</td>\n",
       "      <td>0.221848</td>\n",
       "      <td>-0.626251</td>\n",
       "      <td>2.087984</td>\n",
       "      <td>1.434484</td>\n",
       "      <td>1.605974</td>\n",
       "      <td>...</td>\n",
       "      <td>0</td>\n",
       "      <td>0</td>\n",
       "      <td>0</td>\n",
       "      <td>1</td>\n",
       "      <td>0</td>\n",
       "      <td>0</td>\n",
       "      <td>0</td>\n",
       "      <td>0</td>\n",
       "      <td>1</td>\n",
       "      <td>0</td>\n",
       "    </tr>\n",
       "    <tr>\n",
       "      <th>7</th>\n",
       "      <td>-0.608611</td>\n",
       "      <td>-0.560499</td>\n",
       "      <td>0.511253</td>\n",
       "      <td>-0.125704</td>\n",
       "      <td>-0.170155</td>\n",
       "      <td>-0.321692</td>\n",
       "      <td>-0.581492</td>\n",
       "      <td>-0.626407</td>\n",
       "      <td>-0.470803</td>\n",
       "      <td>-0.444503</td>\n",
       "      <td>...</td>\n",
       "      <td>0</td>\n",
       "      <td>0</td>\n",
       "      <td>0</td>\n",
       "      <td>1</td>\n",
       "      <td>0</td>\n",
       "      <td>0</td>\n",
       "      <td>0</td>\n",
       "      <td>1</td>\n",
       "      <td>0</td>\n",
       "      <td>0</td>\n",
       "    </tr>\n",
       "  </tbody>\n",
       "</table>\n",
       "<p>5 rows × 153 columns</p>\n",
       "</div>"
      ],
      "text/plain": [
       "   B_avg_KD  B_avg_opp_KD  B_avg_SIG_STR_pct  B_avg_opp_SIG_STR_pct  \\\n",
       "1 -0.690263     -0.560499          -1.704518               1.003821   \n",
       "2 -0.690263      2.696667           0.666250               0.346643   \n",
       "4  0.616173     -0.560499          -0.789485              -0.556977   \n",
       "5 -0.690263     -0.560499          -0.469743              -0.549276   \n",
       "7 -0.608611     -0.560499           0.511253              -0.125704   \n",
       "\n",
       "   B_avg_TD_pct  B_avg_opp_TD_pct  B_avg_SUB_ATT  B_avg_opp_SUB_ATT  \\\n",
       "1     -1.119503          2.970785      -0.671011           1.041472   \n",
       "2     -0.626459         -1.027669      -0.671011          -0.632948   \n",
       "4     -0.550606          0.971558       0.761297          -0.632948   \n",
       "5      0.983048          0.221848      -0.626251           2.087984   \n",
       "7     -0.170155         -0.321692      -0.581492          -0.626407   \n",
       "\n",
       "   B_avg_REV  B_avg_opp_REV  ...  weight_class_WomenFlyweight  \\\n",
       "1  -0.470803      -0.444503  ...                            0   \n",
       "2  -0.470803      -0.444503  ...                            0   \n",
       "4  -0.470803      -0.444503  ...                            0   \n",
       "5   1.434484       1.605974  ...                            0   \n",
       "7  -0.470803      -0.444503  ...                            0   \n",
       "\n",
       "   weight_class_WomenStrawweight  B_Stance_Open Stance  B_Stance_Orthodox  \\\n",
       "1                              0                     0                  0   \n",
       "2                              0                     0                  0   \n",
       "4                              0                     0                  0   \n",
       "5                              0                     0                  1   \n",
       "7                              0                     0                  1   \n",
       "\n",
       "   B_Stance_Southpaw  B_Stance_Switch  R_Stance_Open Stance  \\\n",
       "1                  1                0                     0   \n",
       "2                  1                0                     0   \n",
       "4                  1                0                     0   \n",
       "5                  0                0                     0   \n",
       "7                  0                0                     0   \n",
       "\n",
       "   R_Stance_Orthodox  R_Stance_Southpaw  R_Stance_Switch  \n",
       "1                  0                  1                0  \n",
       "2                  0                  1                0  \n",
       "4                  0                  1                0  \n",
       "5                  0                  1                0  \n",
       "7                  1                  0                0  \n",
       "\n",
       "[5 rows x 153 columns]"
      ]
     },
     "execution_count": 76,
     "metadata": {},
     "output_type": "execute_result"
    }
   ],
   "source": [
    "X = pd.concat([X_num,X_cat],axis=1)\n",
    "print(y.value_counts())\n",
    "print(X.shape)\n",
    "X.head()"
   ]
  },
  {
   "cell_type": "code",
   "execution_count": 77,
   "id": "2dd504b5",
   "metadata": {},
   "outputs": [
    {
     "name": "stdout",
     "output_type": "stream",
     "text": [
      "\n",
      "best tree depth = {'max_depth': 3}   Best R2 = 0.611\n"
     ]
    },
    {
     "data": {
      "text/plain": [
       "<AxesSubplot:xlabel='depth'>"
      ]
     },
     "execution_count": 77,
     "metadata": {},
     "output_type": "execute_result"
    },
    {
     "data": {
      "image/png": "[encoded data removed]",
      "text/plain": [
       "<Figure size 432x288 with 1 Axes>"
      ]
     },
     "metadata": {
      "needs_background": "light"
     },
     "output_type": "display_data"
    }
   ],
   "source": [
    "grid = {'max_depth':np.arange(1,10)}\n",
    "rtree = DecisionTreeClassifier()\n",
    "treeCV = GridSearchCV(rtree,param_grid=grid,return_train_score=True)\n",
    "\n",
    "treeCV.fit(X,y)\n",
    "print()\n",
    "print('best tree depth =',treeCV.best_params_, '  Best R2 =', (treeCV.best_score_).round(3))\n",
    "\n",
    "results = pd.DataFrame()\n",
    "results['depth'] = grid['max_depth']\n",
    "results['train error'] =1 - treeCV.cv_results_['mean_train_score']\n",
    "results['valid error']  = 1 - treeCV.cv_results_['mean_test_score']\n",
    "ax1 = results.plot.line(x='depth',y='train error')\n",
    "results.plot.line(x='depth',y='valid error',ax=ax1)"
   ]
  },
  {
   "cell_type": "code",
   "execution_count": 99,
   "id": "4cbf4e64",
   "metadata": {},
   "outputs": [
    {
     "name": "stdout",
     "output_type": "stream",
     "text": [
      "['B_avg_opp_GROUND_landed' 'B_Height_cms' 'R_age' 'B_age'\n",
      " 'B_avg_SIG_STR_att' 'R_avg_opp_HEAD_landed']\n"
     ]
    }
   ],
   "source": [
    "tree = DecisionTreeClassifier(max_depth = 3)\n",
    "tree.fit(X,y)\n",
    "\n",
    "\n",
    "importances = tree.feature_importances_\n",
    "tree_importances = pd.Series(importances, index=X.columns)\n",
    "sorted = tree_importances.sort_values(ascending = True)\n",
    "importantFeatures = sorted[sorted!=0]\n",
    "print(importantFeatures.index.values)"
   ]
  },
  {
   "cell_type": "markdown",
   "id": "30c2b74a",
   "metadata": {},
   "source": [
    "### Now decision Tree with only the important features polynomial?"
   ]
  },
  {
   "cell_type": "code",
   "execution_count": 100,
   "id": "8ac8785c",
   "metadata": {},
   "outputs": [
    {
     "data": {
      "text/html": [
       "<div>\n",
       "<style scoped>\n",
       "    .dataframe tbody tr th:only-of-type {\n",
       "        vertical-align: middle;\n",
       "    }\n",
       "\n",
       "    .dataframe tbody tr th {\n",
       "        vertical-align: top;\n",
       "    }\n",
       "\n",
       "    .dataframe thead th {\n",
       "        text-align: right;\n",
       "    }\n",
       "</style>\n",
       "<table border=\"1\" class=\"dataframe\">\n",
       "  <thead>\n",
       "    <tr style=\"text-align: right;\">\n",
       "      <th></th>\n",
       "      <th>B_avg_opp_GROUND_landed</th>\n",
       "      <th>B_Height_cms</th>\n",
       "      <th>R_age</th>\n",
       "      <th>B_age</th>\n",
       "      <th>B_avg_SIG_STR_att</th>\n",
       "      <th>R_avg_opp_HEAD_landed</th>\n",
       "    </tr>\n",
       "  </thead>\n",
       "  <tbody>\n",
       "    <tr>\n",
       "      <th>1</th>\n",
       "      <td>0.254956</td>\n",
       "      <td>-0.130310</td>\n",
       "      <td>-1.258810</td>\n",
       "      <td>-0.702540</td>\n",
       "      <td>-1.062626</td>\n",
       "      <td>0.446185</td>\n",
       "    </tr>\n",
       "    <tr>\n",
       "      <th>2</th>\n",
       "      <td>0.007713</td>\n",
       "      <td>-0.719735</td>\n",
       "      <td>0.425417</td>\n",
       "      <td>0.292501</td>\n",
       "      <td>-0.424651</td>\n",
       "      <td>0.114389</td>\n",
       "    </tr>\n",
       "    <tr>\n",
       "      <th>4</th>\n",
       "      <td>-0.404359</td>\n",
       "      <td>-0.425023</td>\n",
       "      <td>-0.536998</td>\n",
       "      <td>-1.448821</td>\n",
       "      <td>-1.160776</td>\n",
       "      <td>0.030294</td>\n",
       "    </tr>\n",
       "    <tr>\n",
       "      <th>5</th>\n",
       "      <td>1.012138</td>\n",
       "      <td>-1.014448</td>\n",
       "      <td>-0.777602</td>\n",
       "      <td>0.292501</td>\n",
       "      <td>0.864793</td>\n",
       "      <td>0.739755</td>\n",
       "    </tr>\n",
       "    <tr>\n",
       "      <th>7</th>\n",
       "      <td>-0.683795</td>\n",
       "      <td>-0.719735</td>\n",
       "      <td>1.869041</td>\n",
       "      <td>0.541262</td>\n",
       "      <td>0.032973</td>\n",
       "      <td>-0.394007</td>\n",
       "    </tr>\n",
       "  </tbody>\n",
       "</table>\n",
       "</div>"
      ],
      "text/plain": [
       "   B_avg_opp_GROUND_landed  B_Height_cms     R_age     B_age  \\\n",
       "1                 0.254956     -0.130310 -1.258810 -0.702540   \n",
       "2                 0.007713     -0.719735  0.425417  0.292501   \n",
       "4                -0.404359     -0.425023 -0.536998 -1.448821   \n",
       "5                 1.012138     -1.014448 -0.777602  0.292501   \n",
       "7                -0.683795     -0.719735  1.869041  0.541262   \n",
       "\n",
       "   B_avg_SIG_STR_att  R_avg_opp_HEAD_landed  \n",
       "1          -1.062626               0.446185  \n",
       "2          -0.424651               0.114389  \n",
       "4          -1.160776               0.030294  \n",
       "5           0.864793               0.739755  \n",
       "7           0.032973              -0.394007  "
      ]
     },
     "execution_count": 100,
     "metadata": {},
     "output_type": "execute_result"
    }
   ],
   "source": [
    "\n",
    "\n",
    "X_important = X[importantFeatures.index.values]\n",
    "X_important.head()"
   ]
  },
  {
   "cell_type": "code",
   "execution_count": 101,
   "id": "f06aab73",
   "metadata": {},
   "outputs": [
    {
     "name": "stdout",
     "output_type": "stream",
     "text": [
      "             X shape = (3890, 6)\n",
      "X (engineered) shape = (3890, 27)\n",
      "\n",
      "best tree depth = {'max_depth': 3}   Best R2 = 0.612\n"
     ]
    },
    {
     "data": {
      "text/plain": [
       "<AxesSubplot:xlabel='depth'>"
      ]
     },
     "execution_count": 101,
     "metadata": {},
     "output_type": "execute_result"
    },
    {
     "data": {
      "image/png": "[encoded data removed]",
      "text/plain": [
       "<Figure size 432x288 with 1 Axes>"
      ]
     },
     "metadata": {
      "needs_background": "light"
     },
     "output_type": "display_data"
    }
   ],
   "source": [
    "grid = {'max_depth':np.arange(1,5)}\n",
    "rtree = DecisionTreeClassifier()\n",
    "treeCV = GridSearchCV(rtree,param_grid=grid,return_train_score=True)\n",
    "\n",
    "poly = PolynomialFeatures(2,interaction_only=False,include_bias=False)\n",
    "Xe = poly.fit_transform(X_important)\n",
    "cols = poly.get_feature_names(X_important.columns)\n",
    "Xe = pd.DataFrame(Xe,columns=cols)\n",
    "print('             X shape =',X_important.shape)\n",
    "print('X (engineered) shape =',Xe.shape)\n",
    "\n",
    "\n",
    "\n",
    "treeCV.fit(Xe,y)\n",
    "\n",
    "\n",
    "print()\n",
    "print('best tree depth =',treeCV.best_params_, '  Best R2 =', (treeCV.best_score_).round(3))\n",
    "\n",
    "results = pd.DataFrame()\n",
    "results['depth'] = grid['max_depth']\n",
    "results['train error'] =1 - treeCV.cv_results_['mean_train_score']\n",
    "results['valid error']  = 1 - treeCV.cv_results_['mean_test_score']\n",
    "ax1 = results.plot.line(x='depth',y='train error')\n",
    "results.plot.line(x='depth',y='valid error',ax=ax1)"
   ]
  },
  {
   "cell_type": "markdown",
   "id": "2b111ad5",
   "metadata": {},
   "source": [
    "### It got kinda better up to 61.4% from 61.1%\n",
    "lets give up on important features for now and check feature engineering on all variables with the important variables"
   ]
  },
  {
   "cell_type": "code",
   "execution_count": 96,
   "id": "10cd9c59",
   "metadata": {},
   "outputs": [],
   "source": [
    "poly = PolynomialFeatures(2,interaction_only=False,include_bias=False)\n",
    "Xf = poly.fit_transform(X)\n",
    "cols = poly.get_feature_names(X.columns)\n",
    "Xf = pd.DataFrame(Xf,columns=cols)\n",
    "res = []\n",
    "for c in Xf.columns:\n",
    "    for check in X_important.columns:\n",
    "        if(check in c):\n",
    "            res.append(c)\n",
    "\n",
    "\n",
    "            \n"
   ]
  },
  {
   "cell_type": "code",
   "execution_count": 97,
   "id": "ba946e4c",
   "metadata": {},
   "outputs": [
    {
     "name": "stdout",
     "output_type": "stream",
     "text": [
      "924  compare to the original number of features after feature engineering 11934\n"
     ]
    }
   ],
   "source": [
    "print(len(res), ' compare to the original number of features after feature engineering', Xf.shape[1])\n",
    "Xnew = Xf.filter(res,axis=1)\n",
    "\n"
   ]
  },
  {
   "cell_type": "code",
   "execution_count": 89,
   "id": "b59cac2b",
   "metadata": {},
   "outputs": [
    {
     "name": "stdout",
     "output_type": "stream",
     "text": [
      "\n",
      "best tree depth = {'max_depth': 2}   Best R2 = 0.612\n"
     ]
    },
    {
     "data": {
      "text/plain": [
       "<AxesSubplot:xlabel='depth'>"
      ]
     },
     "execution_count": 89,
     "metadata": {},
     "output_type": "execute_result"
    },
    {
     "data": {
      "image/png": "[encoded data removed]",
      "text/plain": [
       "<Figure size 432x288 with 1 Axes>"
      ]
     },
     "metadata": {
      "needs_background": "light"
     },
     "output_type": "display_data"
    }
   ],
   "source": [
    "grid = {'max_depth':np.arange(1,5)}\n",
    "rtree = DecisionTreeClassifier()\n",
    "treeCV = GridSearchCV(rtree,param_grid=grid,return_train_score=True)\n",
    "\n",
    "\n",
    "treeCV.fit(Xnew,y)\n",
    "print()\n",
    "print('best tree depth =',treeCV.best_params_, '  Best R2 =', (treeCV.best_score_).round(3))\n",
    "\n",
    "results = pd.DataFrame()\n",
    "results['depth'] = grid['max_depth']\n",
    "results['train error'] =1 - treeCV.cv_results_['mean_train_score']\n",
    "results['valid error']  = 1 - treeCV.cv_results_['mean_test_score']\n",
    "ax1 = results.plot.line(x='depth',y='train error')\n",
    "results.plot.line(x='depth',y='valid error',ax=ax1)"
   ]
  },
  {
   "cell_type": "code",
   "execution_count": 90,
   "id": "6bbebcb6",
   "metadata": {},
   "outputs": [
    {
     "name": "stdout",
     "output_type": "stream",
     "text": [
      "['B_avg_SIG_STR_att R_avg_BODY_att' 'B_win_by_Decision_Majority R_age'\n",
      " 'R_avg_opp_HEAD_landed']\n"
     ]
    }
   ],
   "source": [
    "tree = DecisionTreeClassifier(max_depth = 2)\n",
    "tree.fit(Xnew,y)\n",
    "\n",
    "\n",
    "importances = tree.feature_importances_\n",
    "tree_importances = pd.Series(importances, index=Xnew.columns)\n",
    "sorted = tree_importances.sort_values(ascending = True)\n",
    "importantFeatures = sorted[sorted!=0]\n",
    "print(importantFeatures.index.values)"
   ]
  },
  {
   "cell_type": "code",
   "execution_count": 91,
   "id": "26fa77d5",
   "metadata": {},
   "outputs": [
    {
     "data": {
      "text/html": [
       "<div>\n",
       "<style scoped>\n",
       "    .dataframe tbody tr th:only-of-type {\n",
       "        vertical-align: middle;\n",
       "    }\n",
       "\n",
       "    .dataframe tbody tr th {\n",
       "        vertical-align: top;\n",
       "    }\n",
       "\n",
       "    .dataframe thead th {\n",
       "        text-align: right;\n",
       "    }\n",
       "</style>\n",
       "<table border=\"1\" class=\"dataframe\">\n",
       "  <thead>\n",
       "    <tr style=\"text-align: right;\">\n",
       "      <th></th>\n",
       "      <th>B_avg_SIG_STR_att R_avg_BODY_att</th>\n",
       "      <th>B_win_by_Decision_Majority R_age</th>\n",
       "      <th>R_avg_opp_HEAD_landed</th>\n",
       "    </tr>\n",
       "  </thead>\n",
       "  <tbody>\n",
       "    <tr>\n",
       "      <th>0</th>\n",
       "      <td>-0.399779</td>\n",
       "      <td>0.190420</td>\n",
       "      <td>0.446185</td>\n",
       "    </tr>\n",
       "    <tr>\n",
       "      <th>1</th>\n",
       "      <td>0.002712</td>\n",
       "      <td>-0.064353</td>\n",
       "      <td>0.114389</td>\n",
       "    </tr>\n",
       "    <tr>\n",
       "      <th>2</th>\n",
       "      <td>0.043648</td>\n",
       "      <td>0.081232</td>\n",
       "      <td>0.030294</td>\n",
       "    </tr>\n",
       "    <tr>\n",
       "      <th>3</th>\n",
       "      <td>0.177267</td>\n",
       "      <td>0.117628</td>\n",
       "      <td>0.739755</td>\n",
       "    </tr>\n",
       "    <tr>\n",
       "      <th>4</th>\n",
       "      <td>0.013596</td>\n",
       "      <td>-0.282730</td>\n",
       "      <td>-0.394007</td>\n",
       "    </tr>\n",
       "  </tbody>\n",
       "</table>\n",
       "</div>"
      ],
      "text/plain": [
       "   B_avg_SIG_STR_att R_avg_BODY_att  B_win_by_Decision_Majority R_age  \\\n",
       "0                         -0.399779                          0.190420   \n",
       "1                          0.002712                         -0.064353   \n",
       "2                          0.043648                          0.081232   \n",
       "3                          0.177267                          0.117628   \n",
       "4                          0.013596                         -0.282730   \n",
       "\n",
       "   R_avg_opp_HEAD_landed  \n",
       "0               0.446185  \n",
       "1               0.114389  \n",
       "2               0.030294  \n",
       "3               0.739755  \n",
       "4              -0.394007  "
      ]
     },
     "execution_count": 91,
     "metadata": {},
     "output_type": "execute_result"
    }
   ],
   "source": [
    "X_importantPoly = Xnew[importantFeatures.index.values]\n",
    "X_importantPoly.head()"
   ]
  },
  {
   "cell_type": "code",
   "execution_count": 92,
   "id": "9bb9ca6d",
   "metadata": {},
   "outputs": [
    {
     "name": "stdout",
     "output_type": "stream",
     "text": [
      "             X shape = (3890, 3)\n",
      "X (engineered) shape = (3890, 9)\n",
      "\n",
      "best tree depth = {'max_depth': 4}   Best R2 = 0.619\n"
     ]
    },
    {
     "data": {
      "text/plain": [
       "<AxesSubplot:xlabel='depth'>"
      ]
     },
     "execution_count": 92,
     "metadata": {},
     "output_type": "execute_result"
    },
    {
     "data": {
      "image/png": "[encoded data removed]",
      "text/plain": [
       "<Figure size 432x288 with 1 Axes>"
      ]
     },
     "metadata": {
      "needs_background": "light"
     },
     "output_type": "display_data"
    }
   ],
   "source": [
    "grid = {'max_depth':np.arange(1,5)}\n",
    "rtree = DecisionTreeClassifier()\n",
    "treeCV = GridSearchCV(rtree,param_grid=grid,return_train_score=True)\n",
    "\n",
    "poly = PolynomialFeatures(2,interaction_only=False,include_bias=False)\n",
    "Xe = poly.fit_transform(X_importantPoly)\n",
    "cols = poly.get_feature_names(X_importantPoly.columns)\n",
    "Xe = pd.DataFrame(Xe,columns=cols)\n",
    "print('             X shape =',X_importantPoly.shape)\n",
    "print('X (engineered) shape =',Xe.shape)\n",
    "\n",
    "\n",
    "\n",
    "treeCV.fit(Xe,y)\n",
    "\n",
    "\n",
    "print()\n",
    "print('best tree depth =',treeCV.best_params_, '  Best R2 =', (treeCV.best_score_).round(3))\n",
    "\n",
    "results = pd.DataFrame()\n",
    "results['depth'] = grid['max_depth']\n",
    "results['train error'] =1 - treeCV.cv_results_['mean_train_score']\n",
    "results['valid error']  = 1 - treeCV.cv_results_['mean_test_score']\n",
    "ax1 = results.plot.line(x='depth',y='train error')\n",
    "results.plot.line(x='depth',y='valid error',ax=ax1)"
   ]
  },
  {
   "cell_type": "markdown",
   "id": "d404d458",
   "metadata": {},
   "source": [
    "### approx. 62% accuracy in predicting winners\n",
    "Solely based off these features polynomial degree2 interactions = false\n",
    "B_avg_SIG_STR_att X R_avg_BODY_att <br> \n",
    "B_win_by_Decision_Majority X R_age <br>\n",
    "R_avg_opp_HEAD_landed <br>\n",
    "  \n",
    "  \n",
    "Now what if we merged important and important 2? "
   ]
  },
  {
   "cell_type": "code",
   "execution_count": 93,
   "id": "4871ac1b",
   "metadata": {},
   "outputs": [
    {
     "name": "stdout",
     "output_type": "stream",
     "text": [
      "['B_avg_opp_GROUND_landed', 'B_Height_cms', 'R_age', 'B_age', 'B_avg_SIG_STR_att']\n"
     ]
    }
   ],
   "source": [
    "cols = X_importantPoly\n",
    "res = []\n",
    "for i in X_important:\n",
    "    if(i not in cols):\n",
    "        res.append(i)\n",
    "        \n",
    "print(res)"
   ]
  }
 ],
 "metadata": {
  "kernelspec": {
   "display_name": "Python 3 (ipykernel)",
   "language": "python",
   "name": "python3"
  },
  "language_info": {
   "codemirror_mode": {
    "name": "ipython",
    "version": 3
   },
   "file_extension": ".py",
   "mimetype": "text/x-python",
   "name": "python",
   "nbconvert_exporter": "python",
   "pygments_lexer": "ipython3",
   "version": "3.9.7"
  }
 },
 "nbformat": 4,
 "nbformat_minor": 5
}
