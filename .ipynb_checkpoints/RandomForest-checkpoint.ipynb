{
 "cells": [
  {
   "cell_type": "code",
   "execution_count": 1,
   "id": "56da252b",
   "metadata": {},
   "outputs": [],
   "source": [
    "import pandas as pd\n",
    "import numpy as np\n",
    "from sklearn.model_selection import train_test_split,GridSearchCV\n",
    "from sklearn.ensemble import RandomForestClassifier"
   ]
  },
  {
   "cell_type": "code",
   "execution_count": 2,
   "id": "6c57f098",
   "metadata": {},
   "outputs": [],
   "source": [
    "ufc = pd.read_csv('../../Data/UFCdata.csv')"
   ]
  },
  {
   "cell_type": "code",
   "execution_count": 3,
   "id": "8234c8c9",
   "metadata": {},
   "outputs": [],
   "source": [
    "ufc = ufc.dropna()\n",
    "ufc = ufc.drop(['R_fighter','B_fighter','Referee','date','location'],axis=1)"
   ]
  },
  {
   "cell_type": "code",
   "execution_count": 4,
   "id": "3d93c118",
   "metadata": {},
   "outputs": [],
   "source": [
    "ufc_dummy = pd.get_dummies(ufc.loc[:, ufc.columns != 'Winner'])\n",
    "ufc_dummy['Winner'] = ufc.Winner\n",
    "ufc = ufc_dummy"
   ]
  },
  {
   "cell_type": "code",
   "execution_count": 5,
   "id": "3f491d5e",
   "metadata": {},
   "outputs": [],
   "source": [
    "ufc_train,ufc_test = train_test_split(ufc,test_size=0.2,random_state=321,stratify=ufc.Winner)"
   ]
  },
  {
   "cell_type": "code",
   "execution_count": 6,
   "id": "612b5153",
   "metadata": {},
   "outputs": [],
   "source": [
    "features_train = ufc_train.drop('Winner',axis=1)\n",
    "features_test = ufc_test.drop('Winner',axis=1)\n",
    "target_train = ufc_train.Winner\n",
    "target_test = ufc_test.Winner"
   ]
  },
  {
   "cell_type": "code",
   "execution_count": 7,
   "id": "fe2f6956",
   "metadata": {},
   "outputs": [],
   "source": [
    "n_estimators = np.arange(1,1000,100)\n",
    "max_depth = np.arange(1,100,10)\n",
    "params = {'n_estimators':n_estimators,'max_depth':max_depth}"
   ]
  },
  {
   "cell_type": "code",
   "execution_count": 8,
   "id": "64724b06",
   "metadata": {},
   "outputs": [
    {
     "data": {
      "text/plain": [
       "GridSearchCV(estimator=RandomForestClassifier(random_state=321), n_jobs=-1,\n",
       "             param_grid={'max_depth': array([ 1, 11, 21, 31, 41, 51, 61, 71, 81, 91]),\n",
       "                         'n_estimators': array([  1, 101, 201, 301, 401, 501, 601, 701, 801, 901])},\n",
       "             return_train_score=True)"
      ]
     },
     "execution_count": 8,
     "metadata": {},
     "output_type": "execute_result"
    }
   ],
   "source": [
    "rf = RandomForestClassifier(random_state=321)\n",
    "rfCV = GridSearchCV(rf,param_grid=params,return_train_score=True,n_jobs=-1)\n",
    "rfCV.fit(features_train,target_train)"
   ]
  },
  {
   "cell_type": "code",
   "execution_count": 9,
   "id": "d84c59a6",
   "metadata": {},
   "outputs": [
    {
     "name": "stdout",
     "output_type": "stream",
     "text": [
      "Optimal n_estimators: 301\n",
      "Optimal max_depth: 21\n",
      "Optimal Train Accuracy: 1.0\n",
      "Optimal Validation Accuracy: 0.634\n",
      "Optimal Test Accuracy: 0.63\n"
     ]
    }
   ],
   "source": [
    "optimal_index = rfCV.cv_results_['mean_test_score'].argmax()\n",
    "train_score = rfCV.cv_results_['mean_train_score'][optimal_index]\n",
    "validation_score = rfCV.cv_results_['mean_test_score'][optimal_index]\n",
    "test_score = rfCV.best_estimator_.score(features_test,target_test)\n",
    "print(\"Optimal n_estimators:\",rfCV.best_params_['n_estimators'])\n",
    "print(\"Optimal max_depth:\",rfCV.best_params_['max_depth'])\n",
    "print(\"Optimal Train Accuracy:\",round(train_score,3))\n",
    "print(\"Optimal Validation Accuracy:\",round(validation_score,3))\n",
    "print(\"Optimal Test Accuracy:\",round(test_score,3))"
   ]
  },
  {
   "cell_type": "code",
   "execution_count": 10,
   "id": "8447fcf0",
   "metadata": {},
   "outputs": [],
   "source": [
    "n_estimators = np.arange(150,450,30)\n",
    "max_depth = np.arange(15,35,5)\n",
    "params = {'n_estimators':n_estimators,'max_depth':max_depth}"
   ]
  },
  {
   "cell_type": "code",
   "execution_count": 11,
   "id": "c480ec4a",
   "metadata": {},
   "outputs": [
    {
     "data": {
      "text/plain": [
       "GridSearchCV(estimator=RandomForestClassifier(random_state=123), n_jobs=-1,\n",
       "             param_grid={'max_depth': array([15, 20, 25, 30]),\n",
       "                         'n_estimators': array([150, 180, 210, 240, 270, 300, 330, 360, 390, 420])},\n",
       "             return_train_score=True)"
      ]
     },
     "execution_count": 11,
     "metadata": {},
     "output_type": "execute_result"
    }
   ],
   "source": [
    "rf = RandomForestClassifier(random_state=123)\n",
    "rfCV = GridSearchCV(rf,param_grid=params,return_train_score=True,n_jobs=-1)\n",
    "rfCV.fit(features_train,target_train)"
   ]
  },
  {
   "cell_type": "code",
   "execution_count": 12,
   "id": "27d8c943",
   "metadata": {},
   "outputs": [
    {
     "name": "stdout",
     "output_type": "stream",
     "text": [
      "Optimal n_estimators: 270\n",
      "Optimal max_depth: 15\n",
      "Optimal Train Accuracy: 1.0\n",
      "Optimal Validation Accuracy: 0.634\n",
      "Optimal Test Accuracy: 0.631\n"
     ]
    }
   ],
   "source": [
    "optimal_index = rfCV.cv_results_['mean_test_score'].argmax()\n",
    "train_score = rfCV.cv_results_['mean_train_score'][optimal_index]\n",
    "validation_score = rfCV.cv_results_['mean_test_score'][optimal_index]\n",
    "test_score = rfCV.best_estimator_.score(features_test,target_test)\n",
    "print(\"Optimal n_estimators:\",rfCV.best_params_['n_estimators'])\n",
    "print(\"Optimal max_depth:\",rfCV.best_params_['max_depth'])\n",
    "print(\"Optimal Train Accuracy:\",round(train_score,3))\n",
    "print(\"Optimal Validation Accuracy:\",round(validation_score,3))\n",
    "print(\"Optimal Test Accuracy:\",round(test_score,3))"
   ]
  },
  {
   "cell_type": "code",
   "execution_count": 13,
   "id": "c5ee410c",
   "metadata": {},
   "outputs": [
    {
     "name": "stdout",
     "output_type": "stream",
     "text": [
      "Baseline Accuracy: 0.616\n"
     ]
    }
   ],
   "source": [
    "baseline_score = sum(target_test == \"Red\") / len(target_test)\n",
    "print(\"Baseline Accuracy:\",round(baseline_score,3))"
   ]
  }
 ],
 "metadata": {
  "kernelspec": {
   "display_name": "Python 3",
   "language": "python",
   "name": "python3"
  },
  "language_info": {
   "codemirror_mode": {
    "name": "ipython",
    "version": 3
   },
   "file_extension": ".py",
   "mimetype": "text/x-python",
   "name": "python",
   "nbconvert_exporter": "python",
   "pygments_lexer": "ipython3",
   "version": "3.8.8"
  }
 },
 "nbformat": 4,
 "nbformat_minor": 5
}
