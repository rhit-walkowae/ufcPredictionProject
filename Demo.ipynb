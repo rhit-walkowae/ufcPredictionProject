{
 "cells": [
  {
   "cell_type": "code",
   "execution_count": 1,
   "id": "9a02d398",
   "metadata": {},
   "outputs": [],
   "source": [
    "import pandas as pd\n",
    "import numpy as np\n",
    "from sklearn.model_selection import train_test_split,GridSearchCV\n",
    "from sklearn.ensemble import RandomForestClassifier"
   ]
  },
  {
   "cell_type": "code",
   "execution_count": 2,
   "id": "d6aeaef8",
   "metadata": {},
   "outputs": [],
   "source": [
    "ufc = pd.read_csv('../../Data/UFCdata.csv')"
   ]
  },
  {
   "cell_type": "code",
   "execution_count": 3,
   "id": "f30b10a7",
   "metadata": {},
   "outputs": [],
   "source": [
    "ufc.date = pd.to_datetime(ufc.date)"
   ]
  },
  {
   "cell_type": "code",
   "execution_count": 4,
   "id": "9a588c70",
   "metadata": {},
   "outputs": [],
   "source": [
    "drop_columns = ['B_fighter', 'R_fighter', 'Referee','date','location', \"weight_class\", \"title_bout\",\n",
    "               'R_avg_KD', 'R_avg_opp_KD', 'R_avg_SIG_STR_pct', 'R_avg_opp_SIG_STR_pct',\n",
    "               'R_avg_TD_pct', 'R_avg_opp_TD_pct', 'R_avg_SUB_ATT',\n",
    "               'R_avg_opp_SUB_ATT', 'R_avg_REV', 'R_avg_opp_REV',\n",
    "               'R_avg_SIG_STR_att', 'R_avg_SIG_STR_landed',\n",
    "               'R_avg_opp_SIG_STR_att', 'R_avg_opp_SIG_STR_landed',\n",
    "               'R_avg_TOTAL_STR_att', 'R_avg_TOTAL_STR_landed',\n",
    "               'R_avg_opp_TOTAL_STR_att', 'R_avg_opp_TOTAL_STR_landed',\n",
    "               'R_avg_TD_att', 'R_avg_TD_landed', 'R_avg_opp_TD_att',\n",
    "               'R_avg_opp_TD_landed', 'R_avg_HEAD_att', 'R_avg_HEAD_landed',\n",
    "               'R_avg_opp_HEAD_att', 'R_avg_opp_HEAD_landed', 'R_avg_BODY_att',\n",
    "               'R_avg_BODY_landed', 'R_avg_opp_BODY_att', 'R_avg_opp_BODY_landed',\n",
    "               'R_avg_LEG_att', 'R_avg_LEG_landed', 'R_avg_opp_LEG_att',\n",
    "               'R_avg_opp_LEG_landed', 'R_avg_DISTANCE_att',\n",
    "               'R_avg_DISTANCE_landed', 'R_avg_opp_DISTANCE_att',\n",
    "               'R_avg_opp_DISTANCE_landed', 'R_avg_CLINCH_att',\n",
    "               'R_avg_CLINCH_landed', 'R_avg_opp_CLINCH_att',\n",
    "               'R_avg_opp_CLINCH_landed', 'R_avg_GROUND_att',\n",
    "               'R_avg_GROUND_landed', 'R_avg_opp_GROUND_att',\n",
    "               'R_avg_opp_GROUND_landed', 'R_avg_CTRL_time(seconds)',\n",
    "               'R_avg_opp_CTRL_time(seconds)', 'R_total_time_fought(seconds)',\n",
    "               'R_total_rounds_fought', 'R_total_title_bouts',\n",
    "               'R_current_win_streak', 'R_current_lose_streak',\n",
    "               'R_longest_win_streak', 'R_wins', 'R_losses', 'R_draw',\n",
    "               'R_win_by_Decision_Majority', 'R_win_by_Decision_Split',\n",
    "               'R_win_by_Decision_Unanimous', 'R_win_by_KO/TKO',\n",
    "               'R_win_by_Submission', 'R_win_by_TKO_Doctor_Stoppage', 'R_Stance',\n",
    "               'R_Height_cms', 'R_Reach_cms', 'R_Weight_lbs', 'R_age']\n",
    "stat_columns = ['B_avg_KD', 'B_avg_opp_KD',\n",
    "               'B_avg_SIG_STR_pct', 'B_avg_opp_SIG_STR_pct', 'B_avg_TD_pct',\n",
    "               'B_avg_opp_TD_pct', 'B_avg_SUB_ATT', 'B_avg_opp_SUB_ATT',\n",
    "               'B_avg_REV', 'B_avg_opp_REV', 'B_avg_SIG_STR_att',\n",
    "               'B_avg_SIG_STR_landed', 'B_avg_opp_SIG_STR_att',\n",
    "               'B_avg_opp_SIG_STR_landed', 'B_avg_TOTAL_STR_att',\n",
    "               'B_avg_TOTAL_STR_landed', 'B_avg_opp_TOTAL_STR_att',\n",
    "               'B_avg_opp_TOTAL_STR_landed', 'B_avg_TD_att', 'B_avg_TD_landed',\n",
    "               'B_avg_opp_TD_att', 'B_avg_opp_TD_landed', 'B_avg_HEAD_att',\n",
    "               'B_avg_HEAD_landed', 'B_avg_opp_HEAD_att', 'B_avg_opp_HEAD_landed',\n",
    "               'B_avg_BODY_att', 'B_avg_BODY_landed', 'B_avg_opp_BODY_att',\n",
    "               'B_avg_opp_BODY_landed', 'B_avg_LEG_att', 'B_avg_LEG_landed',\n",
    "               'B_avg_opp_LEG_att', 'B_avg_opp_LEG_landed', 'B_avg_DISTANCE_att',\n",
    "               'B_avg_DISTANCE_landed', 'B_avg_opp_DISTANCE_att',\n",
    "               'B_avg_opp_DISTANCE_landed', 'B_avg_CLINCH_att',\n",
    "               'B_avg_CLINCH_landed', 'B_avg_opp_CLINCH_att',\n",
    "               'B_avg_opp_CLINCH_landed', 'B_avg_GROUND_att',\n",
    "               'B_avg_GROUND_landed', 'B_avg_opp_GROUND_att',\n",
    "               'B_avg_opp_GROUND_landed', 'B_avg_CTRL_time(seconds)',\n",
    "               'B_avg_opp_CTRL_time(seconds)', 'B_total_time_fought(seconds)',\n",
    "               'B_total_rounds_fought', 'B_total_title_bouts',\n",
    "               'B_current_win_streak', 'B_current_lose_streak',\n",
    "               'B_longest_win_streak', 'B_wins', 'B_losses', 'B_draw',\n",
    "               'B_win_by_Decision_Majority', 'B_win_by_Decision_Split',\n",
    "               'B_win_by_Decision_Unanimous', 'B_win_by_KO/TKO',\n",
    "               'B_win_by_Submission', 'B_win_by_TKO_Doctor_Stoppage', 'B_Stance',\n",
    "               'B_Height_cms', 'B_Reach_cms', 'B_Weight_lbs', \"B_age\"]\n",
    "keep_columns = list(set(ufc.columns) - set(drop_columns) - set(stat_columns))\n",
    "num_cols_iprocess = [\"total_rounds_fought\",\"total_title_bouts\",\"current_win_streak\",\n",
    "                     \"current_lose_streak\",\"wins\",\"losses\",\"win_by_Decision_Majority\",\n",
    "                     \"win_by_Decision_Split\",\"win_by_Decision_Unanimous\",\"win_by_KO/TKO\",\n",
    "                     \"win_by_Submission\",\"win_by_TKO_Doctor_Stoppage\",\"longest_win_streak\",\n",
    "                     \"draw\"]"
   ]
  },
  {
   "cell_type": "code",
   "execution_count": 5,
   "id": "71a8a5e9",
   "metadata": {},
   "outputs": [],
   "source": [
    "ufc_name_list = np.unique(np.append(ufc.R_fighter.values,ufc.B_fighter.values))\n",
    "ufc_test = pd.DataFrame(columns=keep_columns+[s[2:] for s in stat_columns])\n",
    "for fighter in ufc_name_list:\n",
    "    fights = ufc[(ufc.R_fighter == fighter) | (ufc.B_fighter == fighter)]\n",
    "    last_fight = fights.sort_values(by=\"date\",ascending=False).head(1)\n",
    "    last_fight.index = [fighter]\n",
    "    last_fight = last_fight.drop(drop_columns,axis=1)\n",
    "    last_fight.columns = ['Winner'] + list(last_fight[stat_columns].columns.str[2:])\n",
    "    ufc_test = ufc_test.append(last_fight)"
   ]
  },
  {
   "cell_type": "code",
   "execution_count": 6,
   "id": "97d60b83",
   "metadata": {},
   "outputs": [],
   "source": [
    "ufc_test[\"Stance_Open Stance\"] = 0\n",
    "ufc_test[num_cols_iprocess] = ufc_test[num_cols_iprocess].astype(int)"
   ]
  },
  {
   "cell_type": "code",
   "execution_count": 7,
   "id": "df1e9474",
   "metadata": {},
   "outputs": [],
   "source": [
    "ufc_test = ufc_test.dropna()\n",
    "ufc_test_dummy = pd.get_dummies(ufc_test.loc[:, ufc_test.columns!='Winner'])\n",
    "ufc_test_dummy['Winner'] = ufc_test.Winner\n",
    "ufc_test = ufc_test_dummy"
   ]
  },
  {
   "cell_type": "code",
   "execution_count": 8,
   "id": "49759067",
   "metadata": {},
   "outputs": [],
   "source": [
    "features_test = ufc_test.drop('Winner',axis=1)\n",
    "target_test = ufc_test.Winner"
   ]
  },
  {
   "cell_type": "code",
   "execution_count": 9,
   "id": "2e36d441",
   "metadata": {},
   "outputs": [],
   "source": [
    "ufc_train = ufc.dropna()\n",
    "ufc_train = ufc_train.drop(['R_fighter','B_fighter','Referee','date','location',\"weight_class\",\"title_bout\"],axis=1)\n",
    "ufc_train_dummy = pd.get_dummies(ufc_train.loc[:, ufc_train.columns!='Winner'])\n",
    "ufc_train_dummy['Winner'] = ufc_train.Winner\n",
    "ufc_train = ufc_train_dummy\n",
    "ufc_train = ufc_train.reindex(sorted(ufc_train.columns), axis=1)"
   ]
  },
  {
   "cell_type": "code",
   "execution_count": 10,
   "id": "8d81267b",
   "metadata": {},
   "outputs": [],
   "source": [
    "features_train = ufc_train.drop('Winner',axis=1)\n",
    "target_train = ufc_train.Winner"
   ]
  },
  {
   "cell_type": "code",
   "execution_count": 11,
   "id": "5a85761a",
   "metadata": {},
   "outputs": [
    {
     "data": {
      "text/plain": [
       "RandomForestClassifier(max_depth=21, n_estimators=301, random_state=321)"
      ]
     },
     "execution_count": 11,
     "metadata": {},
     "output_type": "execute_result"
    }
   ],
   "source": [
    "rf = RandomForestClassifier(n_estimators=301,max_depth=21,random_state=321)\n",
    "rf.fit(features_train,target_train)"
   ]
  },
  {
   "cell_type": "code",
   "execution_count": 12,
   "id": "fc45215e",
   "metadata": {},
   "outputs": [],
   "source": [
    "def predict_fight(fighter1,fighter2):\n",
    "    red = features_test[features_test.index==fighter1]\n",
    "    red.columns = [\"R_\"+i for i in red.columns]\n",
    "    red.index = [0]\n",
    "    blue = features_test[features_test.index==fighter2]\n",
    "    blue.columns = [\"B_\"+i for i in blue.columns]\n",
    "    blue.index = [0]\n",
    "    fight = pd.concat([red,blue],axis=1)\n",
    "    fight = fight.reindex(sorted(fight.columns), axis=1)\n",
    "    color = rf.predict(fight)[0]\n",
    "    if color == \"Red\":\n",
    "        return fighter1\n",
    "    else:\n",
    "        return fighter2"
   ]
  },
  {
   "cell_type": "code",
   "execution_count": 14,
   "id": "8a185617",
   "metadata": {},
   "outputs": [
    {
     "name": "stdout",
     "output_type": "stream",
     "text": [
      "Khabib Nurmagomedov\n",
      "Aleksandar Rakic\n",
      "Ryan Spann\n",
      "Katlyn Chookagian\n"
     ]
    }
   ],
   "source": [
    "print(predict_fight(\"Khabib Nurmagomedov\",\"Conor McGregor\"))\n",
    "print(predict_fight(\"Jan Blachowicz\",\"Aleksandar Rakic\"))\n",
    "print(predict_fight(\"Ryan Spann\",\"Ryan Spann\"))\n",
    "print(predict_fight(\"Katlyn Chookagian\",\"Amanda Ribas\"))"
   ]
  },
  {
   "cell_type": "code",
   "execution_count": 15,
   "id": "1dc1a0b6",
   "metadata": {},
   "outputs": [
    {
     "name": "stdout",
     "output_type": "stream",
     "text": [
      "Max Holloway\n"
     ]
    }
   ],
   "source": [
    "print(predict_fight(\"Max Holloway\",\"Dustin Poirier\"))"
   ]
  },
  {
   "cell_type": "code",
   "execution_count": null,
   "id": "e78641e4",
   "metadata": {},
   "outputs": [],
   "source": []
  }
 ],
 "metadata": {
  "kernelspec": {
   "display_name": "Python 3",
   "language": "python",
   "name": "python3"
  },
  "language_info": {
   "codemirror_mode": {
    "name": "ipython",
    "version": 3
   },
   "file_extension": ".py",
   "mimetype": "text/x-python",
   "name": "python",
   "nbconvert_exporter": "python",
   "pygments_lexer": "ipython3",
   "version": "3.8.8"
  }
 },
 "nbformat": 4,
 "nbformat_minor": 5
}
