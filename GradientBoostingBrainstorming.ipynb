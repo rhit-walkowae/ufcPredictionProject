{
 "cells": [
  {
   "cell_type": "markdown",
   "id": "3fe64b4e",
   "metadata": {},
   "source": [
    "### Decsion Trees\n",
    "A file to explore applicaitons of Decision Tree Classifiers for predicting the winner of a fight"
   ]
  },
  {
   "cell_type": "code",
   "execution_count": 1,
   "id": "cf36590f",
   "metadata": {},
   "outputs": [],
   "source": [
    "import pandas as pd\n",
    "import numpy as np\n",
    "import matplotlib.pyplot as plt\n",
    "import os\n",
    "from sklearn.model_selection import GridSearchCV\n",
    "from sklearn.tree import DecisionTreeClassifier\n",
    "from sklearn.neighbors import KNeighborsClassifier\n",
    "from sklearn.linear_model import LogisticRegression\n",
    "from sklearn.preprocessing import PolynomialFeatures"
   ]
  },
  {
   "cell_type": "code",
   "execution_count": 2,
   "id": "7d715100",
   "metadata": {},
   "outputs": [
    {
     "data": {
      "text/plain": [
       "'C:\\\\Users\\\\walkowae\\\\Desktop\\\\GitProjects\\\\UfcDiffData.csv'"
      ]
     },
     "execution_count": 2,
     "metadata": {},
     "output_type": "execute_result"
    }
   ],
   "source": [
    "path = os.getcwd()\n",
    "p = path.removesuffix('ufcPredictionProject')\n",
    "p= p+'UfcDiffData.csv'\n",
    "p"
   ]
  },
  {
   "cell_type": "code",
   "execution_count": 3,
   "id": "5f26f081",
   "metadata": {},
   "outputs": [
    {
     "data": {
      "text/html": [
       "<div>\n",
       "<style scoped>\n",
       "    .dataframe tbody tr th:only-of-type {\n",
       "        vertical-align: middle;\n",
       "    }\n",
       "\n",
       "    .dataframe tbody tr th {\n",
       "        vertical-align: top;\n",
       "    }\n",
       "\n",
       "    .dataframe thead th {\n",
       "        text-align: right;\n",
       "    }\n",
       "</style>\n",
       "<table border=\"1\" class=\"dataframe\">\n",
       "  <thead>\n",
       "    <tr style=\"text-align: right;\">\n",
       "      <th></th>\n",
       "      <th>DIFF_avg_KD</th>\n",
       "      <th>DIFF_avg_opp_KD</th>\n",
       "      <th>DIFF_avg_SIG_STR_pct</th>\n",
       "      <th>DIFF_avg_opp_SIG_STR_pct</th>\n",
       "      <th>DIFF_avg_TD_pct</th>\n",
       "      <th>DIFF_avg_opp_TD_pct</th>\n",
       "      <th>DIFF_avg_SUB_ATT</th>\n",
       "      <th>DIFF_avg_opp_SUB_ATT</th>\n",
       "      <th>DIFF_avg_REV</th>\n",
       "      <th>DIFF_avg_opp_REV</th>\n",
       "      <th>...</th>\n",
       "      <th>weight_class_WomenStrawweight</th>\n",
       "      <th>Fighters_Stance_Open Stance</th>\n",
       "      <th>Fighters_Stance_Orthodox</th>\n",
       "      <th>Fighters_Stance_Southpaw</th>\n",
       "      <th>Fighters_Stance_Switch</th>\n",
       "      <th>Opponent_Stance_Open Stance</th>\n",
       "      <th>Opponent_Stance_Orthodox</th>\n",
       "      <th>Opponent_Stance_Southpaw</th>\n",
       "      <th>Opponent_Stance_Switch</th>\n",
       "      <th>Result</th>\n",
       "    </tr>\n",
       "  </thead>\n",
       "  <tbody>\n",
       "    <tr>\n",
       "      <th>0</th>\n",
       "      <td>0.0</td>\n",
       "      <td>0.000000</td>\n",
       "      <td>0.200000</td>\n",
       "      <td>-0.010000</td>\n",
       "      <td>0.000000</td>\n",
       "      <td>-0.380000</td>\n",
       "      <td>1.000000</td>\n",
       "      <td>0.0</td>\n",
       "      <td>1.0</td>\n",
       "      <td>1.0</td>\n",
       "      <td>...</td>\n",
       "      <td>0</td>\n",
       "      <td>0</td>\n",
       "      <td>0</td>\n",
       "      <td>1</td>\n",
       "      <td>0</td>\n",
       "      <td>0</td>\n",
       "      <td>0</td>\n",
       "      <td>1</td>\n",
       "      <td>0</td>\n",
       "      <td>Loss</td>\n",
       "    </tr>\n",
       "    <tr>\n",
       "      <th>1</th>\n",
       "      <td>0.0</td>\n",
       "      <td>-0.960938</td>\n",
       "      <td>-0.238047</td>\n",
       "      <td>-0.092422</td>\n",
       "      <td>0.007031</td>\n",
       "      <td>0.134766</td>\n",
       "      <td>0.007812</td>\n",
       "      <td>0.0</td>\n",
       "      <td>0.0</td>\n",
       "      <td>0.0</td>\n",
       "      <td>...</td>\n",
       "      <td>0</td>\n",
       "      <td>0</td>\n",
       "      <td>0</td>\n",
       "      <td>1</td>\n",
       "      <td>0</td>\n",
       "      <td>0</td>\n",
       "      <td>0</td>\n",
       "      <td>1</td>\n",
       "      <td>0</td>\n",
       "      <td>Loss</td>\n",
       "    </tr>\n",
       "    <tr>\n",
       "      <th>2</th>\n",
       "      <td>-0.5</td>\n",
       "      <td>0.625000</td>\n",
       "      <td>0.071250</td>\n",
       "      <td>0.031250</td>\n",
       "      <td>0.162500</td>\n",
       "      <td>-0.343750</td>\n",
       "      <td>-0.875000</td>\n",
       "      <td>0.0</td>\n",
       "      <td>0.0</td>\n",
       "      <td>0.0</td>\n",
       "      <td>...</td>\n",
       "      <td>0</td>\n",
       "      <td>0</td>\n",
       "      <td>0</td>\n",
       "      <td>1</td>\n",
       "      <td>0</td>\n",
       "      <td>0</td>\n",
       "      <td>0</td>\n",
       "      <td>1</td>\n",
       "      <td>0</td>\n",
       "      <td>Win</td>\n",
       "    </tr>\n",
       "  </tbody>\n",
       "</table>\n",
       "<p>3 rows × 89 columns</p>\n",
       "</div>"
      ],
      "text/plain": [
       "   DIFF_avg_KD  DIFF_avg_opp_KD  DIFF_avg_SIG_STR_pct  \\\n",
       "0          0.0         0.000000              0.200000   \n",
       "1          0.0        -0.960938             -0.238047   \n",
       "2         -0.5         0.625000              0.071250   \n",
       "\n",
       "   DIFF_avg_opp_SIG_STR_pct  DIFF_avg_TD_pct  DIFF_avg_opp_TD_pct  \\\n",
       "0                 -0.010000         0.000000            -0.380000   \n",
       "1                 -0.092422         0.007031             0.134766   \n",
       "2                  0.031250         0.162500            -0.343750   \n",
       "\n",
       "   DIFF_avg_SUB_ATT  DIFF_avg_opp_SUB_ATT  DIFF_avg_REV  DIFF_avg_opp_REV  \\\n",
       "0          1.000000                   0.0           1.0               1.0   \n",
       "1          0.007812                   0.0           0.0               0.0   \n",
       "2         -0.875000                   0.0           0.0               0.0   \n",
       "\n",
       "   ...  weight_class_WomenStrawweight  Fighters_Stance_Open Stance  \\\n",
       "0  ...                              0                            0   \n",
       "1  ...                              0                            0   \n",
       "2  ...                              0                            0   \n",
       "\n",
       "   Fighters_Stance_Orthodox  Fighters_Stance_Southpaw  Fighters_Stance_Switch  \\\n",
       "0                         0                         1                       0   \n",
       "1                         0                         1                       0   \n",
       "2                         0                         1                       0   \n",
       "\n",
       "   Opponent_Stance_Open Stance  Opponent_Stance_Orthodox  \\\n",
       "0                            0                         0   \n",
       "1                            0                         0   \n",
       "2                            0                         0   \n",
       "\n",
       "   Opponent_Stance_Southpaw  Opponent_Stance_Switch  Result  \n",
       "0                         1                       0    Loss  \n",
       "1                         1                       0    Loss  \n",
       "2                         1                       0     Win  \n",
       "\n",
       "[3 rows x 89 columns]"
      ]
     },
     "execution_count": 3,
     "metadata": {},
     "output_type": "execute_result"
    }
   ],
   "source": [
    "df = pd.read_csv(p)\n",
    "df = df.drop(['Unnamed: 0'], axis = 1)\n",
    "\n",
    "df.head(3)\n"
   ]
  },
  {
   "cell_type": "code",
   "execution_count": 4,
   "id": "cddad125",
   "metadata": {},
   "outputs": [
    {
     "name": "stdout",
     "output_type": "stream",
     "text": [
      "Index([], dtype='object')\n"
     ]
    },
    {
     "data": {
      "text/html": [
       "<div>\n",
       "<style scoped>\n",
       "    .dataframe tbody tr th:only-of-type {\n",
       "        vertical-align: middle;\n",
       "    }\n",
       "\n",
       "    .dataframe tbody tr th {\n",
       "        vertical-align: top;\n",
       "    }\n",
       "\n",
       "    .dataframe thead th {\n",
       "        text-align: right;\n",
       "    }\n",
       "</style>\n",
       "<table border=\"1\" class=\"dataframe\">\n",
       "  <thead>\n",
       "    <tr style=\"text-align: right;\">\n",
       "      <th></th>\n",
       "      <th>DIFF_avg_KD</th>\n",
       "      <th>DIFF_avg_opp_KD</th>\n",
       "      <th>DIFF_avg_SIG_STR_pct</th>\n",
       "      <th>DIFF_avg_opp_SIG_STR_pct</th>\n",
       "      <th>DIFF_avg_TD_pct</th>\n",
       "      <th>DIFF_avg_opp_TD_pct</th>\n",
       "      <th>DIFF_avg_SUB_ATT</th>\n",
       "      <th>DIFF_avg_opp_SUB_ATT</th>\n",
       "      <th>DIFF_avg_REV</th>\n",
       "      <th>DIFF_avg_opp_REV</th>\n",
       "      <th>...</th>\n",
       "      <th>weight_class_WomenStrawweight</th>\n",
       "      <th>Fighters_Stance_Open Stance</th>\n",
       "      <th>Fighters_Stance_Orthodox</th>\n",
       "      <th>Fighters_Stance_Southpaw</th>\n",
       "      <th>Fighters_Stance_Switch</th>\n",
       "      <th>Opponent_Stance_Open Stance</th>\n",
       "      <th>Opponent_Stance_Orthodox</th>\n",
       "      <th>Opponent_Stance_Southpaw</th>\n",
       "      <th>Opponent_Stance_Switch</th>\n",
       "      <th>Result</th>\n",
       "    </tr>\n",
       "  </thead>\n",
       "  <tbody>\n",
       "    <tr>\n",
       "      <th>0</th>\n",
       "      <td>0.000000</td>\n",
       "      <td>0.000000</td>\n",
       "      <td>0.200000</td>\n",
       "      <td>-0.010000</td>\n",
       "      <td>0.000000</td>\n",
       "      <td>-0.380000</td>\n",
       "      <td>1.000000</td>\n",
       "      <td>0.000000</td>\n",
       "      <td>1.000</td>\n",
       "      <td>1.000000</td>\n",
       "      <td>...</td>\n",
       "      <td>0</td>\n",
       "      <td>0</td>\n",
       "      <td>0</td>\n",
       "      <td>1</td>\n",
       "      <td>0</td>\n",
       "      <td>0</td>\n",
       "      <td>0</td>\n",
       "      <td>1</td>\n",
       "      <td>0</td>\n",
       "      <td>Loss</td>\n",
       "    </tr>\n",
       "    <tr>\n",
       "      <th>1</th>\n",
       "      <td>0.000000</td>\n",
       "      <td>-0.960938</td>\n",
       "      <td>-0.238047</td>\n",
       "      <td>-0.092422</td>\n",
       "      <td>0.007031</td>\n",
       "      <td>0.134766</td>\n",
       "      <td>0.007812</td>\n",
       "      <td>0.000000</td>\n",
       "      <td>0.000</td>\n",
       "      <td>0.000000</td>\n",
       "      <td>...</td>\n",
       "      <td>0</td>\n",
       "      <td>0</td>\n",
       "      <td>0</td>\n",
       "      <td>1</td>\n",
       "      <td>0</td>\n",
       "      <td>0</td>\n",
       "      <td>0</td>\n",
       "      <td>1</td>\n",
       "      <td>0</td>\n",
       "      <td>Loss</td>\n",
       "    </tr>\n",
       "    <tr>\n",
       "      <th>2</th>\n",
       "      <td>-0.500000</td>\n",
       "      <td>0.625000</td>\n",
       "      <td>0.071250</td>\n",
       "      <td>0.031250</td>\n",
       "      <td>0.162500</td>\n",
       "      <td>-0.343750</td>\n",
       "      <td>-0.875000</td>\n",
       "      <td>0.000000</td>\n",
       "      <td>0.000</td>\n",
       "      <td>0.000000</td>\n",
       "      <td>...</td>\n",
       "      <td>0</td>\n",
       "      <td>0</td>\n",
       "      <td>0</td>\n",
       "      <td>1</td>\n",
       "      <td>0</td>\n",
       "      <td>0</td>\n",
       "      <td>0</td>\n",
       "      <td>1</td>\n",
       "      <td>0</td>\n",
       "      <td>Win</td>\n",
       "    </tr>\n",
       "    <tr>\n",
       "      <th>3</th>\n",
       "      <td>0.000000</td>\n",
       "      <td>0.500000</td>\n",
       "      <td>0.006562</td>\n",
       "      <td>0.034062</td>\n",
       "      <td>-0.304375</td>\n",
       "      <td>0.062500</td>\n",
       "      <td>0.468750</td>\n",
       "      <td>-1.625000</td>\n",
       "      <td>-0.625</td>\n",
       "      <td>-0.625000</td>\n",
       "      <td>...</td>\n",
       "      <td>0</td>\n",
       "      <td>0</td>\n",
       "      <td>0</td>\n",
       "      <td>1</td>\n",
       "      <td>0</td>\n",
       "      <td>0</td>\n",
       "      <td>1</td>\n",
       "      <td>0</td>\n",
       "      <td>0</td>\n",
       "      <td>Win</td>\n",
       "    </tr>\n",
       "    <tr>\n",
       "      <th>4</th>\n",
       "      <td>0.472656</td>\n",
       "      <td>0.000000</td>\n",
       "      <td>0.115723</td>\n",
       "      <td>0.118164</td>\n",
       "      <td>-0.006523</td>\n",
       "      <td>-0.073906</td>\n",
       "      <td>0.070312</td>\n",
       "      <td>0.003906</td>\n",
       "      <td>0.000</td>\n",
       "      <td>0.015625</td>\n",
       "      <td>...</td>\n",
       "      <td>0</td>\n",
       "      <td>0</td>\n",
       "      <td>1</td>\n",
       "      <td>0</td>\n",
       "      <td>0</td>\n",
       "      <td>0</td>\n",
       "      <td>1</td>\n",
       "      <td>0</td>\n",
       "      <td>0</td>\n",
       "      <td>Loss</td>\n",
       "    </tr>\n",
       "  </tbody>\n",
       "</table>\n",
       "<p>5 rows × 89 columns</p>\n",
       "</div>"
      ],
      "text/plain": [
       "   DIFF_avg_KD  DIFF_avg_opp_KD  DIFF_avg_SIG_STR_pct  \\\n",
       "0     0.000000         0.000000              0.200000   \n",
       "1     0.000000        -0.960938             -0.238047   \n",
       "2    -0.500000         0.625000              0.071250   \n",
       "3     0.000000         0.500000              0.006562   \n",
       "4     0.472656         0.000000              0.115723   \n",
       "\n",
       "   DIFF_avg_opp_SIG_STR_pct  DIFF_avg_TD_pct  DIFF_avg_opp_TD_pct  \\\n",
       "0                 -0.010000         0.000000            -0.380000   \n",
       "1                 -0.092422         0.007031             0.134766   \n",
       "2                  0.031250         0.162500            -0.343750   \n",
       "3                  0.034062        -0.304375             0.062500   \n",
       "4                  0.118164        -0.006523            -0.073906   \n",
       "\n",
       "   DIFF_avg_SUB_ATT  DIFF_avg_opp_SUB_ATT  DIFF_avg_REV  DIFF_avg_opp_REV  \\\n",
       "0          1.000000              0.000000         1.000          1.000000   \n",
       "1          0.007812              0.000000         0.000          0.000000   \n",
       "2         -0.875000              0.000000         0.000          0.000000   \n",
       "3          0.468750             -1.625000        -0.625         -0.625000   \n",
       "4          0.070312              0.003906         0.000          0.015625   \n",
       "\n",
       "   ...  weight_class_WomenStrawweight  Fighters_Stance_Open Stance  \\\n",
       "0  ...                              0                            0   \n",
       "1  ...                              0                            0   \n",
       "2  ...                              0                            0   \n",
       "3  ...                              0                            0   \n",
       "4  ...                              0                            0   \n",
       "\n",
       "   Fighters_Stance_Orthodox  Fighters_Stance_Southpaw  Fighters_Stance_Switch  \\\n",
       "0                         0                         1                       0   \n",
       "1                         0                         1                       0   \n",
       "2                         0                         1                       0   \n",
       "3                         0                         1                       0   \n",
       "4                         1                         0                       0   \n",
       "\n",
       "   Opponent_Stance_Open Stance  Opponent_Stance_Orthodox  \\\n",
       "0                            0                         0   \n",
       "1                            0                         0   \n",
       "2                            0                         0   \n",
       "3                            0                         1   \n",
       "4                            0                         1   \n",
       "\n",
       "   Opponent_Stance_Southpaw  Opponent_Stance_Switch  Result  \n",
       "0                         1                       0    Loss  \n",
       "1                         1                       0    Loss  \n",
       "2                         1                       0     Win  \n",
       "3                         0                       0     Win  \n",
       "4                         0                       0    Loss  \n",
       "\n",
       "[5 rows x 89 columns]"
      ]
     },
     "execution_count": 4,
     "metadata": {},
     "output_type": "execute_result"
    }
   ],
   "source": [
    "nunique = df.nunique()\n",
    "cols_to_drop = nunique[nunique == 1].index\n",
    "print(cols_to_drop)\n",
    "df = df.drop(cols_to_drop, axis=1)\n",
    "df.head()"
   ]
  },
  {
   "cell_type": "code",
   "execution_count": 5,
   "id": "a68826fd",
   "metadata": {},
   "outputs": [
    {
     "name": "stdout",
     "output_type": "stream",
     "text": [
      "(7780, 89)\n"
     ]
    },
    {
     "data": {
      "text/plain": [
       "(7780, 89)"
      ]
     },
     "execution_count": 5,
     "metadata": {},
     "output_type": "execute_result"
    }
   ],
   "source": [
    "print(df.shape)\n",
    "df = df.dropna()\n",
    "df.shape"
   ]
  },
  {
   "cell_type": "code",
   "execution_count": null,
   "id": "716be231",
   "metadata": {},
   "outputs": [],
   "source": []
  },
  {
   "cell_type": "code",
   "execution_count": 6,
   "id": "7a8c17fa",
   "metadata": {},
   "outputs": [
    {
     "name": "stdout",
     "output_type": "stream",
     "text": [
      "Index(['title_bout'], dtype='object')\n"
     ]
    },
    {
     "data": {
      "text/html": [
       "<div>\n",
       "<style scoped>\n",
       "    .dataframe tbody tr th:only-of-type {\n",
       "        vertical-align: middle;\n",
       "    }\n",
       "\n",
       "    .dataframe tbody tr th {\n",
       "        vertical-align: top;\n",
       "    }\n",
       "\n",
       "    .dataframe thead th {\n",
       "        text-align: right;\n",
       "    }\n",
       "</style>\n",
       "<table border=\"1\" class=\"dataframe\">\n",
       "  <thead>\n",
       "    <tr style=\"text-align: right;\">\n",
       "      <th></th>\n",
       "      <th>DIFF_avg_KD</th>\n",
       "      <th>DIFF_avg_opp_KD</th>\n",
       "      <th>DIFF_avg_SIG_STR_pct</th>\n",
       "      <th>DIFF_avg_opp_SIG_STR_pct</th>\n",
       "      <th>DIFF_avg_TD_pct</th>\n",
       "      <th>DIFF_avg_opp_TD_pct</th>\n",
       "      <th>DIFF_avg_SUB_ATT</th>\n",
       "      <th>DIFF_avg_opp_SUB_ATT</th>\n",
       "      <th>DIFF_avg_REV</th>\n",
       "      <th>DIFF_avg_opp_REV</th>\n",
       "      <th>...</th>\n",
       "      <th>weight_class_WomenFlyweight</th>\n",
       "      <th>weight_class_WomenStrawweight</th>\n",
       "      <th>Fighters_Stance_Open Stance</th>\n",
       "      <th>Fighters_Stance_Orthodox</th>\n",
       "      <th>Fighters_Stance_Southpaw</th>\n",
       "      <th>Fighters_Stance_Switch</th>\n",
       "      <th>Opponent_Stance_Open Stance</th>\n",
       "      <th>Opponent_Stance_Orthodox</th>\n",
       "      <th>Opponent_Stance_Southpaw</th>\n",
       "      <th>Opponent_Stance_Switch</th>\n",
       "    </tr>\n",
       "  </thead>\n",
       "  <tbody>\n",
       "    <tr>\n",
       "      <th>0</th>\n",
       "      <td>0.0</td>\n",
       "      <td>0.000000</td>\n",
       "      <td>0.200000</td>\n",
       "      <td>-0.010000</td>\n",
       "      <td>0.000000</td>\n",
       "      <td>-0.380000</td>\n",
       "      <td>1.000000</td>\n",
       "      <td>0.0</td>\n",
       "      <td>1.0</td>\n",
       "      <td>1.0</td>\n",
       "      <td>...</td>\n",
       "      <td>0</td>\n",
       "      <td>0</td>\n",
       "      <td>0</td>\n",
       "      <td>0</td>\n",
       "      <td>1</td>\n",
       "      <td>0</td>\n",
       "      <td>0</td>\n",
       "      <td>0</td>\n",
       "      <td>1</td>\n",
       "      <td>0</td>\n",
       "    </tr>\n",
       "    <tr>\n",
       "      <th>1</th>\n",
       "      <td>0.0</td>\n",
       "      <td>-0.960938</td>\n",
       "      <td>-0.238047</td>\n",
       "      <td>-0.092422</td>\n",
       "      <td>0.007031</td>\n",
       "      <td>0.134766</td>\n",
       "      <td>0.007812</td>\n",
       "      <td>0.0</td>\n",
       "      <td>0.0</td>\n",
       "      <td>0.0</td>\n",
       "      <td>...</td>\n",
       "      <td>0</td>\n",
       "      <td>0</td>\n",
       "      <td>0</td>\n",
       "      <td>0</td>\n",
       "      <td>1</td>\n",
       "      <td>0</td>\n",
       "      <td>0</td>\n",
       "      <td>0</td>\n",
       "      <td>1</td>\n",
       "      <td>0</td>\n",
       "    </tr>\n",
       "    <tr>\n",
       "      <th>2</th>\n",
       "      <td>-0.5</td>\n",
       "      <td>0.625000</td>\n",
       "      <td>0.071250</td>\n",
       "      <td>0.031250</td>\n",
       "      <td>0.162500</td>\n",
       "      <td>-0.343750</td>\n",
       "      <td>-0.875000</td>\n",
       "      <td>0.0</td>\n",
       "      <td>0.0</td>\n",
       "      <td>0.0</td>\n",
       "      <td>...</td>\n",
       "      <td>0</td>\n",
       "      <td>0</td>\n",
       "      <td>0</td>\n",
       "      <td>0</td>\n",
       "      <td>1</td>\n",
       "      <td>0</td>\n",
       "      <td>0</td>\n",
       "      <td>0</td>\n",
       "      <td>1</td>\n",
       "      <td>0</td>\n",
       "    </tr>\n",
       "  </tbody>\n",
       "</table>\n",
       "<p>3 rows × 87 columns</p>\n",
       "</div>"
      ],
      "text/plain": [
       "   DIFF_avg_KD  DIFF_avg_opp_KD  DIFF_avg_SIG_STR_pct  \\\n",
       "0          0.0         0.000000              0.200000   \n",
       "1          0.0        -0.960938             -0.238047   \n",
       "2         -0.5         0.625000              0.071250   \n",
       "\n",
       "   DIFF_avg_opp_SIG_STR_pct  DIFF_avg_TD_pct  DIFF_avg_opp_TD_pct  \\\n",
       "0                 -0.010000         0.000000            -0.380000   \n",
       "1                 -0.092422         0.007031             0.134766   \n",
       "2                  0.031250         0.162500            -0.343750   \n",
       "\n",
       "   DIFF_avg_SUB_ATT  DIFF_avg_opp_SUB_ATT  DIFF_avg_REV  DIFF_avg_opp_REV  \\\n",
       "0          1.000000                   0.0           1.0               1.0   \n",
       "1          0.007812                   0.0           0.0               0.0   \n",
       "2         -0.875000                   0.0           0.0               0.0   \n",
       "\n",
       "   ...  weight_class_WomenFlyweight  weight_class_WomenStrawweight  \\\n",
       "0  ...                            0                              0   \n",
       "1  ...                            0                              0   \n",
       "2  ...                            0                              0   \n",
       "\n",
       "   Fighters_Stance_Open Stance  Fighters_Stance_Orthodox  \\\n",
       "0                            0                         0   \n",
       "1                            0                         0   \n",
       "2                            0                         0   \n",
       "\n",
       "   Fighters_Stance_Southpaw  Fighters_Stance_Switch  \\\n",
       "0                         1                       0   \n",
       "1                         1                       0   \n",
       "2                         1                       0   \n",
       "\n",
       "   Opponent_Stance_Open Stance  Opponent_Stance_Orthodox  \\\n",
       "0                            0                         0   \n",
       "1                            0                         0   \n",
       "2                            0                         0   \n",
       "\n",
       "   Opponent_Stance_Southpaw  Opponent_Stance_Switch  \n",
       "0                         1                       0  \n",
       "1                         1                       0  \n",
       "2                         1                       0  \n",
       "\n",
       "[3 rows x 87 columns]"
      ]
     },
     "execution_count": 6,
     "metadata": {},
     "output_type": "execute_result"
    }
   ],
   "source": [
    "y = df.Result\n",
    "df = df.drop('Result', axis = 1)\n",
    "X_category = df.select_dtypes(exclude=np.number)\n",
    "X_numerical = df.select_dtypes(include=np.number)\n",
    "\n",
    "print(X_category.columns)\n",
    "X_numerical.head(3)"
   ]
  },
  {
   "cell_type": "code",
   "execution_count": 7,
   "id": "5222e5d4",
   "metadata": {},
   "outputs": [
    {
     "name": "stdout",
     "output_type": "stream",
     "text": [
      "0\n"
     ]
    }
   ],
   "source": [
    "\n",
    "X_cat=pd.get_dummies(X_category)\n",
    "print(X_cat.isnull().sum().sum())"
   ]
  },
  {
   "cell_type": "code",
   "execution_count": 8,
   "id": "8285087a",
   "metadata": {},
   "outputs": [],
   "source": [
    "X_cat.columns\n",
    "X_num = (X_numerical-X_numerical.mean())/X_numerical.std()\n",
    "#X_num = X_numerical"
   ]
  },
  {
   "cell_type": "code",
   "execution_count": 9,
   "id": "ba1359a7",
   "metadata": {},
   "outputs": [
    {
     "name": "stdout",
     "output_type": "stream",
     "text": [
      "Loss    3821\n",
      "Win     3821\n",
      "Draw     138\n",
      "Name: Result, dtype: int64\n",
      "(7780, 88)\n"
     ]
    },
    {
     "data": {
      "text/html": [
       "<div>\n",
       "<style scoped>\n",
       "    .dataframe tbody tr th:only-of-type {\n",
       "        vertical-align: middle;\n",
       "    }\n",
       "\n",
       "    .dataframe tbody tr th {\n",
       "        vertical-align: top;\n",
       "    }\n",
       "\n",
       "    .dataframe thead th {\n",
       "        text-align: right;\n",
       "    }\n",
       "</style>\n",
       "<table border=\"1\" class=\"dataframe\">\n",
       "  <thead>\n",
       "    <tr style=\"text-align: right;\">\n",
       "      <th></th>\n",
       "      <th>DIFF_avg_KD</th>\n",
       "      <th>DIFF_avg_opp_KD</th>\n",
       "      <th>DIFF_avg_SIG_STR_pct</th>\n",
       "      <th>DIFF_avg_opp_SIG_STR_pct</th>\n",
       "      <th>DIFF_avg_TD_pct</th>\n",
       "      <th>DIFF_avg_opp_TD_pct</th>\n",
       "      <th>DIFF_avg_SUB_ATT</th>\n",
       "      <th>DIFF_avg_opp_SUB_ATT</th>\n",
       "      <th>DIFF_avg_REV</th>\n",
       "      <th>DIFF_avg_opp_REV</th>\n",
       "      <th>...</th>\n",
       "      <th>weight_class_WomenStrawweight</th>\n",
       "      <th>Fighters_Stance_Open Stance</th>\n",
       "      <th>Fighters_Stance_Orthodox</th>\n",
       "      <th>Fighters_Stance_Southpaw</th>\n",
       "      <th>Fighters_Stance_Switch</th>\n",
       "      <th>Opponent_Stance_Open Stance</th>\n",
       "      <th>Opponent_Stance_Orthodox</th>\n",
       "      <th>Opponent_Stance_Southpaw</th>\n",
       "      <th>Opponent_Stance_Switch</th>\n",
       "      <th>title_bout</th>\n",
       "    </tr>\n",
       "  </thead>\n",
       "  <tbody>\n",
       "    <tr>\n",
       "      <th>0</th>\n",
       "      <td>1.278894e-17</td>\n",
       "      <td>-1.614999e-17</td>\n",
       "      <td>1.233509</td>\n",
       "      <td>-0.062272</td>\n",
       "      <td>-1.326896e-17</td>\n",
       "      <td>-1.171302</td>\n",
       "      <td>1.123312</td>\n",
       "      <td>2.220383e-17</td>\n",
       "      <td>2.334454e+00</td>\n",
       "      <td>2.448372</td>\n",
       "      <td>...</td>\n",
       "      <td>-0.18593</td>\n",
       "      <td>-0.042456</td>\n",
       "      <td>-1.747513</td>\n",
       "      <td>1.931063</td>\n",
       "      <td>-0.18593</td>\n",
       "      <td>-0.042456</td>\n",
       "      <td>-1.747513</td>\n",
       "      <td>1.931063</td>\n",
       "      <td>-0.18593</td>\n",
       "      <td>False</td>\n",
       "    </tr>\n",
       "    <tr>\n",
       "      <th>1</th>\n",
       "      <td>1.278894e-17</td>\n",
       "      <td>-2.284703e+00</td>\n",
       "      <td>-1.468164</td>\n",
       "      <td>-0.575527</td>\n",
       "      <td>2.002422e-02</td>\n",
       "      <td>0.415398</td>\n",
       "      <td>0.008776</td>\n",
       "      <td>2.220383e-17</td>\n",
       "      <td>2.678379e-17</td>\n",
       "      <td>0.000000</td>\n",
       "      <td>...</td>\n",
       "      <td>-0.18593</td>\n",
       "      <td>-0.042456</td>\n",
       "      <td>-1.747513</td>\n",
       "      <td>1.931063</td>\n",
       "      <td>-0.18593</td>\n",
       "      <td>-0.042456</td>\n",
       "      <td>-1.747513</td>\n",
       "      <td>1.931063</td>\n",
       "      <td>-0.18593</td>\n",
       "      <td>False</td>\n",
       "    </tr>\n",
       "    <tr>\n",
       "      <th>2</th>\n",
       "      <td>-9.859162e-01</td>\n",
       "      <td>1.485986e+00</td>\n",
       "      <td>0.439437</td>\n",
       "      <td>0.194599</td>\n",
       "      <td>4.627820e-01</td>\n",
       "      <td>-1.059566</td>\n",
       "      <td>-0.982898</td>\n",
       "      <td>2.220383e-17</td>\n",
       "      <td>2.678379e-17</td>\n",
       "      <td>0.000000</td>\n",
       "      <td>...</td>\n",
       "      <td>-0.18593</td>\n",
       "      <td>-0.042456</td>\n",
       "      <td>-1.747513</td>\n",
       "      <td>1.931063</td>\n",
       "      <td>-0.18593</td>\n",
       "      <td>-0.042456</td>\n",
       "      <td>-1.747513</td>\n",
       "      <td>1.931063</td>\n",
       "      <td>-0.18593</td>\n",
       "      <td>False</td>\n",
       "    </tr>\n",
       "    <tr>\n",
       "      <th>3</th>\n",
       "      <td>1.278894e-17</td>\n",
       "      <td>1.188789e+00</td>\n",
       "      <td>0.040475</td>\n",
       "      <td>0.212113</td>\n",
       "      <td>-8.668263e-01</td>\n",
       "      <td>0.192648</td>\n",
       "      <td>0.526553</td>\n",
       "      <td>-2.058981e+00</td>\n",
       "      <td>-1.459034e+00</td>\n",
       "      <td>-1.530233</td>\n",
       "      <td>...</td>\n",
       "      <td>-0.18593</td>\n",
       "      <td>-0.042456</td>\n",
       "      <td>-1.747513</td>\n",
       "      <td>1.931063</td>\n",
       "      <td>-0.18593</td>\n",
       "      <td>-0.042456</td>\n",
       "      <td>0.572168</td>\n",
       "      <td>-0.517783</td>\n",
       "      <td>-0.18593</td>\n",
       "      <td>False</td>\n",
       "    </tr>\n",
       "    <tr>\n",
       "      <th>4</th>\n",
       "      <td>9.319989e-01</td>\n",
       "      <td>-1.614999e-17</td>\n",
       "      <td>0.713724</td>\n",
       "      <td>0.735828</td>\n",
       "      <td>-1.857803e-02</td>\n",
       "      <td>-0.227807</td>\n",
       "      <td>0.078983</td>\n",
       "      <td>4.949474e-03</td>\n",
       "      <td>2.678379e-17</td>\n",
       "      <td>0.038256</td>\n",
       "      <td>...</td>\n",
       "      <td>-0.18593</td>\n",
       "      <td>-0.042456</td>\n",
       "      <td>0.572168</td>\n",
       "      <td>-0.517783</td>\n",
       "      <td>-0.18593</td>\n",
       "      <td>-0.042456</td>\n",
       "      <td>0.572168</td>\n",
       "      <td>-0.517783</td>\n",
       "      <td>-0.18593</td>\n",
       "      <td>False</td>\n",
       "    </tr>\n",
       "  </tbody>\n",
       "</table>\n",
       "<p>5 rows × 88 columns</p>\n",
       "</div>"
      ],
      "text/plain": [
       "    DIFF_avg_KD  DIFF_avg_opp_KD  DIFF_avg_SIG_STR_pct  \\\n",
       "0  1.278894e-17    -1.614999e-17              1.233509   \n",
       "1  1.278894e-17    -2.284703e+00             -1.468164   \n",
       "2 -9.859162e-01     1.485986e+00              0.439437   \n",
       "3  1.278894e-17     1.188789e+00              0.040475   \n",
       "4  9.319989e-01    -1.614999e-17              0.713724   \n",
       "\n",
       "   DIFF_avg_opp_SIG_STR_pct  DIFF_avg_TD_pct  DIFF_avg_opp_TD_pct  \\\n",
       "0                 -0.062272    -1.326896e-17            -1.171302   \n",
       "1                 -0.575527     2.002422e-02             0.415398   \n",
       "2                  0.194599     4.627820e-01            -1.059566   \n",
       "3                  0.212113    -8.668263e-01             0.192648   \n",
       "4                  0.735828    -1.857803e-02            -0.227807   \n",
       "\n",
       "   DIFF_avg_SUB_ATT  DIFF_avg_opp_SUB_ATT  DIFF_avg_REV  DIFF_avg_opp_REV  \\\n",
       "0          1.123312          2.220383e-17  2.334454e+00          2.448372   \n",
       "1          0.008776          2.220383e-17  2.678379e-17          0.000000   \n",
       "2         -0.982898          2.220383e-17  2.678379e-17          0.000000   \n",
       "3          0.526553         -2.058981e+00 -1.459034e+00         -1.530233   \n",
       "4          0.078983          4.949474e-03  2.678379e-17          0.038256   \n",
       "\n",
       "   ...  weight_class_WomenStrawweight  Fighters_Stance_Open Stance  \\\n",
       "0  ...                       -0.18593                    -0.042456   \n",
       "1  ...                       -0.18593                    -0.042456   \n",
       "2  ...                       -0.18593                    -0.042456   \n",
       "3  ...                       -0.18593                    -0.042456   \n",
       "4  ...                       -0.18593                    -0.042456   \n",
       "\n",
       "   Fighters_Stance_Orthodox  Fighters_Stance_Southpaw  Fighters_Stance_Switch  \\\n",
       "0                 -1.747513                  1.931063                -0.18593   \n",
       "1                 -1.747513                  1.931063                -0.18593   \n",
       "2                 -1.747513                  1.931063                -0.18593   \n",
       "3                 -1.747513                  1.931063                -0.18593   \n",
       "4                  0.572168                 -0.517783                -0.18593   \n",
       "\n",
       "   Opponent_Stance_Open Stance  Opponent_Stance_Orthodox  \\\n",
       "0                    -0.042456                 -1.747513   \n",
       "1                    -0.042456                 -1.747513   \n",
       "2                    -0.042456                 -1.747513   \n",
       "3                    -0.042456                  0.572168   \n",
       "4                    -0.042456                  0.572168   \n",
       "\n",
       "   Opponent_Stance_Southpaw  Opponent_Stance_Switch  title_bout  \n",
       "0                  1.931063                -0.18593       False  \n",
       "1                  1.931063                -0.18593       False  \n",
       "2                  1.931063                -0.18593       False  \n",
       "3                 -0.517783                -0.18593       False  \n",
       "4                 -0.517783                -0.18593       False  \n",
       "\n",
       "[5 rows x 88 columns]"
      ]
     },
     "execution_count": 9,
     "metadata": {},
     "output_type": "execute_result"
    }
   ],
   "source": [
    "X = pd.concat([X_num,X_cat],axis=1)\n",
    "print(y.value_counts())\n",
    "print(X.shape)\n",
    "X.head()"
   ]
  },
  {
   "cell_type": "code",
   "execution_count": null,
   "id": "068465d8",
   "metadata": {},
   "outputs": [],
   "source": []
  },
  {
   "cell_type": "code",
   "execution_count": 10,
   "id": "2dd504b5",
   "metadata": {},
   "outputs": [
    {
     "name": "stdout",
     "output_type": "stream",
     "text": [
      "\n",
      "best tree depth = {'max_depth': 3}   Best R2 = 0.545\n",
      "0    0.561375\n",
      "1    0.581298\n",
      "2    0.592545\n",
      "3    0.609030\n",
      "4    0.627956\n",
      "5    0.653567\n",
      "6    0.683708\n",
      "7    0.720726\n",
      "Name: train error, dtype: float64\n",
      "\n",
      "Diff_age                          0.617911\n",
      "DIFF_avg_TD_landed                0.181378\n",
      "DIFF_avg_opp_SIG_STR_pct          0.103614\n",
      "DIFF_win_by_Decision_Unanimous    0.052863\n",
      "DIFF_longest_win_streak           0.044234\n",
      "dtype: float64\n"
     ]
    },
    {
     "data": {
      "image/png": "[encoded data removed]",
      "text/plain": [
       "<Figure size 432x288 with 1 Axes>"
      ]
     },
     "metadata": {
      "needs_background": "light"
     },
     "output_type": "display_data"
    }
   ],
   "source": [
    "grid = {'max_depth':np.arange(2,10)}\n",
    "rtree = DecisionTreeClassifier()\n",
    "treeCV = GridSearchCV(rtree,param_grid=grid,return_train_score=True,n_jobs=-1)\n",
    "\n",
    "treeCV.fit(X,y)\n",
    "print()\n",
    "print('best tree depth =',treeCV.best_params_, '  Best R2 =', (treeCV.best_score_).round(3))\n",
    "\n",
    "results = pd.DataFrame()\n",
    "results['depth'] = grid['max_depth']\n",
    "results['train error'] =1 - treeCV.cv_results_['mean_train_score']\n",
    "results['valid error']  = 1 - treeCV.cv_results_['mean_test_score']\n",
    "print(1-results['train error'])\n",
    "ax1 = results.plot.line(x='depth',y='train error')\n",
    "results.plot.line(x='depth',y='valid error',ax=ax1)\n",
    "# feature importance\n",
    "print()\n",
    "tree = DecisionTreeClassifier(max_depth = 3)\n",
    "tree.fit(X,y)\n",
    "features_importance = pd.Series(tree.feature_importances_,index=X.columns)\n",
    "features_importance = features_importance[features_importance>0]\n",
    "print(features_importance.sort_values(ascending=False))\n"
   ]
  },
  {
   "cell_type": "code",
   "execution_count": 12,
   "id": "95774509",
   "metadata": {},
   "outputs": [
    {
     "name": "stdout",
     "output_type": "stream",
     "text": [
      "Diff_age                          0.617911\n",
      "DIFF_avg_TD_landed                0.181378\n",
      "DIFF_avg_opp_SIG_STR_pct          0.103614\n",
      "DIFF_win_by_Decision_Unanimous    0.052863\n",
      "DIFF_longest_win_streak           0.044234\n",
      "dtype: float64\n"
     ]
    },
    {
     "data": {
      "text/plain": [
       "<AxesSubplot:>"
      ]
     },
     "execution_count": 12,
     "metadata": {},
     "output_type": "execute_result"
    },
    {
     "data": {
      "image/png": "[encoded data removed]",
      "text/plain": [
       "<Figure size 432x288 with 1 Axes>"
      ]
     },
     "metadata": {
      "needs_background": "light"
     },
     "output_type": "display_data"
    }
   ],
   "source": [
    "# feature importance\n",
    "tree = DecisionTreeClassifier(max_depth = 3)\n",
    "tree.fit(X,y)\n",
    "features_importance = pd.Series(tree.feature_importances_,index=X.columns)\n",
    "features_importance = features_importance[features_importance>0]\n",
    "print(features_importance.sort_values(ascending=False))\n",
    "features_importance.sort_values().plot.barh(color='salmon')"
   ]
  },
  {
   "cell_type": "code",
   "execution_count": 13,
   "id": "4cbf4e64",
   "metadata": {},
   "outputs": [
    {
     "name": "stdout",
     "output_type": "stream",
     "text": [
      "['DIFF_longest_win_streak' 'DIFF_win_by_Decision_Unanimous'\n",
      " 'DIFF_avg_opp_SIG_STR_pct' 'DIFF_avg_TD_landed' 'Diff_age']\n"
     ]
    }
   ],
   "source": [
    "tree = DecisionTreeClassifier(max_depth = 3)\n",
    "tree.fit(X,y)\n",
    "\n",
    "\n",
    "importances = tree.feature_importances_\n",
    "tree_importances = pd.Series(importances, index=X.columns)\n",
    "sorted = tree_importances.sort_values(ascending = True)\n",
    "importantFeatures = sorted[sorted!=0]\n",
    "print(importantFeatures.index.values)"
   ]
  },
  {
   "cell_type": "markdown",
   "id": "30c2b74a",
   "metadata": {},
   "source": [
    "### Now decision Tree with only the important features polynomial?"
   ]
  },
  {
   "cell_type": "code",
   "execution_count": 14,
   "id": "8ac8785c",
   "metadata": {},
   "outputs": [
    {
     "data": {
      "text/html": [
       "<div>\n",
       "<style scoped>\n",
       "    .dataframe tbody tr th:only-of-type {\n",
       "        vertical-align: middle;\n",
       "    }\n",
       "\n",
       "    .dataframe tbody tr th {\n",
       "        vertical-align: top;\n",
       "    }\n",
       "\n",
       "    .dataframe thead th {\n",
       "        text-align: right;\n",
       "    }\n",
       "</style>\n",
       "<table border=\"1\" class=\"dataframe\">\n",
       "  <thead>\n",
       "    <tr style=\"text-align: right;\">\n",
       "      <th></th>\n",
       "      <th>DIFF_longest_win_streak</th>\n",
       "      <th>DIFF_win_by_Decision_Unanimous</th>\n",
       "      <th>DIFF_avg_opp_SIG_STR_pct</th>\n",
       "      <th>DIFF_avg_TD_landed</th>\n",
       "      <th>Diff_age</th>\n",
       "    </tr>\n",
       "  </thead>\n",
       "  <tbody>\n",
       "    <tr>\n",
       "      <th>0</th>\n",
       "      <td>0.000000</td>\n",
       "      <td>0.000000</td>\n",
       "      <td>-0.062272</td>\n",
       "      <td>-1.791969e-17</td>\n",
       "      <td>-0.382753</td>\n",
       "    </tr>\n",
       "    <tr>\n",
       "      <th>1</th>\n",
       "      <td>0.000000</td>\n",
       "      <td>0.948949</td>\n",
       "      <td>-0.575527</td>\n",
       "      <td>-6.131546e-01</td>\n",
       "      <td>0.191377</td>\n",
       "    </tr>\n",
       "    <tr>\n",
       "      <th>2</th>\n",
       "      <td>-0.452283</td>\n",
       "      <td>0.474474</td>\n",
       "      <td>0.194599</td>\n",
       "      <td>-5.605985e-01</td>\n",
       "      <td>0.765506</td>\n",
       "    </tr>\n",
       "    <tr>\n",
       "      <th>3</th>\n",
       "      <td>-0.904566</td>\n",
       "      <td>-0.948949</td>\n",
       "      <td>0.212113</td>\n",
       "      <td>-4.379675e-01</td>\n",
       "      <td>-0.765506</td>\n",
       "    </tr>\n",
       "    <tr>\n",
       "      <th>4</th>\n",
       "      <td>0.000000</td>\n",
       "      <td>0.474474</td>\n",
       "      <td>0.735828</td>\n",
       "      <td>8.606062e-01</td>\n",
       "      <td>1.148259</td>\n",
       "    </tr>\n",
       "  </tbody>\n",
       "</table>\n",
       "</div>"
      ],
      "text/plain": [
       "   DIFF_longest_win_streak  DIFF_win_by_Decision_Unanimous  \\\n",
       "0                 0.000000                        0.000000   \n",
       "1                 0.000000                        0.948949   \n",
       "2                -0.452283                        0.474474   \n",
       "3                -0.904566                       -0.948949   \n",
       "4                 0.000000                        0.474474   \n",
       "\n",
       "   DIFF_avg_opp_SIG_STR_pct  DIFF_avg_TD_landed  Diff_age  \n",
       "0                 -0.062272       -1.791969e-17 -0.382753  \n",
       "1                 -0.575527       -6.131546e-01  0.191377  \n",
       "2                  0.194599       -5.605985e-01  0.765506  \n",
       "3                  0.212113       -4.379675e-01 -0.765506  \n",
       "4                  0.735828        8.606062e-01  1.148259  "
      ]
     },
     "execution_count": 14,
     "metadata": {},
     "output_type": "execute_result"
    }
   ],
   "source": [
    "\n",
    "\n",
    "X_important = X[importantFeatures.index.values]\n",
    "X_important.head()"
   ]
  },
  {
   "cell_type": "code",
   "execution_count": 15,
   "id": "f06aab73",
   "metadata": {},
   "outputs": [
    {
     "name": "stdout",
     "output_type": "stream",
     "text": [
      "             X shape = (7780, 5)\n",
      "X (engineered) shape = (7780, 20)\n",
      "\n",
      "best tree depth = {'max_depth': 3}   Best R2 = 0.559\n",
      "\n",
      "Diff_age                                       0.453772\n",
      "DIFF_avg_TD_landed                             0.181208\n",
      "Diff_age^2                                     0.163559\n",
      "DIFF_avg_opp_SIG_STR_pct                       0.103516\n",
      "DIFF_avg_opp_SIG_STR_pct DIFF_avg_TD_landed    0.053237\n",
      "DIFF_longest_win_streak DIFF_avg_TD_landed     0.044708\n",
      "dtype: float64\n"
     ]
    },
    {
     "data": {
      "image/png": "[encoded data removed]",
      "text/plain": [
       "<Figure size 432x288 with 1 Axes>"
      ]
     },
     "metadata": {
      "needs_background": "light"
     },
     "output_type": "display_data"
    }
   ],
   "source": [
    "grid = {'max_depth':np.arange(1,5)}\n",
    "rtree = DecisionTreeClassifier()\n",
    "treeCV = GridSearchCV(rtree,param_grid=grid,return_train_score=True)\n",
    "\n",
    "poly = PolynomialFeatures(2,interaction_only=False,include_bias=False)\n",
    "Xe = poly.fit_transform(X_important)\n",
    "cols = poly.get_feature_names(X_important.columns)\n",
    "Xe = pd.DataFrame(Xe,columns=cols)\n",
    "print('             X shape =',X_important.shape)\n",
    "print('X (engineered) shape =',Xe.shape)\n",
    "\n",
    "\n",
    "\n",
    "treeCV.fit(Xe,y)\n",
    "\n",
    "\n",
    "print()\n",
    "print('best tree depth =',treeCV.best_params_, '  Best R2 =', (treeCV.best_score_).round(3))\n",
    "\n",
    "results = pd.DataFrame()\n",
    "results['depth'] = grid['max_depth']\n",
    "results['train error'] =1 - treeCV.cv_results_['mean_train_score']\n",
    "results['valid error']  = 1 - treeCV.cv_results_['mean_test_score']\n",
    "ax1 = results.plot.line(x='depth',y='train error')\n",
    "results.plot.line(x='depth',y='valid error',ax=ax1)\n",
    "print()\n",
    "\n",
    "\n",
    "tree = DecisionTreeClassifier(max_depth = treeCV.best_params_.get('max_depth'))\n",
    "tree.fit(Xe,y)\n",
    "features_importance = pd.Series(tree.feature_importances_,index=Xe.columns)\n",
    "features_importance = features_importance[features_importance>0]\n",
    "print(features_importance.sort_values(ascending=False))\n"
   ]
  },
  {
   "cell_type": "code",
   "execution_count": 84,
   "id": "c43e4dc3",
   "metadata": {},
   "outputs": [
    {
     "data": {
      "text/plain": [
       "<AxesSubplot:>"
      ]
     },
     "execution_count": 84,
     "metadata": {},
     "output_type": "execute_result"
    },
    {
     "data": {
      "image/png": "[encoded data removed]",
      "text/plain": [
       "<Figure size 432x288 with 1 Axes>"
      ]
     },
     "metadata": {
      "needs_background": "light"
     },
     "output_type": "display_data"
    }
   ],
   "source": [
    "features_importance.sort_values().plot.barh(color='salmon')"
   ]
  },
  {
   "cell_type": "markdown",
   "id": "2b111ad5",
   "metadata": {},
   "source": [
    "## it improved 2%\n",
    "lets give up on important features for now and check feature engineering on all variables with the important variables"
   ]
  },
  {
   "cell_type": "code",
   "execution_count": 85,
   "id": "10cd9c59",
   "metadata": {},
   "outputs": [],
   "source": [
    "poly = PolynomialFeatures(2,interaction_only=False,include_bias=False)\n",
    "Xf = poly.fit_transform(X)\n",
    "cols = poly.get_feature_names(X.columns)\n",
    "Xf = pd.DataFrame(Xf,columns=cols)\n",
    "res = []\n",
    "for c in Xf.columns:\n",
    "    for check in X_important.columns:\n",
    "        if(check in c):\n",
    "            res.append(c)\n",
    "\n",
    "\n",
    "            \n"
   ]
  },
  {
   "cell_type": "code",
   "execution_count": 86,
   "id": "ba946e4c",
   "metadata": {},
   "outputs": [
    {
     "name": "stdout",
     "output_type": "stream",
     "text": [
      "178  compare to the original number of features after feature engineering 4004\n"
     ]
    }
   ],
   "source": [
    "print(len(res), ' compare to the original number of features after feature engineering', Xf.shape[1])\n",
    "Xnew = Xf.filter(res,axis=1)\n",
    "\n"
   ]
  },
  {
   "cell_type": "code",
   "execution_count": 87,
   "id": "b59cac2b",
   "metadata": {},
   "outputs": [
    {
     "name": "stdout",
     "output_type": "stream",
     "text": [
      "\n",
      "best tree depth = {'max_depth': 3}   Best R2 = 0.555\n"
     ]
    },
    {
     "data": {
      "text/plain": [
       "<AxesSubplot:xlabel='depth'>"
      ]
     },
     "execution_count": 87,
     "metadata": {},
     "output_type": "execute_result"
    },
    {
     "data": {
      "image/png": "[encoded data removed]",
      "text/plain": [
       "<Figure size 432x288 with 1 Axes>"
      ]
     },
     "metadata": {
      "needs_background": "light"
     },
     "output_type": "display_data"
    }
   ],
   "source": [
    "grid = {'max_depth':np.arange(1,20,2)}\n",
    "rtree = DecisionTreeClassifier()\n",
    "treeCV = GridSearchCV(rtree,param_grid=grid,return_train_score=True, n_jobs = -1)\n",
    "\n",
    "\n",
    "treeCV.fit(Xnew,y)\n",
    "print()\n",
    "print('best tree depth =',treeCV.best_params_, '  Best R2 =', (treeCV.best_score_).round(3))\n",
    "\n",
    "results = pd.DataFrame()\n",
    "results['depth'] = grid['max_depth']\n",
    "results['train error'] =1 - treeCV.cv_results_['mean_train_score']\n",
    "results['valid error']  = 1 - treeCV.cv_results_['mean_test_score']\n",
    "ax1 = results.plot.line(x='depth',y='train error')\n",
    "results.plot.line(x='depth',y='valid error',ax=ax1)"
   ]
  },
  {
   "cell_type": "code",
   "execution_count": 88,
   "id": "6bbebcb6",
   "metadata": {},
   "outputs": [
    {
     "name": "stdout",
     "output_type": "stream",
     "text": [
      "Index(['DIFF_avg_TD_landed Fighters_Stance_Orthodox', 'DIFF_wins Diff_age',\n",
      "       'DIFF_avg_TD_landed DIFF_losses', 'DIFF_avg_TD_landed', 'Diff_age'],\n",
      "      dtype='object')\n"
     ]
    },
    {
     "data": {
      "text/plain": [
       "<AxesSubplot:>"
      ]
     },
     "execution_count": 88,
     "metadata": {},
     "output_type": "execute_result"
    },
    {
     "data": {
      "image/png": "[encoded data removed]",
      "text/plain": [
       "<Figure size 432x288 with 1 Axes>"
      ]
     },
     "metadata": {
      "needs_background": "light"
     },
     "output_type": "display_data"
    }
   ],
   "source": [
    "tree = DecisionTreeClassifier(max_depth = 3)\n",
    "tree.fit(Xnew,y)\n",
    "\n",
    "\n",
    "importances = tree.feature_importances_\n",
    "tree_importances = pd.Series(importances, index=Xnew.columns)\n",
    "sorted = tree_importances.sort_values(ascending = True)\n",
    "impF = sorted[sorted!=0]\n",
    "\n",
    "print(impF.index)\n",
    "impF.sort_values().plot.barh(color='salmon')"
   ]
  },
  {
   "cell_type": "code",
   "execution_count": 89,
   "id": "097af9b9",
   "metadata": {},
   "outputs": [],
   "source": [
    "# Diff_age^3                         0.494991\n",
    "# DIFF_avg_TD_landed^5               0.197668\n",
    "# Diff_age^4                         0.178417\n",
    "# DIFF_avg_TD_landed Diff_age^4      0.065945\n",
    "# DIFF_avg_TD_landed^3               0.042489\n",
    "# DIFF_avg_TD_landed^2 Diff_age^3    0.020490\n",
    "# Diff_age                                       0.473298\n",
    "# DIFF_avg_TD_landed                             0.189005\n",
    "# Diff_age^2                                     0.170597\n",
    "# DIFF_avg_TD_landed DIFF_losses                 0.060547\n",
    "# DIFF_wins Diff_age                             0.055826\n",
    "# DIFF_avg_TD_landed Fighters_Stance_Orthodox    0.050727 "
   ]
  },
  {
   "cell_type": "code",
   "execution_count": 90,
   "id": "719c05ed",
   "metadata": {},
   "outputs": [
    {
     "data": {
      "text/html": [
       "<div>\n",
       "<style scoped>\n",
       "    .dataframe tbody tr th:only-of-type {\n",
       "        vertical-align: middle;\n",
       "    }\n",
       "\n",
       "    .dataframe tbody tr th {\n",
       "        vertical-align: top;\n",
       "    }\n",
       "\n",
       "    .dataframe thead th {\n",
       "        text-align: right;\n",
       "    }\n",
       "</style>\n",
       "<table border=\"1\" class=\"dataframe\">\n",
       "  <thead>\n",
       "    <tr style=\"text-align: right;\">\n",
       "      <th></th>\n",
       "      <th>DIFF_avg_TD_landed Fighters_Stance_Orthodox</th>\n",
       "      <th>DIFF_wins Diff_age</th>\n",
       "      <th>DIFF_avg_TD_landed DIFF_losses</th>\n",
       "      <th>DIFF_avg_TD_landed</th>\n",
       "      <th>Diff_age</th>\n",
       "      <th>Diff_age^3</th>\n",
       "      <th>DIFF_avg_TD_landed^5</th>\n",
       "      <th>Diff_age^4</th>\n",
       "      <th>DIFF_avg_TD_landed Diff_age^4</th>\n",
       "      <th>DIFF_avg_TD_landed^3</th>\n",
       "      <th>DIFF_avg_TD_landed^2 Diff_age^3</th>\n",
       "    </tr>\n",
       "  </thead>\n",
       "  <tbody>\n",
       "    <tr>\n",
       "      <th>0</th>\n",
       "      <td>0.0</td>\n",
       "      <td>-0.0</td>\n",
       "      <td>0.000</td>\n",
       "      <td>0.00000</td>\n",
       "      <td>-2.0</td>\n",
       "      <td>-8.0</td>\n",
       "      <td>0.000000</td>\n",
       "      <td>16.0</td>\n",
       "      <td>0.00000</td>\n",
       "      <td>0.000000</td>\n",
       "      <td>-0.000000</td>\n",
       "    </tr>\n",
       "    <tr>\n",
       "      <th>1</th>\n",
       "      <td>-0.0</td>\n",
       "      <td>2.0</td>\n",
       "      <td>-4.375</td>\n",
       "      <td>-1.09375</td>\n",
       "      <td>1.0</td>\n",
       "      <td>1.0</td>\n",
       "      <td>-1.565274</td>\n",
       "      <td>1.0</td>\n",
       "      <td>-1.09375</td>\n",
       "      <td>-1.308441</td>\n",
       "      <td>1.196289</td>\n",
       "    </tr>\n",
       "    <tr>\n",
       "      <th>2</th>\n",
       "      <td>-0.0</td>\n",
       "      <td>-4.0</td>\n",
       "      <td>-3.000</td>\n",
       "      <td>-1.00000</td>\n",
       "      <td>4.0</td>\n",
       "      <td>64.0</td>\n",
       "      <td>-1.000000</td>\n",
       "      <td>256.0</td>\n",
       "      <td>-256.00000</td>\n",
       "      <td>-1.000000</td>\n",
       "      <td>64.000000</td>\n",
       "    </tr>\n",
       "  </tbody>\n",
       "</table>\n",
       "</div>"
      ],
      "text/plain": [
       "   DIFF_avg_TD_landed Fighters_Stance_Orthodox  DIFF_wins Diff_age  \\\n",
       "0                                          0.0                -0.0   \n",
       "1                                         -0.0                 2.0   \n",
       "2                                         -0.0                -4.0   \n",
       "\n",
       "   DIFF_avg_TD_landed DIFF_losses  DIFF_avg_TD_landed  Diff_age  Diff_age^3  \\\n",
       "0                           0.000             0.00000      -2.0        -8.0   \n",
       "1                          -4.375            -1.09375       1.0         1.0   \n",
       "2                          -3.000            -1.00000       4.0        64.0   \n",
       "\n",
       "   DIFF_avg_TD_landed^5  Diff_age^4  DIFF_avg_TD_landed Diff_age^4  \\\n",
       "0              0.000000        16.0                        0.00000   \n",
       "1             -1.565274         1.0                       -1.09375   \n",
       "2             -1.000000       256.0                     -256.00000   \n",
       "\n",
       "   DIFF_avg_TD_landed^3  DIFF_avg_TD_landed^2 Diff_age^3  \n",
       "0              0.000000                        -0.000000  \n",
       "1             -1.308441                         1.196289  \n",
       "2             -1.000000                        64.000000  "
      ]
     },
     "execution_count": 90,
     "metadata": {},
     "output_type": "execute_result"
    }
   ],
   "source": [
    "X_collection = Xnew[['DIFF_avg_TD_landed Fighters_Stance_Orthodox', 'DIFF_wins Diff_age',\n",
    "       'DIFF_avg_TD_landed DIFF_losses', 'DIFF_avg_TD_landed', 'Diff_age']].copy()\n",
    "\n",
    "X_collection['Diff_age^3'] = X_collection['Diff_age']**3\n",
    "X_collection['DIFF_avg_TD_landed^5'] = X_collection['DIFF_avg_TD_landed']**5               \n",
    "X_collection['Diff_age^4'] = X_collection['Diff_age']**4                         \n",
    "X_collection['DIFF_avg_TD_landed Diff_age^4'] = X_collection['DIFF_avg_TD_landed'] * X_collection['Diff_age^4']\n",
    "X_collection['DIFF_avg_TD_landed^3'] = X_collection['DIFF_avg_TD_landed']**3               \n",
    "X_collection['DIFF_avg_TD_landed^2 Diff_age^3'] = X_collection['DIFF_avg_TD_landed']**2 * X_collection['Diff_age^3'] \n",
    "X_collection.head(3)"
   ]
  },
  {
   "cell_type": "code",
   "execution_count": 91,
   "id": "247886d5",
   "metadata": {},
   "outputs": [
    {
     "name": "stdout",
     "output_type": "stream",
     "text": [
      "\n",
      "best tree depth = {'max_depth': 3}   Best R2 = 0.563\n"
     ]
    },
    {
     "data": {
      "text/plain": [
       "<AxesSubplot:xlabel='depth'>"
      ]
     },
     "execution_count": 91,
     "metadata": {},
     "output_type": "execute_result"
    },
    {
     "data": {
      "image/png": "[encoded data removed]",
      "text/plain": [
       "<Figure size 432x288 with 1 Axes>"
      ]
     },
     "metadata": {
      "needs_background": "light"
     },
     "output_type": "display_data"
    }
   ],
   "source": [
    "grid = {'max_depth':np.arange(1,20,2)}\n",
    "rtree = DecisionTreeClassifier()\n",
    "treeCV = GridSearchCV(rtree,param_grid=grid,return_train_score=True, n_jobs = -1)\n",
    "\n",
    "\n",
    "treeCV.fit(X_collection,y)\n",
    "print()\n",
    "print('best tree depth =',treeCV.best_params_, '  Best R2 =', (treeCV.best_score_).round(3))\n",
    "\n",
    "results = pd.DataFrame()\n",
    "results['depth'] = grid['max_depth']\n",
    "results['train error'] =1 - treeCV.cv_results_['mean_train_score']\n",
    "results['valid error']  = 1 - treeCV.cv_results_['mean_test_score']\n",
    "ax1 = results.plot.line(x='depth',y='train error')\n",
    "results.plot.line(x='depth',y='valid error',ax=ax1)"
   ]
  }
 ],
 "metadata": {
  "kernelspec": {
   "display_name": "Python 3 (ipykernel)",
   "language": "python",
   "name": "python3"
  },
  "language_info": {
   "codemirror_mode": {
    "name": "ipython",
    "version": 3
   },
   "file_extension": ".py",
   "mimetype": "text/x-python",
   "name": "python",
   "nbconvert_exporter": "python",
   "pygments_lexer": "ipython3",
   "version": "3.9.7"
  }
 },
 "nbformat": 4,
 "nbformat_minor": 5
}
