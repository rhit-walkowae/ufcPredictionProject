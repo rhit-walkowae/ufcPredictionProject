{
 "cells": [
  {
   "cell_type": "code",
   "execution_count": 26,
   "id": "252d1873",
   "metadata": {},
   "outputs": [],
   "source": [
    "## Exploring algorithms for UFC project\n",
    "import pandas as pd\n",
    "import os\n",
    "from sklearn.linear_model import LinearRegression\n",
    "from sklearn.linear_model import LogisticRegression\n",
    "from sklearn.model_selection import cross_validate\n",
    "from sklearn.model_selection import train_test_split"
   ]
  },
  {
   "cell_type": "code",
   "execution_count": 27,
   "id": "193250c3",
   "metadata": {},
   "outputs": [
    {
     "name": "stdout",
     "output_type": "stream",
     "text": [
      "(6012, 144)\n"
     ]
    },
    {
     "data": {
      "text/html": [
       "<div>\n",
       "<style scoped>\n",
       "    .dataframe tbody tr th:only-of-type {\n",
       "        vertical-align: middle;\n",
       "    }\n",
       "\n",
       "    .dataframe tbody tr th {\n",
       "        vertical-align: top;\n",
       "    }\n",
       "\n",
       "    .dataframe thead th {\n",
       "        text-align: right;\n",
       "    }\n",
       "</style>\n",
       "<table border=\"1\" class=\"dataframe\">\n",
       "  <thead>\n",
       "    <tr style=\"text-align: right;\">\n",
       "      <th></th>\n",
       "      <th>R_fighter</th>\n",
       "      <th>B_fighter</th>\n",
       "      <th>Referee</th>\n",
       "      <th>date</th>\n",
       "      <th>location</th>\n",
       "      <th>Winner</th>\n",
       "      <th>title_bout</th>\n",
       "      <th>weight_class</th>\n",
       "      <th>B_avg_KD</th>\n",
       "      <th>B_avg_opp_KD</th>\n",
       "      <th>...</th>\n",
       "      <th>R_win_by_Decision_Unanimous</th>\n",
       "      <th>R_win_by_KO/TKO</th>\n",
       "      <th>R_win_by_Submission</th>\n",
       "      <th>R_win_by_TKO_Doctor_Stoppage</th>\n",
       "      <th>R_Stance</th>\n",
       "      <th>R_Height_cms</th>\n",
       "      <th>R_Reach_cms</th>\n",
       "      <th>R_Weight_lbs</th>\n",
       "      <th>B_age</th>\n",
       "      <th>R_age</th>\n",
       "    </tr>\n",
       "  </thead>\n",
       "  <tbody>\n",
       "    <tr>\n",
       "      <th>0</th>\n",
       "      <td>Aalon Cruz</td>\n",
       "      <td>Spike Carlyle</td>\n",
       "      <td>Scott Howard</td>\n",
       "      <td>2/29/2020</td>\n",
       "      <td>Norfolk, Virginia, USA</td>\n",
       "      <td>Blue</td>\n",
       "      <td>False</td>\n",
       "      <td>Featherweight</td>\n",
       "      <td>NaN</td>\n",
       "      <td>NaN</td>\n",
       "      <td>...</td>\n",
       "      <td>0</td>\n",
       "      <td>0</td>\n",
       "      <td>0</td>\n",
       "      <td>0</td>\n",
       "      <td>Switch</td>\n",
       "      <td>182.88</td>\n",
       "      <td>198.12</td>\n",
       "      <td>145.0</td>\n",
       "      <td>26.0</td>\n",
       "      <td>30.0</td>\n",
       "    </tr>\n",
       "    <tr>\n",
       "      <th>1</th>\n",
       "      <td>Aaron Phillips</td>\n",
       "      <td>Matt Hobar</td>\n",
       "      <td>Kevin Nix</td>\n",
       "      <td>8/23/2014</td>\n",
       "      <td>Tulsa, Oklahoma, USA</td>\n",
       "      <td>Blue</td>\n",
       "      <td>False</td>\n",
       "      <td>Bantamweight</td>\n",
       "      <td>0.0</td>\n",
       "      <td>0.0</td>\n",
       "      <td>...</td>\n",
       "      <td>0</td>\n",
       "      <td>0</td>\n",
       "      <td>0</td>\n",
       "      <td>0</td>\n",
       "      <td>Southpaw</td>\n",
       "      <td>175.26</td>\n",
       "      <td>180.34</td>\n",
       "      <td>135.0</td>\n",
       "      <td>27.0</td>\n",
       "      <td>25.0</td>\n",
       "    </tr>\n",
       "    <tr>\n",
       "      <th>2</th>\n",
       "      <td>Aaron Riley</td>\n",
       "      <td>Justin Salas</td>\n",
       "      <td>Randy Corley</td>\n",
       "      <td>7/27/2013</td>\n",
       "      <td>Seattle, Washington, USA</td>\n",
       "      <td>Blue</td>\n",
       "      <td>False</td>\n",
       "      <td>Lightweight</td>\n",
       "      <td>0.0</td>\n",
       "      <td>1.0</td>\n",
       "      <td>...</td>\n",
       "      <td>3</td>\n",
       "      <td>0</td>\n",
       "      <td>0</td>\n",
       "      <td>0</td>\n",
       "      <td>Southpaw</td>\n",
       "      <td>172.72</td>\n",
       "      <td>175.26</td>\n",
       "      <td>155.0</td>\n",
       "      <td>31.0</td>\n",
       "      <td>32.0</td>\n",
       "    </tr>\n",
       "  </tbody>\n",
       "</table>\n",
       "<p>3 rows × 144 columns</p>\n",
       "</div>"
      ],
      "text/plain": [
       "        R_fighter      B_fighter       Referee       date  \\\n",
       "0      Aalon Cruz  Spike Carlyle  Scott Howard  2/29/2020   \n",
       "1  Aaron Phillips     Matt Hobar     Kevin Nix  8/23/2014   \n",
       "2     Aaron Riley   Justin Salas  Randy Corley  7/27/2013   \n",
       "\n",
       "                   location Winner  title_bout   weight_class  B_avg_KD  \\\n",
       "0    Norfolk, Virginia, USA   Blue       False  Featherweight       NaN   \n",
       "1      Tulsa, Oklahoma, USA   Blue       False   Bantamweight       0.0   \n",
       "2  Seattle, Washington, USA   Blue       False    Lightweight       0.0   \n",
       "\n",
       "   B_avg_opp_KD  ...  R_win_by_Decision_Unanimous  R_win_by_KO/TKO  \\\n",
       "0           NaN  ...                            0                0   \n",
       "1           0.0  ...                            0                0   \n",
       "2           1.0  ...                            3                0   \n",
       "\n",
       "   R_win_by_Submission  R_win_by_TKO_Doctor_Stoppage  R_Stance  R_Height_cms  \\\n",
       "0                    0                             0    Switch        182.88   \n",
       "1                    0                             0  Southpaw        175.26   \n",
       "2                    0                             0  Southpaw        172.72   \n",
       "\n",
       "   R_Reach_cms  R_Weight_lbs  B_age  R_age  \n",
       "0       198.12         145.0   26.0   30.0  \n",
       "1       180.34         135.0   27.0   25.0  \n",
       "2       175.26         155.0   31.0   32.0  \n",
       "\n",
       "[3 rows x 144 columns]"
      ]
     },
     "execution_count": 27,
     "metadata": {},
     "output_type": "execute_result"
    }
   ],
   "source": [
    "path = os.getcwd()\n",
    "p = path.removesuffix('ufcPredictionProject')\n",
    "p = p+'UFCdata.csv'\n",
    "\n",
    "\n",
    "df = pd.read_csv(p)\n",
    "print(df.shape)\n",
    "df.head(3)"
   ]
  },
  {
   "cell_type": "code",
   "execution_count": 28,
   "id": "ebf3a11c",
   "metadata": {},
   "outputs": [
    {
     "name": "stdout",
     "output_type": "stream",
     "text": [
      "(3914, 140)\n",
      "0\n"
     ]
    }
   ],
   "source": [
    "# removing features that are anticipated to not be significant\n",
    "df = df.drop(['R_fighter','B_fighter','Referee','location'],axis=1)\n",
    "\n",
    "# removing rows that contain NaN\n",
    "df.dropna(inplace=True)\n",
    "print(df.shape)\n",
    "df.head(3)\n",
    "print(df.isnull().sum().sum())"
   ]
  },
  {
   "cell_type": "code",
   "execution_count": 29,
   "id": "2fd3b8cb",
   "metadata": {},
   "outputs": [
    {
     "name": "stdout",
     "output_type": "stream",
     "text": [
      "0\n"
     ]
    }
   ],
   "source": [
    "# test train split\n",
    "(df_train,df_test) = train_test_split(df, train_size = 0.8)\n",
    "\n",
    "X_train = df_train.drop('Winner',axis=1)\n",
    "y_train = df_train.Winner\n",
    "X_test = df_test.drop('Winner',axis=1)\n",
    "y_test = df_test.Winner\n",
    "\n",
    "X = X_train\n",
    "y = y_train\n",
    "\n",
    "print(X.isnull().sum().sum())"
   ]
  },
  {
   "cell_type": "code",
   "execution_count": 30,
   "id": "fac8f3c0",
   "metadata": {},
   "outputs": [],
   "source": [
    "# make time a continuous feature\n",
    "X.date = pd.to_datetime(X.date)\n",
    "X.date = pd.to_numeric(X.date)"
   ]
  },
  {
   "cell_type": "code",
   "execution_count": 31,
   "id": "79a1f4b4",
   "metadata": {},
   "outputs": [],
   "source": [
    "# split features into numerical and categorical\n",
    "X_num = X.select_dtypes(include='number')\n",
    "X_cat = X.select_dtypes(exclude='number')"
   ]
  },
  {
   "cell_type": "code",
   "execution_count": 32,
   "id": "6f3ac4cd",
   "metadata": {},
   "outputs": [],
   "source": [
    "# one hot encode\n",
    "X_cat = pd.get_dummies(X_cat)"
   ]
  },
  {
   "cell_type": "code",
   "execution_count": 33,
   "id": "e1b4ad73",
   "metadata": {},
   "outputs": [
    {
     "name": "stdout",
     "output_type": "stream",
     "text": [
      "B_draw\n",
      "R_draw\n"
     ]
    }
   ],
   "source": [
    "# finding columns that are all zeros from X_num\n",
    "cols = pd.Series(X_num.columns)\n",
    "for i in range(len(cols)):\n",
    "    if (X_num.iloc[:,i] == 0).all():\n",
    "        print(cols[i])"
   ]
  },
  {
   "cell_type": "code",
   "execution_count": 34,
   "id": "e65a5150",
   "metadata": {},
   "outputs": [],
   "source": [
    "# removing columns of zeros\n",
    "X_num = X_num.drop(['B_draw', 'R_draw'], axis=1)"
   ]
  },
  {
   "cell_type": "code",
   "execution_count": 35,
   "id": "29995a74",
   "metadata": {},
   "outputs": [],
   "source": [
    "# standardize\n",
    "X_num = (X_num - X_num.mean())/X_num.std()"
   ]
  },
  {
   "cell_type": "code",
   "execution_count": 36,
   "id": "cf231dd1",
   "metadata": {},
   "outputs": [],
   "source": [
    "# put back together\n",
    "X = pd.concat([X_num,X_cat], axis=1)"
   ]
  },
  {
   "cell_type": "code",
   "execution_count": 37,
   "id": "096cd65e",
   "metadata": {},
   "outputs": [
    {
     "data": {
      "text/html": [
       "<div>\n",
       "<style scoped>\n",
       "    .dataframe tbody tr th:only-of-type {\n",
       "        vertical-align: middle;\n",
       "    }\n",
       "\n",
       "    .dataframe tbody tr th {\n",
       "        vertical-align: top;\n",
       "    }\n",
       "\n",
       "    .dataframe thead th {\n",
       "        text-align: right;\n",
       "    }\n",
       "</style>\n",
       "<table border=\"1\" class=\"dataframe\">\n",
       "  <thead>\n",
       "    <tr style=\"text-align: right;\">\n",
       "      <th></th>\n",
       "      <th>date</th>\n",
       "      <th>B_avg_KD</th>\n",
       "      <th>B_avg_opp_KD</th>\n",
       "      <th>B_avg_SIG_STR_pct</th>\n",
       "      <th>B_avg_opp_SIG_STR_pct</th>\n",
       "      <th>B_avg_TD_pct</th>\n",
       "      <th>B_avg_opp_TD_pct</th>\n",
       "      <th>B_avg_SUB_ATT</th>\n",
       "      <th>B_avg_opp_SUB_ATT</th>\n",
       "      <th>B_avg_REV</th>\n",
       "      <th>...</th>\n",
       "      <th>weight_class_WomenFlyweight</th>\n",
       "      <th>weight_class_WomenStrawweight</th>\n",
       "      <th>B_Stance_Open Stance</th>\n",
       "      <th>B_Stance_Orthodox</th>\n",
       "      <th>B_Stance_Southpaw</th>\n",
       "      <th>B_Stance_Switch</th>\n",
       "      <th>R_Stance_Open Stance</th>\n",
       "      <th>R_Stance_Orthodox</th>\n",
       "      <th>R_Stance_Southpaw</th>\n",
       "      <th>R_Stance_Switch</th>\n",
       "    </tr>\n",
       "  </thead>\n",
       "  <tbody>\n",
       "    <tr>\n",
       "      <th>4181</th>\n",
       "      <td>0.584418</td>\n",
       "      <td>-0.525448</td>\n",
       "      <td>0.036349</td>\n",
       "      <td>-0.504604</td>\n",
       "      <td>-0.301239</td>\n",
       "      <td>-0.560353</td>\n",
       "      <td>-0.071090</td>\n",
       "      <td>-0.484238</td>\n",
       "      <td>-0.216590</td>\n",
       "      <td>1.406455</td>\n",
       "      <td>...</td>\n",
       "      <td>0</td>\n",
       "      <td>0</td>\n",
       "      <td>0</td>\n",
       "      <td>0</td>\n",
       "      <td>1</td>\n",
       "      <td>0</td>\n",
       "      <td>0</td>\n",
       "      <td>1</td>\n",
       "      <td>0</td>\n",
       "      <td>0</td>\n",
       "    </tr>\n",
       "    <tr>\n",
       "      <th>4220</th>\n",
       "      <td>1.090728</td>\n",
       "      <td>-0.689873</td>\n",
       "      <td>-0.565726</td>\n",
       "      <td>-1.409089</td>\n",
       "      <td>0.139743</td>\n",
       "      <td>-1.110965</td>\n",
       "      <td>0.961066</td>\n",
       "      <td>-0.662110</td>\n",
       "      <td>-0.216590</td>\n",
       "      <td>-0.460622</td>\n",
       "      <td>...</td>\n",
       "      <td>1</td>\n",
       "      <td>0</td>\n",
       "      <td>0</td>\n",
       "      <td>1</td>\n",
       "      <td>0</td>\n",
       "      <td>0</td>\n",
       "      <td>0</td>\n",
       "      <td>0</td>\n",
       "      <td>1</td>\n",
       "      <td>0</td>\n",
       "    </tr>\n",
       "    <tr>\n",
       "      <th>1920</th>\n",
       "      <td>-0.160981</td>\n",
       "      <td>0.648651</td>\n",
       "      <td>-0.562591</td>\n",
       "      <td>0.775451</td>\n",
       "      <td>-0.583021</td>\n",
       "      <td>-0.371044</td>\n",
       "      <td>-1.001829</td>\n",
       "      <td>-0.064572</td>\n",
       "      <td>-0.621760</td>\n",
       "      <td>-0.460622</td>\n",
       "      <td>...</td>\n",
       "      <td>0</td>\n",
       "      <td>0</td>\n",
       "      <td>0</td>\n",
       "      <td>1</td>\n",
       "      <td>0</td>\n",
       "      <td>0</td>\n",
       "      <td>0</td>\n",
       "      <td>1</td>\n",
       "      <td>0</td>\n",
       "      <td>0</td>\n",
       "    </tr>\n",
       "    <tr>\n",
       "      <th>3124</th>\n",
       "      <td>0.884454</td>\n",
       "      <td>1.283230</td>\n",
       "      <td>-0.565726</td>\n",
       "      <td>0.898908</td>\n",
       "      <td>-0.249962</td>\n",
       "      <td>-1.110965</td>\n",
       "      <td>-1.023849</td>\n",
       "      <td>-0.662110</td>\n",
       "      <td>-0.631484</td>\n",
       "      <td>-0.460622</td>\n",
       "      <td>...</td>\n",
       "      <td>0</td>\n",
       "      <td>0</td>\n",
       "      <td>0</td>\n",
       "      <td>0</td>\n",
       "      <td>1</td>\n",
       "      <td>0</td>\n",
       "      <td>0</td>\n",
       "      <td>1</td>\n",
       "      <td>0</td>\n",
       "      <td>0</td>\n",
       "    </tr>\n",
       "    <tr>\n",
       "      <th>1146</th>\n",
       "      <td>0.317200</td>\n",
       "      <td>-0.689873</td>\n",
       "      <td>-0.365034</td>\n",
       "      <td>0.883313</td>\n",
       "      <td>2.057500</td>\n",
       "      <td>0.096145</td>\n",
       "      <td>0.638517</td>\n",
       "      <td>-0.484238</td>\n",
       "      <td>0.820645</td>\n",
       "      <td>1.033039</td>\n",
       "      <td>...</td>\n",
       "      <td>0</td>\n",
       "      <td>0</td>\n",
       "      <td>0</td>\n",
       "      <td>1</td>\n",
       "      <td>0</td>\n",
       "      <td>0</td>\n",
       "      <td>0</td>\n",
       "      <td>1</td>\n",
       "      <td>0</td>\n",
       "      <td>0</td>\n",
       "    </tr>\n",
       "  </tbody>\n",
       "</table>\n",
       "<p>5 rows × 155 columns</p>\n",
       "</div>"
      ],
      "text/plain": [
       "          date  B_avg_KD  B_avg_opp_KD  B_avg_SIG_STR_pct  \\\n",
       "4181  0.584418 -0.525448      0.036349          -0.504604   \n",
       "4220  1.090728 -0.689873     -0.565726          -1.409089   \n",
       "1920 -0.160981  0.648651     -0.562591           0.775451   \n",
       "3124  0.884454  1.283230     -0.565726           0.898908   \n",
       "1146  0.317200 -0.689873     -0.365034           0.883313   \n",
       "\n",
       "      B_avg_opp_SIG_STR_pct  B_avg_TD_pct  B_avg_opp_TD_pct  B_avg_SUB_ATT  \\\n",
       "4181              -0.301239     -0.560353         -0.071090      -0.484238   \n",
       "4220               0.139743     -1.110965          0.961066      -0.662110   \n",
       "1920              -0.583021     -0.371044         -1.001829      -0.064572   \n",
       "3124              -0.249962     -1.110965         -1.023849      -0.662110   \n",
       "1146               2.057500      0.096145          0.638517      -0.484238   \n",
       "\n",
       "      B_avg_opp_SUB_ATT  B_avg_REV  ...  weight_class_WomenFlyweight  \\\n",
       "4181          -0.216590   1.406455  ...                            0   \n",
       "4220          -0.216590  -0.460622  ...                            1   \n",
       "1920          -0.621760  -0.460622  ...                            0   \n",
       "3124          -0.631484  -0.460622  ...                            0   \n",
       "1146           0.820645   1.033039  ...                            0   \n",
       "\n",
       "      weight_class_WomenStrawweight  B_Stance_Open Stance  B_Stance_Orthodox  \\\n",
       "4181                              0                     0                  0   \n",
       "4220                              0                     0                  1   \n",
       "1920                              0                     0                  1   \n",
       "3124                              0                     0                  0   \n",
       "1146                              0                     0                  1   \n",
       "\n",
       "      B_Stance_Southpaw  B_Stance_Switch  R_Stance_Open Stance  \\\n",
       "4181                  1                0                     0   \n",
       "4220                  0                0                     0   \n",
       "1920                  0                0                     0   \n",
       "3124                  1                0                     0   \n",
       "1146                  0                0                     0   \n",
       "\n",
       "      R_Stance_Orthodox  R_Stance_Southpaw  R_Stance_Switch  \n",
       "4181                  1                  0                0  \n",
       "4220                  0                  1                0  \n",
       "1920                  1                  0                0  \n",
       "3124                  1                  0                0  \n",
       "1146                  1                  0                0  \n",
       "\n",
       "[5 rows x 155 columns]"
      ]
     },
     "execution_count": 37,
     "metadata": {},
     "output_type": "execute_result"
    }
   ],
   "source": [
    "X.head()"
   ]
  },
  {
   "cell_type": "code",
   "execution_count": 38,
   "id": "2566eb00",
   "metadata": {},
   "outputs": [
    {
     "data": {
      "text/plain": [
       "LogisticRegression(max_iter=1000, random_state=0)"
      ]
     },
     "execution_count": 38,
     "metadata": {},
     "output_type": "execute_result"
    }
   ],
   "source": [
    "# logistic regression\n",
    "logr = LogisticRegression(random_state=0, max_iter=1000)\n",
    "logr.fit(X,y)\n"
   ]
  },
  {
   "cell_type": "code",
   "execution_count": 39,
   "id": "7cc56df9",
   "metadata": {},
   "outputs": [
    {
     "name": "stdout",
     "output_type": "stream",
     "text": [
      "Training R2: 0.69\n"
     ]
    }
   ],
   "source": [
    "# Training score\n",
    "print('Training R2:',logr.score(X,y).round(2))"
   ]
  },
  {
   "cell_type": "markdown",
   "id": "b94f35a9",
   "metadata": {},
   "source": [
    "## Finding Test Error"
   ]
  },
  {
   "cell_type": "code",
   "execution_count": 40,
   "id": "93a845b0",
   "metadata": {},
   "outputs": [],
   "source": [
    "X_train = X\n",
    "y_train = y"
   ]
  },
  {
   "cell_type": "code",
   "execution_count": 41,
   "id": "a8af716a",
   "metadata": {},
   "outputs": [],
   "source": [
    "X = X_test\n",
    "y = y_test"
   ]
  },
  {
   "cell_type": "code",
   "execution_count": 42,
   "id": "b2536113",
   "metadata": {},
   "outputs": [],
   "source": [
    "# make time a continuous feature\n",
    "X.date = pd.to_datetime(X.date)\n",
    "X.date = pd.to_numeric(X.date)"
   ]
  },
  {
   "cell_type": "code",
   "execution_count": 43,
   "id": "bfc7008b",
   "metadata": {},
   "outputs": [],
   "source": [
    "# split features into numerical and categorical\n",
    "X_num = X.select_dtypes(include='number')\n",
    "X_cat = X.select_dtypes(exclude='number')"
   ]
  },
  {
   "cell_type": "code",
   "execution_count": 44,
   "id": "aea39430",
   "metadata": {},
   "outputs": [],
   "source": [
    "# one hot encode\n",
    "X_cat = pd.get_dummies(X_cat)"
   ]
  },
  {
   "cell_type": "code",
   "execution_count": 45,
   "id": "12a5c4ad",
   "metadata": {},
   "outputs": [],
   "source": [
    "# removing columns of zeros\n",
    "X_num = X_num.drop(['B_draw', 'R_draw'], axis=1)"
   ]
  },
  {
   "cell_type": "code",
   "execution_count": 46,
   "id": "7a7be18c",
   "metadata": {},
   "outputs": [],
   "source": [
    "# standardize\n",
    "X_num = (X_num - X_num.mean())/X_num.std()"
   ]
  },
  {
   "cell_type": "code",
   "execution_count": 47,
   "id": "03ffc3f3",
   "metadata": {},
   "outputs": [
    {
     "data": {
      "text/html": [
       "<div>\n",
       "<style scoped>\n",
       "    .dataframe tbody tr th:only-of-type {\n",
       "        vertical-align: middle;\n",
       "    }\n",
       "\n",
       "    .dataframe tbody tr th {\n",
       "        vertical-align: top;\n",
       "    }\n",
       "\n",
       "    .dataframe thead th {\n",
       "        text-align: right;\n",
       "    }\n",
       "</style>\n",
       "<table border=\"1\" class=\"dataframe\">\n",
       "  <thead>\n",
       "    <tr style=\"text-align: right;\">\n",
       "      <th></th>\n",
       "      <th>date</th>\n",
       "      <th>B_avg_KD</th>\n",
       "      <th>B_avg_opp_KD</th>\n",
       "      <th>B_avg_SIG_STR_pct</th>\n",
       "      <th>B_avg_opp_SIG_STR_pct</th>\n",
       "      <th>B_avg_TD_pct</th>\n",
       "      <th>B_avg_opp_TD_pct</th>\n",
       "      <th>B_avg_SUB_ATT</th>\n",
       "      <th>B_avg_opp_SUB_ATT</th>\n",
       "      <th>B_avg_REV</th>\n",
       "      <th>...</th>\n",
       "      <th>weight_class_WomenFlyweight</th>\n",
       "      <th>weight_class_WomenStrawweight</th>\n",
       "      <th>B_Stance_Open Stance</th>\n",
       "      <th>B_Stance_Orthodox</th>\n",
       "      <th>B_Stance_Southpaw</th>\n",
       "      <th>B_Stance_Switch</th>\n",
       "      <th>R_Stance_Open Stance</th>\n",
       "      <th>R_Stance_Orthodox</th>\n",
       "      <th>R_Stance_Southpaw</th>\n",
       "      <th>R_Stance_Switch</th>\n",
       "    </tr>\n",
       "  </thead>\n",
       "  <tbody>\n",
       "    <tr>\n",
       "      <th>2013</th>\n",
       "      <td>1.402261</td>\n",
       "      <td>1.855281</td>\n",
       "      <td>-0.543130</td>\n",
       "      <td>0.064579</td>\n",
       "      <td>-0.760399</td>\n",
       "      <td>-1.150728</td>\n",
       "      <td>-0.014444</td>\n",
       "      <td>0.028436</td>\n",
       "      <td>2.843059</td>\n",
       "      <td>1.160344</td>\n",
       "      <td>...</td>\n",
       "      <td>0</td>\n",
       "      <td>0</td>\n",
       "      <td>0</td>\n",
       "      <td>1</td>\n",
       "      <td>0</td>\n",
       "      <td>0</td>\n",
       "      <td>0</td>\n",
       "      <td>0</td>\n",
       "      <td>1</td>\n",
       "      <td>0</td>\n",
       "    </tr>\n",
       "    <tr>\n",
       "      <th>1422</th>\n",
       "      <td>0.076009</td>\n",
       "      <td>-0.615750</td>\n",
       "      <td>-0.543130</td>\n",
       "      <td>0.912726</td>\n",
       "      <td>-0.528492</td>\n",
       "      <td>1.101117</td>\n",
       "      <td>-0.567876</td>\n",
       "      <td>-0.341062</td>\n",
       "      <td>-0.497393</td>\n",
       "      <td>1.166907</td>\n",
       "      <td>...</td>\n",
       "      <td>0</td>\n",
       "      <td>0</td>\n",
       "      <td>0</td>\n",
       "      <td>1</td>\n",
       "      <td>0</td>\n",
       "      <td>0</td>\n",
       "      <td>0</td>\n",
       "      <td>0</td>\n",
       "      <td>1</td>\n",
       "      <td>0</td>\n",
       "    </tr>\n",
       "    <tr>\n",
       "      <th>2739</th>\n",
       "      <td>0.307577</td>\n",
       "      <td>-0.695460</td>\n",
       "      <td>-0.543130</td>\n",
       "      <td>-0.170113</td>\n",
       "      <td>0.761595</td>\n",
       "      <td>-1.060103</td>\n",
       "      <td>1.677366</td>\n",
       "      <td>-0.248688</td>\n",
       "      <td>0.341968</td>\n",
       "      <td>0.110127</td>\n",
       "      <td>...</td>\n",
       "      <td>0</td>\n",
       "      <td>0</td>\n",
       "      <td>0</td>\n",
       "      <td>1</td>\n",
       "      <td>0</td>\n",
       "      <td>0</td>\n",
       "      <td>0</td>\n",
       "      <td>1</td>\n",
       "      <td>0</td>\n",
       "      <td>0</td>\n",
       "    </tr>\n",
       "    <tr>\n",
       "      <th>1053</th>\n",
       "      <td>1.278667</td>\n",
       "      <td>0.619766</td>\n",
       "      <td>-0.109944</td>\n",
       "      <td>-0.343523</td>\n",
       "      <td>0.766064</td>\n",
       "      <td>-0.519722</td>\n",
       "      <td>-1.007350</td>\n",
       "      <td>-0.306422</td>\n",
       "      <td>-0.283305</td>\n",
       "      <td>-0.467492</td>\n",
       "      <td>...</td>\n",
       "      <td>0</td>\n",
       "      <td>0</td>\n",
       "      <td>0</td>\n",
       "      <td>0</td>\n",
       "      <td>0</td>\n",
       "      <td>1</td>\n",
       "      <td>0</td>\n",
       "      <td>1</td>\n",
       "      <td>0</td>\n",
       "      <td>0</td>\n",
       "    </tr>\n",
       "    <tr>\n",
       "      <th>5746</th>\n",
       "      <td>-0.328046</td>\n",
       "      <td>2.492966</td>\n",
       "      <td>-0.543130</td>\n",
       "      <td>-0.024082</td>\n",
       "      <td>-1.082162</td>\n",
       "      <td>-0.967029</td>\n",
       "      <td>1.462022</td>\n",
       "      <td>0.905996</td>\n",
       "      <td>-0.201747</td>\n",
       "      <td>-0.520003</td>\n",
       "      <td>...</td>\n",
       "      <td>0</td>\n",
       "      <td>0</td>\n",
       "      <td>0</td>\n",
       "      <td>1</td>\n",
       "      <td>0</td>\n",
       "      <td>0</td>\n",
       "      <td>0</td>\n",
       "      <td>1</td>\n",
       "      <td>0</td>\n",
       "      <td>0</td>\n",
       "    </tr>\n",
       "  </tbody>\n",
       "</table>\n",
       "<p>5 rows × 155 columns</p>\n",
       "</div>"
      ],
      "text/plain": [
       "          date  B_avg_KD  B_avg_opp_KD  B_avg_SIG_STR_pct  \\\n",
       "2013  1.402261  1.855281     -0.543130           0.064579   \n",
       "1422  0.076009 -0.615750     -0.543130           0.912726   \n",
       "2739  0.307577 -0.695460     -0.543130          -0.170113   \n",
       "1053  1.278667  0.619766     -0.109944          -0.343523   \n",
       "5746 -0.328046  2.492966     -0.543130          -0.024082   \n",
       "\n",
       "      B_avg_opp_SIG_STR_pct  B_avg_TD_pct  B_avg_opp_TD_pct  B_avg_SUB_ATT  \\\n",
       "2013              -0.760399     -1.150728         -0.014444       0.028436   \n",
       "1422              -0.528492      1.101117         -0.567876      -0.341062   \n",
       "2739               0.761595     -1.060103          1.677366      -0.248688   \n",
       "1053               0.766064     -0.519722         -1.007350      -0.306422   \n",
       "5746              -1.082162     -0.967029          1.462022       0.905996   \n",
       "\n",
       "      B_avg_opp_SUB_ATT  B_avg_REV  ...  weight_class_WomenFlyweight  \\\n",
       "2013           2.843059   1.160344  ...                            0   \n",
       "1422          -0.497393   1.166907  ...                            0   \n",
       "2739           0.341968   0.110127  ...                            0   \n",
       "1053          -0.283305  -0.467492  ...                            0   \n",
       "5746          -0.201747  -0.520003  ...                            0   \n",
       "\n",
       "      weight_class_WomenStrawweight  B_Stance_Open Stance  B_Stance_Orthodox  \\\n",
       "2013                              0                     0                  1   \n",
       "1422                              0                     0                  1   \n",
       "2739                              0                     0                  1   \n",
       "1053                              0                     0                  0   \n",
       "5746                              0                     0                  1   \n",
       "\n",
       "      B_Stance_Southpaw  B_Stance_Switch  R_Stance_Open Stance  \\\n",
       "2013                  0                0                     0   \n",
       "1422                  0                0                     0   \n",
       "2739                  0                0                     0   \n",
       "1053                  0                1                     0   \n",
       "5746                  0                0                     0   \n",
       "\n",
       "      R_Stance_Orthodox  R_Stance_Southpaw  R_Stance_Switch  \n",
       "2013                  0                  1                0  \n",
       "1422                  0                  1                0  \n",
       "2739                  1                  0                0  \n",
       "1053                  1                  0                0  \n",
       "5746                  1                  0                0  \n",
       "\n",
       "[5 rows x 155 columns]"
      ]
     },
     "execution_count": 47,
     "metadata": {},
     "output_type": "execute_result"
    }
   ],
   "source": [
    "# put back together\n",
    "X = pd.concat([X_num,X_cat], axis=1)\n",
    "X.head()"
   ]
  },
  {
   "cell_type": "code",
   "execution_count": 48,
   "id": "8a17bc7c",
   "metadata": {},
   "outputs": [
    {
     "data": {
      "text/plain": [
       "LogisticRegression(max_iter=1000, random_state=0)"
      ]
     },
     "execution_count": 48,
     "metadata": {},
     "output_type": "execute_result"
    }
   ],
   "source": [
    "# logistic regression\n",
    "logr = LogisticRegression(random_state=0, max_iter=1000)\n",
    "logr.fit(X_train,y_train)"
   ]
  },
  {
   "cell_type": "code",
   "execution_count": 49,
   "id": "96082971",
   "metadata": {},
   "outputs": [
    {
     "name": "stdout",
     "output_type": "stream",
     "text": [
      "Test R2: 0.61\n"
     ]
    }
   ],
   "source": [
    "# Test score\n",
    "print('Test R2:',logr.score(X,y).round(2))"
   ]
  },
  {
   "cell_type": "markdown",
   "id": "569daa43",
   "metadata": {},
   "source": [
    "## Feature Selection"
   ]
  },
  {
   "cell_type": "code",
   "execution_count": 51,
   "id": "5be0b8d9",
   "metadata": {},
   "outputs": [],
   "source": [
    "from sklearn.model_selection import GridSearchCV"
   ]
  },
  {
   "cell_type": "code",
   "execution_count": 52,
   "id": "0777e1b4",
   "metadata": {},
   "outputs": [],
   "source": [
    "X_test = X\n",
    "y_test = y"
   ]
  },
  {
   "cell_type": "code",
   "execution_count": 65,
   "id": "17fc0960",
   "metadata": {},
   "outputs": [
    {
     "data": {
      "text/plain": [
       "GridSearchCV(estimator=LogisticRegression(max_iter=1000, penalty='l1',\n",
       "                                          solver='liblinear'),\n",
       "             param_grid={'C': [0.01, 0.1, 1, 10, 100]})"
      ]
     },
     "execution_count": 65,
     "metadata": {},
     "output_type": "execute_result"
    }
   ],
   "source": [
    "# LASSO to find insignificant features to drop\n",
    "grid = {'C':[0.01, 0.1, 1, 10, 100]}\n",
    "\n",
    "lr_model = LogisticRegression(penalty='l1', solver='liblinear',max_iter=1000)\n",
    "gs_model = GridSearchCV(estimator=lr_model, param_grid=grid)\n",
    "gs_model.fit(X_train, y_train)\n",
    "# TAKES ROUGHLY 6 MINUTES TO RUN!!!"
   ]
  },
  {
   "cell_type": "code",
   "execution_count": 66,
   "id": "7e035c84",
   "metadata": {},
   "outputs": [
    {
     "data": {
      "text/plain": [
       "{'C': 0.1}"
      ]
     },
     "execution_count": 66,
     "metadata": {},
     "output_type": "execute_result"
    }
   ],
   "source": [
    "gs_model.best_params_"
   ]
  },
  {
   "cell_type": "code",
   "execution_count": 68,
   "id": "0986e938",
   "metadata": {},
   "outputs": [
    {
     "data": {
      "text/plain": [
       "LogisticRegression(C=0.1, penalty='l1', solver='liblinear')"
      ]
     },
     "execution_count": 68,
     "metadata": {},
     "output_type": "execute_result"
    }
   ],
   "source": [
    "# Train a LR model with best parameters\n",
    "model = LogisticRegression(C=0.1, penalty='l1', solver='liblinear')\n",
    "model.fit(X_train, y_train)"
   ]
  },
  {
   "cell_type": "code",
   "execution_count": 70,
   "id": "96b2bc99",
   "metadata": {},
   "outputs": [
    {
     "data": {
      "text/plain": [
       "array([ 0.41075645,  0.01321046, -0.0478672 ,  0.        , -0.01776387,\n",
       "       -0.09030232, -0.05552672,  0.        , -0.02339466,  0.        ,\n",
       "        0.        ,  0.        ,  0.        ,  0.        ,  0.        ,\n",
       "        0.        , -0.08866024,  0.        , -0.09052038,  0.17983878,\n",
       "        0.03516777,  0.12055062,  0.00728791,  0.04548935,  0.        ,\n",
       "        0.        , -0.00152466,  0.07711024,  0.        ,  0.        ,\n",
       "       -0.03194339,  0.        , -0.00139155,  0.        ,  0.        ,\n",
       "        0.        ,  0.        ,  0.        ,  0.        ,  0.        ,\n",
       "        0.        ,  0.        , -0.02995546,  0.09252346,  0.        ,\n",
       "       -0.03038282, -0.02175322,  0.        ,  0.        ,  0.0383976 ,\n",
       "        0.        , -0.1061272 ,  0.        ,  0.        ,  0.        ,\n",
       "        0.        ,  0.        , -0.0501346 , -0.07779611,  0.06319975,\n",
       "        0.        ,  0.        ,  0.        ,  0.        ,  0.09128198,\n",
       "        0.00391838,  0.        ,  0.01272704, -0.04873737,  0.0948977 ,\n",
       "        0.        ,  0.        , -0.09022618, -0.02091225,  0.0260343 ,\n",
       "        0.00605963,  0.        ,  0.        ,  0.        ,  0.        ,\n",
       "        0.        ,  0.        ,  0.        , -0.00202512, -0.06570271,\n",
       "       -0.02452439, -0.0673832 ,  0.        ,  0.        ,  0.        ,\n",
       "        0.        ,  0.04651969,  0.10039301,  0.        ,  0.        ,\n",
       "        0.        , -0.09143802,  0.        ,  0.        , -0.03591206,\n",
       "        0.        , -0.01183682,  0.        ,  0.        ,  0.01899273,\n",
       "        0.        ,  0.        ,  0.        , -0.02906646,  0.        ,\n",
       "       -0.0848166 ,  0.        ,  0.        ,  0.13399821,  0.        ,\n",
       "        0.        , -0.07994074, -0.01526482,  0.05870098, -0.08889252,\n",
       "        0.        ,  0.02555594,  0.        ,  0.12780224,  0.        ,\n",
       "        0.        ,  0.        ,  0.        ,  0.        , -0.01079236,\n",
       "        0.        , -0.27819424,  0.243261  ,  0.        ,  0.        ,\n",
       "        0.        ,  0.        ,  0.        ,  0.        ,  0.        ,\n",
       "        0.        ,  0.        ,  0.        ,  0.        ,  0.        ,\n",
       "        0.        ,  0.        ,  0.        , -0.06735463,  0.        ,\n",
       "        0.        ,  0.        ,  0.        , -0.16954659,  0.        ])"
      ]
     },
     "execution_count": 70,
     "metadata": {},
     "output_type": "execute_result"
    }
   ],
   "source": [
    "# viewing coefficients after LASSO\n",
    "coef = model.coef_[0]\n",
    "coef"
   ]
  },
  {
   "cell_type": "code",
   "execution_count": 77,
   "id": "3e1a64f7",
   "metadata": {},
   "outputs": [
    {
     "name": "stdout",
     "output_type": "stream",
     "text": [
      "60\n"
     ]
    },
    {
     "data": {
      "text/plain": [
       "0                              date\n",
       "1                          B_avg_KD\n",
       "2                      B_avg_opp_KD\n",
       "4             B_avg_opp_SIG_STR_pct\n",
       "5                      B_avg_TD_pct\n",
       "6                  B_avg_opp_TD_pct\n",
       "8                 B_avg_opp_SUB_ATT\n",
       "16           B_avg_TOTAL_STR_landed\n",
       "18       B_avg_opp_TOTAL_STR_landed\n",
       "19                     B_avg_TD_att\n",
       "20                  B_avg_TD_landed\n",
       "21                 B_avg_opp_TD_att\n",
       "22              B_avg_opp_TD_landed\n",
       "23                   B_avg_HEAD_att\n",
       "26            B_avg_opp_HEAD_landed\n",
       "27                   B_avg_BODY_att\n",
       "30            B_avg_opp_BODY_landed\n",
       "32                 B_avg_LEG_landed\n",
       "42          B_avg_opp_CLINCH_landed\n",
       "43                 B_avg_GROUND_att\n",
       "45             B_avg_opp_GROUND_att\n",
       "46          B_avg_opp_GROUND_landed\n",
       "49     B_total_time_fought(seconds)\n",
       "51              B_total_title_bouts\n",
       "57       B_win_by_Decision_Majority\n",
       "58          B_win_by_Decision_Split\n",
       "59      B_win_by_Decision_Unanimous\n",
       "64                      B_Reach_cms\n",
       "65                     B_Weight_lbs\n",
       "67                     R_avg_opp_KD\n",
       "68                R_avg_SIG_STR_pct\n",
       "69            R_avg_opp_SIG_STR_pct\n",
       "72                    R_avg_SUB_ATT\n",
       "73                R_avg_opp_SUB_ATT\n",
       "74                        R_avg_REV\n",
       "75                    R_avg_opp_REV\n",
       "83       R_avg_opp_TOTAL_STR_landed\n",
       "84                     R_avg_TD_att\n",
       "85                  R_avg_TD_landed\n",
       "86                 R_avg_opp_TD_att\n",
       "91            R_avg_opp_HEAD_landed\n",
       "92                   R_avg_BODY_att\n",
       "96                    R_avg_LEG_att\n",
       "99             R_avg_opp_LEG_landed\n",
       "101           R_avg_DISTANCE_landed\n",
       "104                R_avg_CLINCH_att\n",
       "108                R_avg_GROUND_att\n",
       "110            R_avg_opp_GROUND_att\n",
       "113    R_avg_opp_CTRL_time(seconds)\n",
       "116             R_total_title_bouts\n",
       "117            R_current_win_streak\n",
       "118           R_current_lose_streak\n",
       "119            R_longest_win_streak\n",
       "121                        R_losses\n",
       "123         R_win_by_Decision_Split\n",
       "129                     R_Reach_cms\n",
       "131                           B_age\n",
       "132                           R_age\n",
       "148               B_Stance_Orthodox\n",
       "153               R_Stance_Southpaw\n",
       "dtype: object"
      ]
     },
     "execution_count": 77,
     "metadata": {},
     "output_type": "execute_result"
    }
   ],
   "source": [
    "# Exctracting only significant features\n",
    "imp_features = pd.Series(X_train.columns)[list(coef!=0)]\n",
    "print(len(imp_features))\n",
    "imp_features"
   ]
  },
  {
   "cell_type": "code",
   "execution_count": 82,
   "id": "037e8412",
   "metadata": {},
   "outputs": [
    {
     "data": {
      "text/html": [
       "<div>\n",
       "<style scoped>\n",
       "    .dataframe tbody tr th:only-of-type {\n",
       "        vertical-align: middle;\n",
       "    }\n",
       "\n",
       "    .dataframe tbody tr th {\n",
       "        vertical-align: top;\n",
       "    }\n",
       "\n",
       "    .dataframe thead th {\n",
       "        text-align: right;\n",
       "    }\n",
       "</style>\n",
       "<table border=\"1\" class=\"dataframe\">\n",
       "  <thead>\n",
       "    <tr style=\"text-align: right;\">\n",
       "      <th></th>\n",
       "      <th>date</th>\n",
       "      <th>B_avg_KD</th>\n",
       "      <th>B_avg_opp_KD</th>\n",
       "      <th>B_avg_opp_SIG_STR_pct</th>\n",
       "      <th>B_avg_TD_pct</th>\n",
       "      <th>B_avg_opp_TD_pct</th>\n",
       "      <th>B_avg_opp_SUB_ATT</th>\n",
       "      <th>B_avg_TOTAL_STR_landed</th>\n",
       "      <th>B_avg_opp_TOTAL_STR_landed</th>\n",
       "      <th>B_avg_TD_att</th>\n",
       "      <th>...</th>\n",
       "      <th>R_current_win_streak</th>\n",
       "      <th>R_current_lose_streak</th>\n",
       "      <th>R_longest_win_streak</th>\n",
       "      <th>R_losses</th>\n",
       "      <th>R_win_by_Decision_Split</th>\n",
       "      <th>R_Reach_cms</th>\n",
       "      <th>B_age</th>\n",
       "      <th>R_age</th>\n",
       "      <th>B_Stance_Orthodox</th>\n",
       "      <th>R_Stance_Southpaw</th>\n",
       "    </tr>\n",
       "  </thead>\n",
       "  <tbody>\n",
       "    <tr>\n",
       "      <th>4181</th>\n",
       "      <td>0.584418</td>\n",
       "      <td>-0.525448</td>\n",
       "      <td>0.036349</td>\n",
       "      <td>-0.301239</td>\n",
       "      <td>-0.560353</td>\n",
       "      <td>-0.071090</td>\n",
       "      <td>-0.21659</td>\n",
       "      <td>-0.039019</td>\n",
       "      <td>0.425212</td>\n",
       "      <td>-0.249530</td>\n",
       "      <td>...</td>\n",
       "      <td>-0.877608</td>\n",
       "      <td>2.385937</td>\n",
       "      <td>-0.460112</td>\n",
       "      <td>0.575581</td>\n",
       "      <td>-0.584165</td>\n",
       "      <td>0.187003</td>\n",
       "      <td>-0.449929</td>\n",
       "      <td>0.185820</td>\n",
       "      <td>0</td>\n",
       "      <td>0</td>\n",
       "    </tr>\n",
       "    <tr>\n",
       "      <th>4220</th>\n",
       "      <td>1.090728</td>\n",
       "      <td>-0.689873</td>\n",
       "      <td>-0.565726</td>\n",
       "      <td>0.139743</td>\n",
       "      <td>-1.110965</td>\n",
       "      <td>0.961066</td>\n",
       "      <td>-0.21659</td>\n",
       "      <td>0.891394</td>\n",
       "      <td>1.206437</td>\n",
       "      <td>-0.954831</td>\n",
       "      <td>...</td>\n",
       "      <td>-0.350505</td>\n",
       "      <td>-0.619038</td>\n",
       "      <td>-0.931362</td>\n",
       "      <td>-0.661588</td>\n",
       "      <td>-0.584165</td>\n",
       "      <td>-1.488611</td>\n",
       "      <td>-0.200155</td>\n",
       "      <td>-1.735910</td>\n",
       "      <td>1</td>\n",
       "      <td>1</td>\n",
       "    </tr>\n",
       "    <tr>\n",
       "      <th>1920</th>\n",
       "      <td>-0.160981</td>\n",
       "      <td>0.648651</td>\n",
       "      <td>-0.562591</td>\n",
       "      <td>-0.583021</td>\n",
       "      <td>-0.371044</td>\n",
       "      <td>-1.001829</td>\n",
       "      <td>-0.62176</td>\n",
       "      <td>-0.729748</td>\n",
       "      <td>-0.848279</td>\n",
       "      <td>0.550132</td>\n",
       "      <td>...</td>\n",
       "      <td>2.285014</td>\n",
       "      <td>-0.619038</td>\n",
       "      <td>1.424887</td>\n",
       "      <td>-0.249199</td>\n",
       "      <td>0.870903</td>\n",
       "      <td>1.383870</td>\n",
       "      <td>0.549169</td>\n",
       "      <td>0.426037</td>\n",
       "      <td>1</td>\n",
       "      <td>0</td>\n",
       "    </tr>\n",
       "  </tbody>\n",
       "</table>\n",
       "<p>3 rows × 60 columns</p>\n",
       "</div>"
      ],
      "text/plain": [
       "          date  B_avg_KD  B_avg_opp_KD  B_avg_opp_SIG_STR_pct  B_avg_TD_pct  \\\n",
       "4181  0.584418 -0.525448      0.036349              -0.301239     -0.560353   \n",
       "4220  1.090728 -0.689873     -0.565726               0.139743     -1.110965   \n",
       "1920 -0.160981  0.648651     -0.562591              -0.583021     -0.371044   \n",
       "\n",
       "      B_avg_opp_TD_pct  B_avg_opp_SUB_ATT  B_avg_TOTAL_STR_landed  \\\n",
       "4181         -0.071090           -0.21659               -0.039019   \n",
       "4220          0.961066           -0.21659                0.891394   \n",
       "1920         -1.001829           -0.62176               -0.729748   \n",
       "\n",
       "      B_avg_opp_TOTAL_STR_landed  B_avg_TD_att  ...  R_current_win_streak  \\\n",
       "4181                    0.425212     -0.249530  ...             -0.877608   \n",
       "4220                    1.206437     -0.954831  ...             -0.350505   \n",
       "1920                   -0.848279      0.550132  ...              2.285014   \n",
       "\n",
       "      R_current_lose_streak  R_longest_win_streak  R_losses  \\\n",
       "4181               2.385937             -0.460112  0.575581   \n",
       "4220              -0.619038             -0.931362 -0.661588   \n",
       "1920              -0.619038              1.424887 -0.249199   \n",
       "\n",
       "      R_win_by_Decision_Split  R_Reach_cms     B_age     R_age  \\\n",
       "4181                -0.584165     0.187003 -0.449929  0.185820   \n",
       "4220                -0.584165    -1.488611 -0.200155 -1.735910   \n",
       "1920                 0.870903     1.383870  0.549169  0.426037   \n",
       "\n",
       "      B_Stance_Orthodox  R_Stance_Southpaw  \n",
       "4181                  0                  0  \n",
       "4220                  1                  1  \n",
       "1920                  1                  0  \n",
       "\n",
       "[3 rows x 60 columns]"
      ]
     },
     "execution_count": 82,
     "metadata": {},
     "output_type": "execute_result"
    }
   ],
   "source": [
    "# removing insifnificant features from X\n",
    "X_train_imp = X_train[imp_features]\n",
    "X_test_imp = X_test[imp_features]\n",
    "\n",
    "X_train_imp.head(3)"
   ]
  },
  {
   "cell_type": "code",
   "execution_count": 83,
   "id": "2f02529a",
   "metadata": {},
   "outputs": [
    {
     "data": {
      "text/plain": [
       "LogisticRegression(max_iter=1000, random_state=0)"
      ]
     },
     "execution_count": 83,
     "metadata": {},
     "output_type": "execute_result"
    }
   ],
   "source": [
    "# Rerunning Logistic Regression with reduced feature set\n",
    "logr = LogisticRegression(random_state=0, max_iter=1000)\n",
    "logr.fit(X_train_imp,y_train)"
   ]
  },
  {
   "cell_type": "code",
   "execution_count": 84,
   "id": "e3b2d25b",
   "metadata": {},
   "outputs": [
    {
     "name": "stdout",
     "output_type": "stream",
     "text": [
      "Train R2: 0.67\n",
      "Test R2: 0.62\n"
     ]
    }
   ],
   "source": [
    "# Scores\n",
    "print('Train R2:',logr.score(X_train_imp,y_train).round(2))\n",
    "print('Test R2:',logr.score(X_test_imp,y_test).round(2))"
   ]
  },
  {
   "cell_type": "code",
   "execution_count": null,
   "id": "c7478969",
   "metadata": {},
   "outputs": [],
   "source": []
  }
 ],
 "metadata": {
  "kernelspec": {
   "display_name": "Python 3 (ipykernel)",
   "language": "python",
   "name": "python3"
  },
  "language_info": {
   "codemirror_mode": {
    "name": "ipython",
    "version": 3
   },
   "file_extension": ".py",
   "mimetype": "text/x-python",
   "name": "python",
   "nbconvert_exporter": "python",
   "pygments_lexer": "ipython3",
   "version": "3.9.7"
  }
 },
 "nbformat": 4,
 "nbformat_minor": 5
}
