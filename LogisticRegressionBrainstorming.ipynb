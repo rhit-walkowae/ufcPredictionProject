{
 "cells": [
  {
   "cell_type": "code",
   "execution_count": 1,
   "id": "252d1873",
   "metadata": {},
   "outputs": [],
   "source": [
    "## Exploring algorithms for UFC project\n",
    "import pandas as pd\n",
    "import os\n",
    "from sklearn.linear_model import LinearRegression\n",
    "from sklearn.linear_model import LogisticRegression\n",
    "from sklearn.model_selection import cross_validate\n",
    "from sklearn.model_selection import train_test_split"
   ]
  },
  {
   "cell_type": "code",
   "execution_count": 2,
   "id": "193250c3",
   "metadata": {},
   "outputs": [
    {
     "name": "stdout",
     "output_type": "stream",
     "text": [
      "(6012, 144)\n"
     ]
    },
    {
     "data": {
      "text/html": [
       "<div>\n",
       "<style scoped>\n",
       "    .dataframe tbody tr th:only-of-type {\n",
       "        vertical-align: middle;\n",
       "    }\n",
       "\n",
       "    .dataframe tbody tr th {\n",
       "        vertical-align: top;\n",
       "    }\n",
       "\n",
       "    .dataframe thead th {\n",
       "        text-align: right;\n",
       "    }\n",
       "</style>\n",
       "<table border=\"1\" class=\"dataframe\">\n",
       "  <thead>\n",
       "    <tr style=\"text-align: right;\">\n",
       "      <th></th>\n",
       "      <th>R_fighter</th>\n",
       "      <th>B_fighter</th>\n",
       "      <th>Referee</th>\n",
       "      <th>date</th>\n",
       "      <th>location</th>\n",
       "      <th>Winner</th>\n",
       "      <th>title_bout</th>\n",
       "      <th>weight_class</th>\n",
       "      <th>B_avg_KD</th>\n",
       "      <th>B_avg_opp_KD</th>\n",
       "      <th>...</th>\n",
       "      <th>R_win_by_Decision_Unanimous</th>\n",
       "      <th>R_win_by_KO/TKO</th>\n",
       "      <th>R_win_by_Submission</th>\n",
       "      <th>R_win_by_TKO_Doctor_Stoppage</th>\n",
       "      <th>R_Stance</th>\n",
       "      <th>R_Height_cms</th>\n",
       "      <th>R_Reach_cms</th>\n",
       "      <th>R_Weight_lbs</th>\n",
       "      <th>B_age</th>\n",
       "      <th>R_age</th>\n",
       "    </tr>\n",
       "  </thead>\n",
       "  <tbody>\n",
       "    <tr>\n",
       "      <th>0</th>\n",
       "      <td>Aalon Cruz</td>\n",
       "      <td>Spike Carlyle</td>\n",
       "      <td>Scott Howard</td>\n",
       "      <td>2/29/2020</td>\n",
       "      <td>Norfolk, Virginia, USA</td>\n",
       "      <td>Blue</td>\n",
       "      <td>False</td>\n",
       "      <td>Featherweight</td>\n",
       "      <td>NaN</td>\n",
       "      <td>NaN</td>\n",
       "      <td>...</td>\n",
       "      <td>0</td>\n",
       "      <td>0</td>\n",
       "      <td>0</td>\n",
       "      <td>0</td>\n",
       "      <td>Switch</td>\n",
       "      <td>182.88</td>\n",
       "      <td>198.12</td>\n",
       "      <td>145.0</td>\n",
       "      <td>26.0</td>\n",
       "      <td>30.0</td>\n",
       "    </tr>\n",
       "    <tr>\n",
       "      <th>1</th>\n",
       "      <td>Aaron Phillips</td>\n",
       "      <td>Matt Hobar</td>\n",
       "      <td>Kevin Nix</td>\n",
       "      <td>8/23/2014</td>\n",
       "      <td>Tulsa, Oklahoma, USA</td>\n",
       "      <td>Blue</td>\n",
       "      <td>False</td>\n",
       "      <td>Bantamweight</td>\n",
       "      <td>0.0</td>\n",
       "      <td>0.0</td>\n",
       "      <td>...</td>\n",
       "      <td>0</td>\n",
       "      <td>0</td>\n",
       "      <td>0</td>\n",
       "      <td>0</td>\n",
       "      <td>Southpaw</td>\n",
       "      <td>175.26</td>\n",
       "      <td>180.34</td>\n",
       "      <td>135.0</td>\n",
       "      <td>27.0</td>\n",
       "      <td>25.0</td>\n",
       "    </tr>\n",
       "    <tr>\n",
       "      <th>2</th>\n",
       "      <td>Aaron Riley</td>\n",
       "      <td>Justin Salas</td>\n",
       "      <td>Randy Corley</td>\n",
       "      <td>7/27/2013</td>\n",
       "      <td>Seattle, Washington, USA</td>\n",
       "      <td>Blue</td>\n",
       "      <td>False</td>\n",
       "      <td>Lightweight</td>\n",
       "      <td>0.0</td>\n",
       "      <td>1.0</td>\n",
       "      <td>...</td>\n",
       "      <td>3</td>\n",
       "      <td>0</td>\n",
       "      <td>0</td>\n",
       "      <td>0</td>\n",
       "      <td>Southpaw</td>\n",
       "      <td>172.72</td>\n",
       "      <td>175.26</td>\n",
       "      <td>155.0</td>\n",
       "      <td>31.0</td>\n",
       "      <td>32.0</td>\n",
       "    </tr>\n",
       "  </tbody>\n",
       "</table>\n",
       "<p>3 rows × 144 columns</p>\n",
       "</div>"
      ],
      "text/plain": [
       "        R_fighter      B_fighter       Referee       date  \\\n",
       "0      Aalon Cruz  Spike Carlyle  Scott Howard  2/29/2020   \n",
       "1  Aaron Phillips     Matt Hobar     Kevin Nix  8/23/2014   \n",
       "2     Aaron Riley   Justin Salas  Randy Corley  7/27/2013   \n",
       "\n",
       "                   location Winner  title_bout   weight_class  B_avg_KD  \\\n",
       "0    Norfolk, Virginia, USA   Blue       False  Featherweight       NaN   \n",
       "1      Tulsa, Oklahoma, USA   Blue       False   Bantamweight       0.0   \n",
       "2  Seattle, Washington, USA   Blue       False    Lightweight       0.0   \n",
       "\n",
       "   B_avg_opp_KD  ...  R_win_by_Decision_Unanimous  R_win_by_KO/TKO  \\\n",
       "0           NaN  ...                            0                0   \n",
       "1           0.0  ...                            0                0   \n",
       "2           1.0  ...                            3                0   \n",
       "\n",
       "   R_win_by_Submission  R_win_by_TKO_Doctor_Stoppage  R_Stance  R_Height_cms  \\\n",
       "0                    0                             0    Switch        182.88   \n",
       "1                    0                             0  Southpaw        175.26   \n",
       "2                    0                             0  Southpaw        172.72   \n",
       "\n",
       "   R_Reach_cms  R_Weight_lbs  B_age  R_age  \n",
       "0       198.12         145.0   26.0   30.0  \n",
       "1       180.34         135.0   27.0   25.0  \n",
       "2       175.26         155.0   31.0   32.0  \n",
       "\n",
       "[3 rows x 144 columns]"
      ]
     },
     "execution_count": 2,
     "metadata": {},
     "output_type": "execute_result"
    }
   ],
   "source": [
    "path = os.getcwd()\n",
    "p = path.removesuffix('ufcPredictionProject')\n",
    "p = p+'UFCdata.csv'\n",
    "\n",
    "\n",
    "df = pd.read_csv(p)\n",
    "print(df.shape)\n",
    "df.head(3)"
   ]
  },
  {
   "cell_type": "code",
   "execution_count": 3,
   "id": "ebf3a11c",
   "metadata": {},
   "outputs": [
    {
     "name": "stdout",
     "output_type": "stream",
     "text": [
      "(3914, 140)\n",
      "0\n"
     ]
    }
   ],
   "source": [
    "# removing features that are anticipated to not be significant\n",
    "df = df.drop(['R_fighter','B_fighter','Referee','location'],axis=1)\n",
    "\n",
    "# removing rows that contain NaN\n",
    "df.dropna(inplace=True)\n",
    "print(df.shape)\n",
    "df.head(3)\n",
    "print(df.isnull().sum().sum())"
   ]
  },
  {
   "cell_type": "code",
   "execution_count": 4,
   "id": "2fd3b8cb",
   "metadata": {},
   "outputs": [
    {
     "name": "stdout",
     "output_type": "stream",
     "text": [
      "0\n"
     ]
    }
   ],
   "source": [
    "# test train split\n",
    "(df_train,df_test) = train_test_split(df, train_size = 0.8)\n",
    "\n",
    "X_train = df_train.drop('Winner',axis=1)\n",
    "y_train = df_train.Winner\n",
    "X_test = df_test.drop('Winner',axis=1)\n",
    "y_test = df_test.Winner\n",
    "\n",
    "X = X_train\n",
    "y = y_train\n",
    "\n",
    "print(X.isnull().sum().sum())"
   ]
  },
  {
   "cell_type": "code",
   "execution_count": 5,
   "id": "fac8f3c0",
   "metadata": {},
   "outputs": [],
   "source": [
    "# make time a continuous feature\n",
    "X.date = pd.to_datetime(X.date)\n",
    "X.date = pd.to_numeric(X.date)"
   ]
  },
  {
   "cell_type": "code",
   "execution_count": 6,
   "id": "79a1f4b4",
   "metadata": {},
   "outputs": [],
   "source": [
    "# split features into numerical and categorical\n",
    "X_num = X.select_dtypes(include='number')\n",
    "X_cat = X.select_dtypes(exclude='number')"
   ]
  },
  {
   "cell_type": "code",
   "execution_count": 7,
   "id": "6f3ac4cd",
   "metadata": {},
   "outputs": [],
   "source": [
    "# one hot encode\n",
    "X_cat = pd.get_dummies(X_cat)"
   ]
  },
  {
   "cell_type": "code",
   "execution_count": 8,
   "id": "e1b4ad73",
   "metadata": {},
   "outputs": [
    {
     "name": "stdout",
     "output_type": "stream",
     "text": [
      "B_draw\n",
      "R_draw\n"
     ]
    }
   ],
   "source": [
    "# finding columns that are all zeros from X_num\n",
    "cols = pd.Series(X_num.columns)\n",
    "for i in range(len(cols)):\n",
    "    if (X_num.iloc[:,i] == 0).all():\n",
    "        print(cols[i])"
   ]
  },
  {
   "cell_type": "code",
   "execution_count": 9,
   "id": "e65a5150",
   "metadata": {},
   "outputs": [],
   "source": [
    "# removing columns of zeros\n",
    "X_num = X_num.drop(['B_draw', 'R_draw'], axis=1)"
   ]
  },
  {
   "cell_type": "code",
   "execution_count": 10,
   "id": "29995a74",
   "metadata": {},
   "outputs": [],
   "source": [
    "# standardize\n",
    "X_num = (X_num - X_num.mean())/X_num.std()"
   ]
  },
  {
   "cell_type": "code",
   "execution_count": 11,
   "id": "cf231dd1",
   "metadata": {},
   "outputs": [],
   "source": [
    "# put back together\n",
    "X = pd.concat([X_num,X_cat], axis=1)"
   ]
  },
  {
   "cell_type": "code",
   "execution_count": 15,
   "id": "096cd65e",
   "metadata": {},
   "outputs": [
    {
     "name": "stdout",
     "output_type": "stream",
     "text": [
      "(3131, 155)\n"
     ]
    },
    {
     "data": {
      "text/html": [
       "<div>\n",
       "<style scoped>\n",
       "    .dataframe tbody tr th:only-of-type {\n",
       "        vertical-align: middle;\n",
       "    }\n",
       "\n",
       "    .dataframe tbody tr th {\n",
       "        vertical-align: top;\n",
       "    }\n",
       "\n",
       "    .dataframe thead th {\n",
       "        text-align: right;\n",
       "    }\n",
       "</style>\n",
       "<table border=\"1\" class=\"dataframe\">\n",
       "  <thead>\n",
       "    <tr style=\"text-align: right;\">\n",
       "      <th></th>\n",
       "      <th>date</th>\n",
       "      <th>B_avg_KD</th>\n",
       "      <th>B_avg_opp_KD</th>\n",
       "      <th>B_avg_SIG_STR_pct</th>\n",
       "      <th>B_avg_opp_SIG_STR_pct</th>\n",
       "      <th>B_avg_TD_pct</th>\n",
       "      <th>B_avg_opp_TD_pct</th>\n",
       "      <th>B_avg_SUB_ATT</th>\n",
       "      <th>B_avg_opp_SUB_ATT</th>\n",
       "      <th>B_avg_REV</th>\n",
       "      <th>...</th>\n",
       "      <th>weight_class_WomenFlyweight</th>\n",
       "      <th>weight_class_WomenStrawweight</th>\n",
       "      <th>B_Stance_Open Stance</th>\n",
       "      <th>B_Stance_Orthodox</th>\n",
       "      <th>B_Stance_Southpaw</th>\n",
       "      <th>B_Stance_Switch</th>\n",
       "      <th>R_Stance_Open Stance</th>\n",
       "      <th>R_Stance_Orthodox</th>\n",
       "      <th>R_Stance_Southpaw</th>\n",
       "      <th>R_Stance_Switch</th>\n",
       "    </tr>\n",
       "  </thead>\n",
       "  <tbody>\n",
       "    <tr>\n",
       "      <th>1079</th>\n",
       "      <td>1.357845</td>\n",
       "      <td>-0.701846</td>\n",
       "      <td>2.715854</td>\n",
       "      <td>-0.450113</td>\n",
       "      <td>3.461086</td>\n",
       "      <td>-1.121242</td>\n",
       "      <td>-1.021014</td>\n",
       "      <td>-0.682964</td>\n",
       "      <td>-0.638606</td>\n",
       "      <td>-0.472711</td>\n",
       "      <td>...</td>\n",
       "      <td>0</td>\n",
       "      <td>0</td>\n",
       "      <td>0</td>\n",
       "      <td>1</td>\n",
       "      <td>0</td>\n",
       "      <td>0</td>\n",
       "      <td>0</td>\n",
       "      <td>1</td>\n",
       "      <td>0</td>\n",
       "      <td>0</td>\n",
       "    </tr>\n",
       "    <tr>\n",
       "      <th>4367</th>\n",
       "      <td>-0.374845</td>\n",
       "      <td>-0.701846</td>\n",
       "      <td>-0.571722</td>\n",
       "      <td>-0.202049</td>\n",
       "      <td>0.019776</td>\n",
       "      <td>-1.121242</td>\n",
       "      <td>3.014026</td>\n",
       "      <td>2.216666</td>\n",
       "      <td>-0.638606</td>\n",
       "      <td>2.568008</td>\n",
       "      <td>...</td>\n",
       "      <td>0</td>\n",
       "      <td>0</td>\n",
       "      <td>0</td>\n",
       "      <td>1</td>\n",
       "      <td>0</td>\n",
       "      <td>0</td>\n",
       "      <td>0</td>\n",
       "      <td>0</td>\n",
       "      <td>1</td>\n",
       "      <td>0</td>\n",
       "    </tr>\n",
       "    <tr>\n",
       "      <th>1787</th>\n",
       "      <td>1.054861</td>\n",
       "      <td>-0.701846</td>\n",
       "      <td>-0.571722</td>\n",
       "      <td>-1.442366</td>\n",
       "      <td>0.101712</td>\n",
       "      <td>1.935285</td>\n",
       "      <td>-0.012254</td>\n",
       "      <td>1.491759</td>\n",
       "      <td>1.038862</td>\n",
       "      <td>1.047649</td>\n",
       "      <td>...</td>\n",
       "      <td>0</td>\n",
       "      <td>0</td>\n",
       "      <td>0</td>\n",
       "      <td>1</td>\n",
       "      <td>0</td>\n",
       "      <td>0</td>\n",
       "      <td>0</td>\n",
       "      <td>1</td>\n",
       "      <td>0</td>\n",
       "      <td>0</td>\n",
       "    </tr>\n",
       "    <tr>\n",
       "      <th>4421</th>\n",
       "      <td>0.084365</td>\n",
       "      <td>-0.701846</td>\n",
       "      <td>-0.571722</td>\n",
       "      <td>1.203642</td>\n",
       "      <td>0.716232</td>\n",
       "      <td>1.520201</td>\n",
       "      <td>0.996506</td>\n",
       "      <td>0.766851</td>\n",
       "      <td>0.200128</td>\n",
       "      <td>-0.472711</td>\n",
       "      <td>...</td>\n",
       "      <td>0</td>\n",
       "      <td>1</td>\n",
       "      <td>0</td>\n",
       "      <td>0</td>\n",
       "      <td>1</td>\n",
       "      <td>0</td>\n",
       "      <td>0</td>\n",
       "      <td>1</td>\n",
       "      <td>0</td>\n",
       "      <td>0</td>\n",
       "    </tr>\n",
       "    <tr>\n",
       "      <th>5440</th>\n",
       "      <td>-2.036523</td>\n",
       "      <td>0.731561</td>\n",
       "      <td>0.455646</td>\n",
       "      <td>0.671340</td>\n",
       "      <td>-0.512808</td>\n",
       "      <td>-1.062281</td>\n",
       "      <td>0.320637</td>\n",
       "      <td>-0.682964</td>\n",
       "      <td>-0.009555</td>\n",
       "      <td>-0.092621</td>\n",
       "      <td>...</td>\n",
       "      <td>0</td>\n",
       "      <td>0</td>\n",
       "      <td>0</td>\n",
       "      <td>1</td>\n",
       "      <td>0</td>\n",
       "      <td>0</td>\n",
       "      <td>0</td>\n",
       "      <td>1</td>\n",
       "      <td>0</td>\n",
       "      <td>0</td>\n",
       "    </tr>\n",
       "  </tbody>\n",
       "</table>\n",
       "<p>5 rows × 155 columns</p>\n",
       "</div>"
      ],
      "text/plain": [
       "          date  B_avg_KD  B_avg_opp_KD  B_avg_SIG_STR_pct  \\\n",
       "1079  1.357845 -0.701846      2.715854          -0.450113   \n",
       "4367 -0.374845 -0.701846     -0.571722          -0.202049   \n",
       "1787  1.054861 -0.701846     -0.571722          -1.442366   \n",
       "4421  0.084365 -0.701846     -0.571722           1.203642   \n",
       "5440 -2.036523  0.731561      0.455646           0.671340   \n",
       "\n",
       "      B_avg_opp_SIG_STR_pct  B_avg_TD_pct  B_avg_opp_TD_pct  B_avg_SUB_ATT  \\\n",
       "1079               3.461086     -1.121242         -1.021014      -0.682964   \n",
       "4367               0.019776     -1.121242          3.014026       2.216666   \n",
       "1787               0.101712      1.935285         -0.012254       1.491759   \n",
       "4421               0.716232      1.520201          0.996506       0.766851   \n",
       "5440              -0.512808     -1.062281          0.320637      -0.682964   \n",
       "\n",
       "      B_avg_opp_SUB_ATT  B_avg_REV  ...  weight_class_WomenFlyweight  \\\n",
       "1079          -0.638606  -0.472711  ...                            0   \n",
       "4367          -0.638606   2.568008  ...                            0   \n",
       "1787           1.038862   1.047649  ...                            0   \n",
       "4421           0.200128  -0.472711  ...                            0   \n",
       "5440          -0.009555  -0.092621  ...                            0   \n",
       "\n",
       "      weight_class_WomenStrawweight  B_Stance_Open Stance  B_Stance_Orthodox  \\\n",
       "1079                              0                     0                  1   \n",
       "4367                              0                     0                  1   \n",
       "1787                              0                     0                  1   \n",
       "4421                              1                     0                  0   \n",
       "5440                              0                     0                  1   \n",
       "\n",
       "      B_Stance_Southpaw  B_Stance_Switch  R_Stance_Open Stance  \\\n",
       "1079                  0                0                     0   \n",
       "4367                  0                0                     0   \n",
       "1787                  0                0                     0   \n",
       "4421                  1                0                     0   \n",
       "5440                  0                0                     0   \n",
       "\n",
       "      R_Stance_Orthodox  R_Stance_Southpaw  R_Stance_Switch  \n",
       "1079                  1                  0                0  \n",
       "4367                  0                  1                0  \n",
       "1787                  1                  0                0  \n",
       "4421                  1                  0                0  \n",
       "5440                  1                  0                0  \n",
       "\n",
       "[5 rows x 155 columns]"
      ]
     },
     "execution_count": 15,
     "metadata": {},
     "output_type": "execute_result"
    }
   ],
   "source": [
    "print(X.shape)\n",
    "X.head()"
   ]
  },
  {
   "cell_type": "code",
   "execution_count": 20,
   "id": "11dc7637",
   "metadata": {},
   "outputs": [
    {
     "name": "stdout",
     "output_type": "stream",
     "text": [
      "Red     1917\n",
      "Blue    1158\n",
      "Draw      56\n",
      "Name: Winner, dtype: int64\n"
     ]
    }
   ],
   "source": [
    "print(y.value_counts())"
   ]
  },
  {
   "cell_type": "code",
   "execution_count": 21,
   "id": "2566eb00",
   "metadata": {},
   "outputs": [
    {
     "data": {
      "text/plain": [
       "LogisticRegression(max_iter=1000, random_state=0)"
      ]
     },
     "execution_count": 21,
     "metadata": {},
     "output_type": "execute_result"
    }
   ],
   "source": [
    "# logistic regression\n",
    "logr = LogisticRegression(random_state=0, max_iter=1000)\n",
    "logr.fit(X,y)\n"
   ]
  },
  {
   "cell_type": "code",
   "execution_count": 22,
   "id": "7cc56df9",
   "metadata": {},
   "outputs": [
    {
     "name": "stdout",
     "output_type": "stream",
     "text": [
      "Training Score: 0.674\n"
     ]
    }
   ],
   "source": [
    "# Training score\n",
    "print('Training Score:',logr.score(X,y).round(3))"
   ]
  },
  {
   "cell_type": "markdown",
   "id": "b94f35a9",
   "metadata": {},
   "source": [
    "## Finding Test Error"
   ]
  },
  {
   "cell_type": "code",
   "execution_count": 30,
   "id": "93a845b0",
   "metadata": {},
   "outputs": [],
   "source": [
    "X_train = X\n",
    "y_train = y"
   ]
  },
  {
   "cell_type": "code",
   "execution_count": 31,
   "id": "a8af716a",
   "metadata": {},
   "outputs": [],
   "source": [
    "X = X_test\n",
    "y = y_test"
   ]
  },
  {
   "cell_type": "code",
   "execution_count": 32,
   "id": "f120939d",
   "metadata": {},
   "outputs": [
    {
     "data": {
      "text/plain": [
       "Red     494\n",
       "Blue    276\n",
       "Draw     13\n",
       "Name: Winner, dtype: int64"
      ]
     },
     "execution_count": 32,
     "metadata": {},
     "output_type": "execute_result"
    }
   ],
   "source": [
    "y.value_counts()"
   ]
  },
  {
   "cell_type": "code",
   "execution_count": 33,
   "id": "b2536113",
   "metadata": {},
   "outputs": [],
   "source": [
    "# make time a continuous feature\n",
    "X.date = pd.to_datetime(X.date)\n",
    "X.date = pd.to_numeric(X.date)"
   ]
  },
  {
   "cell_type": "code",
   "execution_count": 34,
   "id": "bfc7008b",
   "metadata": {},
   "outputs": [],
   "source": [
    "# split features into numerical and categorical\n",
    "X_num = X.select_dtypes(include='number')\n",
    "X_cat = X.select_dtypes(exclude='number')"
   ]
  },
  {
   "cell_type": "code",
   "execution_count": 35,
   "id": "aea39430",
   "metadata": {},
   "outputs": [],
   "source": [
    "# one hot encode\n",
    "X_cat = pd.get_dummies(X_cat)"
   ]
  },
  {
   "cell_type": "code",
   "execution_count": 36,
   "id": "12a5c4ad",
   "metadata": {},
   "outputs": [],
   "source": [
    "# removing columns of zeros\n",
    "X_num = X_num.drop(['B_draw', 'R_draw'], axis=1)"
   ]
  },
  {
   "cell_type": "code",
   "execution_count": 37,
   "id": "7a7be18c",
   "metadata": {},
   "outputs": [],
   "source": [
    "# standardize\n",
    "X_num = (X_num - X_num.mean())/X_num.std()"
   ]
  },
  {
   "cell_type": "code",
   "execution_count": 38,
   "id": "03ffc3f3",
   "metadata": {},
   "outputs": [
    {
     "name": "stdout",
     "output_type": "stream",
     "text": [
      "(783, 155)\n"
     ]
    },
    {
     "data": {
      "text/html": [
       "<div>\n",
       "<style scoped>\n",
       "    .dataframe tbody tr th:only-of-type {\n",
       "        vertical-align: middle;\n",
       "    }\n",
       "\n",
       "    .dataframe tbody tr th {\n",
       "        vertical-align: top;\n",
       "    }\n",
       "\n",
       "    .dataframe thead th {\n",
       "        text-align: right;\n",
       "    }\n",
       "</style>\n",
       "<table border=\"1\" class=\"dataframe\">\n",
       "  <thead>\n",
       "    <tr style=\"text-align: right;\">\n",
       "      <th></th>\n",
       "      <th>date</th>\n",
       "      <th>B_avg_KD</th>\n",
       "      <th>B_avg_opp_KD</th>\n",
       "      <th>B_avg_SIG_STR_pct</th>\n",
       "      <th>B_avg_opp_SIG_STR_pct</th>\n",
       "      <th>B_avg_TD_pct</th>\n",
       "      <th>B_avg_opp_TD_pct</th>\n",
       "      <th>B_avg_SUB_ATT</th>\n",
       "      <th>B_avg_opp_SUB_ATT</th>\n",
       "      <th>B_avg_REV</th>\n",
       "      <th>...</th>\n",
       "      <th>weight_class_WomenFlyweight</th>\n",
       "      <th>weight_class_WomenStrawweight</th>\n",
       "      <th>B_Stance_Open Stance</th>\n",
       "      <th>B_Stance_Orthodox</th>\n",
       "      <th>B_Stance_Southpaw</th>\n",
       "      <th>B_Stance_Switch</th>\n",
       "      <th>R_Stance_Open Stance</th>\n",
       "      <th>R_Stance_Orthodox</th>\n",
       "      <th>R_Stance_Southpaw</th>\n",
       "      <th>R_Stance_Switch</th>\n",
       "    </tr>\n",
       "  </thead>\n",
       "  <tbody>\n",
       "    <tr>\n",
       "      <th>371</th>\n",
       "      <td>-0.749994</td>\n",
       "      <td>-0.658970</td>\n",
       "      <td>-0.520827</td>\n",
       "      <td>1.519958</td>\n",
       "      <td>0.845580</td>\n",
       "      <td>1.512989</td>\n",
       "      <td>-0.156880</td>\n",
       "      <td>-0.628484</td>\n",
       "      <td>3.552311</td>\n",
       "      <td>0.310948</td>\n",
       "      <td>...</td>\n",
       "      <td>0</td>\n",
       "      <td>0</td>\n",
       "      <td>0</td>\n",
       "      <td>1</td>\n",
       "      <td>0</td>\n",
       "      <td>0</td>\n",
       "      <td>0</td>\n",
       "      <td>1</td>\n",
       "      <td>0</td>\n",
       "      <td>0</td>\n",
       "    </tr>\n",
       "    <tr>\n",
       "      <th>2122</th>\n",
       "      <td>0.783948</td>\n",
       "      <td>1.723717</td>\n",
       "      <td>-0.520827</td>\n",
       "      <td>0.072806</td>\n",
       "      <td>1.004663</td>\n",
       "      <td>0.833316</td>\n",
       "      <td>-0.735513</td>\n",
       "      <td>-0.623120</td>\n",
       "      <td>-0.607705</td>\n",
       "      <td>-0.463794</td>\n",
       "      <td>...</td>\n",
       "      <td>0</td>\n",
       "      <td>0</td>\n",
       "      <td>0</td>\n",
       "      <td>0</td>\n",
       "      <td>1</td>\n",
       "      <td>0</td>\n",
       "      <td>0</td>\n",
       "      <td>1</td>\n",
       "      <td>0</td>\n",
       "      <td>0</td>\n",
       "    </tr>\n",
       "    <tr>\n",
       "      <th>4296</th>\n",
       "      <td>-0.089974</td>\n",
       "      <td>-0.658970</td>\n",
       "      <td>2.619944</td>\n",
       "      <td>0.451356</td>\n",
       "      <td>-0.325120</td>\n",
       "      <td>0.833316</td>\n",
       "      <td>1.500015</td>\n",
       "      <td>-0.628484</td>\n",
       "      <td>-0.607705</td>\n",
       "      <td>2.635175</td>\n",
       "      <td>...</td>\n",
       "      <td>0</td>\n",
       "      <td>0</td>\n",
       "      <td>0</td>\n",
       "      <td>0</td>\n",
       "      <td>1</td>\n",
       "      <td>0</td>\n",
       "      <td>0</td>\n",
       "      <td>1</td>\n",
       "      <td>0</td>\n",
       "      <td>0</td>\n",
       "    </tr>\n",
       "    <tr>\n",
       "      <th>4264</th>\n",
       "      <td>-1.296195</td>\n",
       "      <td>-0.072885</td>\n",
       "      <td>-0.520827</td>\n",
       "      <td>-1.514872</td>\n",
       "      <td>-0.058118</td>\n",
       "      <td>-0.137646</td>\n",
       "      <td>0.879891</td>\n",
       "      <td>4.177617</td>\n",
       "      <td>-0.607705</td>\n",
       "      <td>-0.463794</td>\n",
       "      <td>...</td>\n",
       "      <td>0</td>\n",
       "      <td>0</td>\n",
       "      <td>0</td>\n",
       "      <td>1</td>\n",
       "      <td>0</td>\n",
       "      <td>0</td>\n",
       "      <td>1</td>\n",
       "      <td>0</td>\n",
       "      <td>0</td>\n",
       "      <td>0</td>\n",
       "    </tr>\n",
       "    <tr>\n",
       "      <th>5143</th>\n",
       "      <td>0.427445</td>\n",
       "      <td>-0.658970</td>\n",
       "      <td>-0.520827</td>\n",
       "      <td>-0.782879</td>\n",
       "      <td>1.282025</td>\n",
       "      <td>0.095385</td>\n",
       "      <td>0.274300</td>\n",
       "      <td>0.315572</td>\n",
       "      <td>-0.607705</td>\n",
       "      <td>-0.076423</td>\n",
       "      <td>...</td>\n",
       "      <td>0</td>\n",
       "      <td>0</td>\n",
       "      <td>0</td>\n",
       "      <td>1</td>\n",
       "      <td>0</td>\n",
       "      <td>0</td>\n",
       "      <td>0</td>\n",
       "      <td>1</td>\n",
       "      <td>0</td>\n",
       "      <td>0</td>\n",
       "    </tr>\n",
       "  </tbody>\n",
       "</table>\n",
       "<p>5 rows × 155 columns</p>\n",
       "</div>"
      ],
      "text/plain": [
       "          date  B_avg_KD  B_avg_opp_KD  B_avg_SIG_STR_pct  \\\n",
       "371  -0.749994 -0.658970     -0.520827           1.519958   \n",
       "2122  0.783948  1.723717     -0.520827           0.072806   \n",
       "4296 -0.089974 -0.658970      2.619944           0.451356   \n",
       "4264 -1.296195 -0.072885     -0.520827          -1.514872   \n",
       "5143  0.427445 -0.658970     -0.520827          -0.782879   \n",
       "\n",
       "      B_avg_opp_SIG_STR_pct  B_avg_TD_pct  B_avg_opp_TD_pct  B_avg_SUB_ATT  \\\n",
       "371                0.845580      1.512989         -0.156880      -0.628484   \n",
       "2122               1.004663      0.833316         -0.735513      -0.623120   \n",
       "4296              -0.325120      0.833316          1.500015      -0.628484   \n",
       "4264              -0.058118     -0.137646          0.879891       4.177617   \n",
       "5143               1.282025      0.095385          0.274300       0.315572   \n",
       "\n",
       "      B_avg_opp_SUB_ATT  B_avg_REV  ...  weight_class_WomenFlyweight  \\\n",
       "371            3.552311   0.310948  ...                            0   \n",
       "2122          -0.607705  -0.463794  ...                            0   \n",
       "4296          -0.607705   2.635175  ...                            0   \n",
       "4264          -0.607705  -0.463794  ...                            0   \n",
       "5143          -0.607705  -0.076423  ...                            0   \n",
       "\n",
       "      weight_class_WomenStrawweight  B_Stance_Open Stance  B_Stance_Orthodox  \\\n",
       "371                               0                     0                  1   \n",
       "2122                              0                     0                  0   \n",
       "4296                              0                     0                  0   \n",
       "4264                              0                     0                  1   \n",
       "5143                              0                     0                  1   \n",
       "\n",
       "      B_Stance_Southpaw  B_Stance_Switch  R_Stance_Open Stance  \\\n",
       "371                   0                0                     0   \n",
       "2122                  1                0                     0   \n",
       "4296                  1                0                     0   \n",
       "4264                  0                0                     1   \n",
       "5143                  0                0                     0   \n",
       "\n",
       "      R_Stance_Orthodox  R_Stance_Southpaw  R_Stance_Switch  \n",
       "371                   1                  0                0  \n",
       "2122                  1                  0                0  \n",
       "4296                  1                  0                0  \n",
       "4264                  0                  0                0  \n",
       "5143                  1                  0                0  \n",
       "\n",
       "[5 rows x 155 columns]"
      ]
     },
     "execution_count": 38,
     "metadata": {},
     "output_type": "execute_result"
    }
   ],
   "source": [
    "# put back together\n",
    "X = pd.concat([X_num,X_cat], axis=1)\n",
    "print(X.shape)\n",
    "X.head()"
   ]
  },
  {
   "cell_type": "code",
   "execution_count": 58,
   "id": "8a17bc7c",
   "metadata": {},
   "outputs": [
    {
     "data": {
      "text/plain": [
       "LogisticRegression(max_iter=1000, random_state=0)"
      ]
     },
     "execution_count": 58,
     "metadata": {},
     "output_type": "execute_result"
    }
   ],
   "source": [
    "# logistic regression\n",
    "logr = LogisticRegression(random_state=0, max_iter=1000)\n",
    "logr.fit(X_train,y_train)"
   ]
  },
  {
   "cell_type": "code",
   "execution_count": 59,
   "id": "96082971",
   "metadata": {},
   "outputs": [
    {
     "name": "stdout",
     "output_type": "stream",
     "text": [
      "Test Score: 0.632\n"
     ]
    }
   ],
   "source": [
    "# Test score\n",
    "print('Test Score:',logr.score(X,y).round(3))"
   ]
  },
  {
   "cell_type": "markdown",
   "id": "569daa43",
   "metadata": {},
   "source": [
    "## Feature Selection"
   ]
  },
  {
   "cell_type": "code",
   "execution_count": 51,
   "id": "5be0b8d9",
   "metadata": {},
   "outputs": [],
   "source": [
    "from sklearn.model_selection import GridSearchCV"
   ]
  },
  {
   "cell_type": "code",
   "execution_count": 26,
   "id": "0777e1b4",
   "metadata": {},
   "outputs": [],
   "source": [
    "X_test = X\n",
    "y_test = y"
   ]
  },
  {
   "cell_type": "code",
   "execution_count": 65,
   "id": "17fc0960",
   "metadata": {},
   "outputs": [
    {
     "data": {
      "text/plain": [
       "GridSearchCV(estimator=LogisticRegression(max_iter=1000, penalty='l1',\n",
       "                                          solver='liblinear'),\n",
       "             param_grid={'C': [0.01, 0.1, 1, 10, 100]})"
      ]
     },
     "execution_count": 65,
     "metadata": {},
     "output_type": "execute_result"
    }
   ],
   "source": [
    "# LASSO to find insignificant features to drop\n",
    "grid = {'C':[0.01, 0.1, 1, 10, 100]}\n",
    "\n",
    "lr_model = LogisticRegression(penalty='l1', solver='liblinear',max_iter=1000)\n",
    "gs_model = GridSearchCV(estimator=lr_model, param_grid=grid)\n",
    "gs_model.fit(X_train, y_train)\n",
    "# TAKES ROUGHLY 6 MINUTES TO RUN!!!"
   ]
  },
  {
   "cell_type": "code",
   "execution_count": 66,
   "id": "7e035c84",
   "metadata": {},
   "outputs": [
    {
     "data": {
      "text/plain": [
       "{'C': 0.1}"
      ]
     },
     "execution_count": 66,
     "metadata": {},
     "output_type": "execute_result"
    }
   ],
   "source": [
    "gs_model.best_params_"
   ]
  },
  {
   "cell_type": "code",
   "execution_count": 27,
   "id": "0986e938",
   "metadata": {},
   "outputs": [
    {
     "data": {
      "text/plain": [
       "LogisticRegression(C=0.1, penalty='l1', solver='liblinear')"
      ]
     },
     "execution_count": 27,
     "metadata": {},
     "output_type": "execute_result"
    }
   ],
   "source": [
    "# Train a LR model with best parameters\n",
    "model = LogisticRegression(C=0.1, penalty='l1', solver='liblinear')\n",
    "model.fit(X_train, y_train)"
   ]
  },
  {
   "cell_type": "code",
   "execution_count": 29,
   "id": "96b2bc99",
   "metadata": {},
   "outputs": [
    {
     "data": {
      "text/plain": [
       "array([ 4.01886194e-01,  0.00000000e+00, -4.39901873e-02,  0.00000000e+00,\n",
       "       -5.79967186e-02, -2.24067742e-02, -8.52151455e-02,  0.00000000e+00,\n",
       "       -2.52123458e-02,  0.00000000e+00,  0.00000000e+00,  0.00000000e+00,\n",
       "        0.00000000e+00,  0.00000000e+00,  0.00000000e+00,  0.00000000e+00,\n",
       "       -7.41298734e-02,  0.00000000e+00, -6.79227052e-02,  1.99176552e-01,\n",
       "        0.00000000e+00,  5.74636226e-02,  1.16530151e-01,  8.76015229e-02,\n",
       "        0.00000000e+00,  0.00000000e+00, -7.28007169e-02,  8.20826461e-02,\n",
       "        0.00000000e+00,  0.00000000e+00, -3.25442630e-02,  0.00000000e+00,\n",
       "       -1.29168749e-02,  0.00000000e+00,  2.60666995e-02,  0.00000000e+00,\n",
       "        0.00000000e+00,  0.00000000e+00,  0.00000000e+00,  0.00000000e+00,\n",
       "        0.00000000e+00,  0.00000000e+00, -3.53554311e-03,  5.38478231e-02,\n",
       "        0.00000000e+00, -5.57169623e-02,  0.00000000e+00, -2.17316345e-02,\n",
       "        0.00000000e+00,  3.11336099e-02,  0.00000000e+00, -1.09173117e-01,\n",
       "        0.00000000e+00,  0.00000000e+00,  0.00000000e+00,  0.00000000e+00,\n",
       "        0.00000000e+00, -1.40121273e-02, -5.95231626e-02,  5.68478740e-02,\n",
       "        9.43556312e-03,  0.00000000e+00,  0.00000000e+00,  0.00000000e+00,\n",
       "        9.08533686e-02,  4.54824680e-02, -3.71201280e-02,  1.16428897e-02,\n",
       "       -6.18212773e-02,  1.05399568e-01, -3.72853959e-02,  0.00000000e+00,\n",
       "       -4.33243304e-02, -3.46745611e-02,  4.31538417e-02,  0.00000000e+00,\n",
       "        0.00000000e+00,  0.00000000e+00,  0.00000000e+00,  0.00000000e+00,\n",
       "        0.00000000e+00,  0.00000000e+00,  0.00000000e+00,  0.00000000e+00,\n",
       "       -3.19817728e-02, -8.43948223e-03, -9.63834392e-02, -1.81457155e-02,\n",
       "        0.00000000e+00,  0.00000000e+00,  3.43991453e-02,  0.00000000e+00,\n",
       "        5.38653301e-02,  0.00000000e+00,  0.00000000e+00,  0.00000000e+00,\n",
       "        0.00000000e+00, -7.41745009e-02,  0.00000000e+00,  0.00000000e+00,\n",
       "        0.00000000e+00,  0.00000000e+00,  0.00000000e+00,  0.00000000e+00,\n",
       "        8.55940022e-04,  0.00000000e+00,  4.60470112e-02,  0.00000000e+00,\n",
       "       -3.31370715e-02,  0.00000000e+00, -5.06860288e-02,  0.00000000e+00,\n",
       "       -3.73736573e-02,  1.31600997e-01,  0.00000000e+00,  0.00000000e+00,\n",
       "       -6.72152894e-02,  0.00000000e+00,  0.00000000e+00, -1.12646065e-01,\n",
       "        0.00000000e+00,  5.30706450e-02, -2.04255010e-04,  1.16436886e-01,\n",
       "        0.00000000e+00,  0.00000000e+00, -4.17112103e-03,  1.72337877e-02,\n",
       "        5.18224766e-02, -1.14944335e-01,  0.00000000e+00, -2.48364618e-01,\n",
       "        1.94382100e-01,  0.00000000e+00,  0.00000000e+00,  0.00000000e+00,\n",
       "        0.00000000e+00,  0.00000000e+00,  0.00000000e+00,  0.00000000e+00,\n",
       "        0.00000000e+00,  0.00000000e+00,  0.00000000e+00,  0.00000000e+00,\n",
       "        0.00000000e+00,  0.00000000e+00,  0.00000000e+00,  0.00000000e+00,\n",
       "       -1.06985448e-01,  0.00000000e+00,  0.00000000e+00,  0.00000000e+00,\n",
       "        0.00000000e+00, -7.57622217e-02,  0.00000000e+00])"
      ]
     },
     "execution_count": 29,
     "metadata": {},
     "output_type": "execute_result"
    }
   ],
   "source": [
    "# viewing coefficients after LASSO\n",
    "coef = model.coef_[0]\n",
    "coef"
   ]
  },
  {
   "cell_type": "code",
   "execution_count": 30,
   "id": "1826bdc5",
   "metadata": {},
   "outputs": [
    {
     "name": "stdout",
     "output_type": "stream",
     "text": [
      "(155, 2)\n",
      "0.4018861936333985\n"
     ]
    },
    {
     "data": {
      "text/html": [
       "<div>\n",
       "<style scoped>\n",
       "    .dataframe tbody tr th:only-of-type {\n",
       "        vertical-align: middle;\n",
       "    }\n",
       "\n",
       "    .dataframe tbody tr th {\n",
       "        vertical-align: top;\n",
       "    }\n",
       "\n",
       "    .dataframe thead th {\n",
       "        text-align: right;\n",
       "    }\n",
       "</style>\n",
       "<table border=\"1\" class=\"dataframe\">\n",
       "  <thead>\n",
       "    <tr style=\"text-align: right;\">\n",
       "      <th></th>\n",
       "      <th>features</th>\n",
       "      <th>coefficient</th>\n",
       "    </tr>\n",
       "  </thead>\n",
       "  <tbody>\n",
       "    <tr>\n",
       "      <th>0</th>\n",
       "      <td>date</td>\n",
       "      <td>0.401886</td>\n",
       "    </tr>\n",
       "    <tr>\n",
       "      <th>1</th>\n",
       "      <td>B_avg_KD</td>\n",
       "      <td>0.000000</td>\n",
       "    </tr>\n",
       "    <tr>\n",
       "      <th>2</th>\n",
       "      <td>B_avg_opp_KD</td>\n",
       "      <td>-0.043990</td>\n",
       "    </tr>\n",
       "    <tr>\n",
       "      <th>3</th>\n",
       "      <td>B_avg_SIG_STR_pct</td>\n",
       "      <td>0.000000</td>\n",
       "    </tr>\n",
       "    <tr>\n",
       "      <th>4</th>\n",
       "      <td>B_avg_opp_SIG_STR_pct</td>\n",
       "      <td>-0.057997</td>\n",
       "    </tr>\n",
       "  </tbody>\n",
       "</table>\n",
       "</div>"
      ],
      "text/plain": [
       "                features  coefficient\n",
       "0                   date     0.401886\n",
       "1               B_avg_KD     0.000000\n",
       "2           B_avg_opp_KD    -0.043990\n",
       "3      B_avg_SIG_STR_pct     0.000000\n",
       "4  B_avg_opp_SIG_STR_pct    -0.057997"
      ]
     },
     "execution_count": 30,
     "metadata": {},
     "output_type": "execute_result"
    }
   ],
   "source": [
    "# storing coefficients and feature name in data frame\n",
    "coef_df = pd.DataFrame()\n",
    "coef_df['features'] = X_train.columns\n",
    "coef_df['coefficient'] = coef\n",
    "print(coef_df.shape)\n",
    "print(coef_df.iloc[0,1])\n",
    "coef_df.head()"
   ]
  },
  {
   "cell_type": "code",
   "execution_count": 31,
   "id": "94a8c105",
   "metadata": {},
   "outputs": [
    {
     "name": "stdout",
     "output_type": "stream",
     "text": [
      "(63, 2)\n"
     ]
    },
    {
     "data": {
      "text/html": [
       "<div>\n",
       "<style scoped>\n",
       "    .dataframe tbody tr th:only-of-type {\n",
       "        vertical-align: middle;\n",
       "    }\n",
       "\n",
       "    .dataframe tbody tr th {\n",
       "        vertical-align: top;\n",
       "    }\n",
       "\n",
       "    .dataframe thead th {\n",
       "        text-align: right;\n",
       "    }\n",
       "</style>\n",
       "<table border=\"1\" class=\"dataframe\">\n",
       "  <thead>\n",
       "    <tr style=\"text-align: right;\">\n",
       "      <th></th>\n",
       "      <th>features</th>\n",
       "      <th>coefficient</th>\n",
       "    </tr>\n",
       "  </thead>\n",
       "  <tbody>\n",
       "    <tr>\n",
       "      <th>0</th>\n",
       "      <td>date</td>\n",
       "      <td>0.401886</td>\n",
       "    </tr>\n",
       "    <tr>\n",
       "      <th>19</th>\n",
       "      <td>B_avg_TD_att</td>\n",
       "      <td>0.199177</td>\n",
       "    </tr>\n",
       "    <tr>\n",
       "      <th>132</th>\n",
       "      <td>R_age</td>\n",
       "      <td>0.194382</td>\n",
       "    </tr>\n",
       "    <tr>\n",
       "      <th>113</th>\n",
       "      <td>R_avg_opp_CTRL_time(seconds)</td>\n",
       "      <td>0.131601</td>\n",
       "    </tr>\n",
       "    <tr>\n",
       "      <th>22</th>\n",
       "      <td>B_avg_opp_TD_landed</td>\n",
       "      <td>0.116530</td>\n",
       "    </tr>\n",
       "  </tbody>\n",
       "</table>\n",
       "</div>"
      ],
      "text/plain": [
       "                         features  coefficient\n",
       "0                            date     0.401886\n",
       "19                   B_avg_TD_att     0.199177\n",
       "132                         R_age     0.194382\n",
       "113  R_avg_opp_CTRL_time(seconds)     0.131601\n",
       "22            B_avg_opp_TD_landed     0.116530"
      ]
     },
     "execution_count": 31,
     "metadata": {},
     "output_type": "execute_result"
    }
   ],
   "source": [
    "# remove features with zero coefficients\n",
    "coef_df = coef_df[coef_df['coefficient'] != 0]\n",
    "coef_df = coef_df.sort_values(by=['coefficient'],ascending=False)\n",
    "\n",
    "print(coef_df.shape)\n",
    "coef_df.head()"
   ]
  },
  {
   "cell_type": "code",
   "execution_count": 32,
   "id": "0f0a4928",
   "metadata": {},
   "outputs": [
    {
     "data": {
      "image/png": "[encoded data removed]",
      "text/plain": [
       "<Figure size 1440x720 with 1 Axes>"
      ]
     },
     "metadata": {
      "needs_background": "light"
     },
     "output_type": "display_data"
    }
   ],
   "source": [
    "# plot coefficients\n",
    "import matplotlib.pyplot as plt\n",
    "\n",
    "plt.figure(figsize=(20, 10))\n",
    "plt.bar('features', 'coefficient', data = coef_df, color = \"blue\")\n",
    "plt.xlabel(\"Feature\")\n",
    "plt.xticks(rotation = 90)\n",
    "plt.ylabel(\"Coefficient\")\n",
    "plt.title(\"Coefficients of Signficant Features from LASSO\")\n",
    "plt.show()"
   ]
  },
  {
   "cell_type": "code",
   "execution_count": 33,
   "id": "037e8412",
   "metadata": {},
   "outputs": [
    {
     "data": {
      "text/html": [
       "<div>\n",
       "<style scoped>\n",
       "    .dataframe tbody tr th:only-of-type {\n",
       "        vertical-align: middle;\n",
       "    }\n",
       "\n",
       "    .dataframe tbody tr th {\n",
       "        vertical-align: top;\n",
       "    }\n",
       "\n",
       "    .dataframe thead th {\n",
       "        text-align: right;\n",
       "    }\n",
       "</style>\n",
       "<table border=\"1\" class=\"dataframe\">\n",
       "  <thead>\n",
       "    <tr style=\"text-align: right;\">\n",
       "      <th></th>\n",
       "      <th>date</th>\n",
       "      <th>B_avg_TD_att</th>\n",
       "      <th>R_age</th>\n",
       "      <th>R_avg_opp_CTRL_time(seconds)</th>\n",
       "      <th>B_avg_opp_TD_landed</th>\n",
       "      <th>R_win_by_Decision_Split</th>\n",
       "      <th>R_avg_opp_SIG_STR_pct</th>\n",
       "      <th>B_Reach_cms</th>\n",
       "      <th>B_avg_HEAD_att</th>\n",
       "      <th>B_avg_BODY_att</th>\n",
       "      <th>...</th>\n",
       "      <th>B_avg_TOTAL_STR_landed</th>\n",
       "      <th>R_avg_LEG_landed</th>\n",
       "      <th>R_Stance_Southpaw</th>\n",
       "      <th>B_avg_opp_TD_pct</th>\n",
       "      <th>R_avg_opp_TD_att</th>\n",
       "      <th>B_Stance_Orthodox</th>\n",
       "      <th>B_total_title_bouts</th>\n",
       "      <th>R_longest_win_streak</th>\n",
       "      <th>R_Reach_cms</th>\n",
       "      <th>B_age</th>\n",
       "    </tr>\n",
       "  </thead>\n",
       "  <tbody>\n",
       "    <tr>\n",
       "      <th>4837</th>\n",
       "      <td>0.319473</td>\n",
       "      <td>-0.143214</td>\n",
       "      <td>0.182037</td>\n",
       "      <td>-0.810457</td>\n",
       "      <td>-0.860238</td>\n",
       "      <td>3.730235</td>\n",
       "      <td>0.361522</td>\n",
       "      <td>0.190629</td>\n",
       "      <td>-0.214593</td>\n",
       "      <td>0.190032</td>\n",
       "      <td>...</td>\n",
       "      <td>0.049324</td>\n",
       "      <td>1.451122</td>\n",
       "      <td>1</td>\n",
       "      <td>-1.018241</td>\n",
       "      <td>-0.381378</td>\n",
       "      <td>1</td>\n",
       "      <td>0.471803</td>\n",
       "      <td>1.436746</td>\n",
       "      <td>-0.300231</td>\n",
       "      <td>0.799668</td>\n",
       "    </tr>\n",
       "    <tr>\n",
       "      <th>1606</th>\n",
       "      <td>0.013357</td>\n",
       "      <td>0.421028</td>\n",
       "      <td>0.660191</td>\n",
       "      <td>-0.322625</td>\n",
       "      <td>0.302511</td>\n",
       "      <td>0.856375</td>\n",
       "      <td>1.462910</td>\n",
       "      <td>-0.056825</td>\n",
       "      <td>0.449686</td>\n",
       "      <td>0.335297</td>\n",
       "      <td>...</td>\n",
       "      <td>-0.253060</td>\n",
       "      <td>-0.930324</td>\n",
       "      <td>1</td>\n",
       "      <td>0.920311</td>\n",
       "      <td>-0.505923</td>\n",
       "      <td>1</td>\n",
       "      <td>-0.288864</td>\n",
       "      <td>0.489304</td>\n",
       "      <td>0.872746</td>\n",
       "      <td>1.296692</td>\n",
       "    </tr>\n",
       "    <tr>\n",
       "      <th>1392</th>\n",
       "      <td>1.364975</td>\n",
       "      <td>-0.598684</td>\n",
       "      <td>0.421114</td>\n",
       "      <td>-0.893515</td>\n",
       "      <td>-0.825053</td>\n",
       "      <td>0.856375</td>\n",
       "      <td>1.337908</td>\n",
       "      <td>-1.789002</td>\n",
       "      <td>-0.633992</td>\n",
       "      <td>-0.722181</td>\n",
       "      <td>...</td>\n",
       "      <td>-0.386058</td>\n",
       "      <td>-0.962349</td>\n",
       "      <td>0</td>\n",
       "      <td>-0.905321</td>\n",
       "      <td>-0.440653</td>\n",
       "      <td>1</td>\n",
       "      <td>-0.288864</td>\n",
       "      <td>0.489304</td>\n",
       "      <td>-1.004017</td>\n",
       "      <td>-0.442893</td>\n",
       "    </tr>\n",
       "  </tbody>\n",
       "</table>\n",
       "<p>3 rows × 63 columns</p>\n",
       "</div>"
      ],
      "text/plain": [
       "          date  B_avg_TD_att     R_age  R_avg_opp_CTRL_time(seconds)  \\\n",
       "4837  0.319473     -0.143214  0.182037                     -0.810457   \n",
       "1606  0.013357      0.421028  0.660191                     -0.322625   \n",
       "1392  1.364975     -0.598684  0.421114                     -0.893515   \n",
       "\n",
       "      B_avg_opp_TD_landed  R_win_by_Decision_Split  R_avg_opp_SIG_STR_pct  \\\n",
       "4837            -0.860238                 3.730235               0.361522   \n",
       "1606             0.302511                 0.856375               1.462910   \n",
       "1392            -0.825053                 0.856375               1.337908   \n",
       "\n",
       "      B_Reach_cms  B_avg_HEAD_att  B_avg_BODY_att  ...  \\\n",
       "4837     0.190629       -0.214593        0.190032  ...   \n",
       "1606    -0.056825        0.449686        0.335297  ...   \n",
       "1392    -1.789002       -0.633992       -0.722181  ...   \n",
       "\n",
       "      B_avg_TOTAL_STR_landed  R_avg_LEG_landed  R_Stance_Southpaw  \\\n",
       "4837                0.049324          1.451122                  1   \n",
       "1606               -0.253060         -0.930324                  1   \n",
       "1392               -0.386058         -0.962349                  0   \n",
       "\n",
       "      B_avg_opp_TD_pct  R_avg_opp_TD_att  B_Stance_Orthodox  \\\n",
       "4837         -1.018241         -0.381378                  1   \n",
       "1606          0.920311         -0.505923                  1   \n",
       "1392         -0.905321         -0.440653                  1   \n",
       "\n",
       "      B_total_title_bouts  R_longest_win_streak  R_Reach_cms     B_age  \n",
       "4837             0.471803              1.436746    -0.300231  0.799668  \n",
       "1606            -0.288864              0.489304     0.872746  1.296692  \n",
       "1392            -0.288864              0.489304    -1.004017 -0.442893  \n",
       "\n",
       "[3 rows x 63 columns]"
      ]
     },
     "execution_count": 33,
     "metadata": {},
     "output_type": "execute_result"
    }
   ],
   "source": [
    "# removing insifnificant features from X\n",
    "X_train_imp = X_train[coef_df.features]\n",
    "X_test_imp = X_test[coef_df.features]\n",
    "X_train_imp.head(3)"
   ]
  },
  {
   "cell_type": "code",
   "execution_count": 34,
   "id": "2f02529a",
   "metadata": {},
   "outputs": [
    {
     "data": {
      "text/plain": [
       "LogisticRegression(max_iter=1000, random_state=0)"
      ]
     },
     "execution_count": 34,
     "metadata": {},
     "output_type": "execute_result"
    }
   ],
   "source": [
    "# Rerunning Logistic Regression with reduced feature set\n",
    "logr = LogisticRegression(random_state=0, max_iter=1000)\n",
    "logr.fit(X_train_imp,y_train)"
   ]
  },
  {
   "cell_type": "code",
   "execution_count": 35,
   "id": "e3b2d25b",
   "metadata": {},
   "outputs": [
    {
     "name": "stdout",
     "output_type": "stream",
     "text": [
      "Train Score: 0.664\n",
      "Test Score: 0.648\n"
     ]
    }
   ],
   "source": [
    "# Scores\n",
    "print('Train Score:',logr.score(X_train_imp,y_train).round(3))\n",
    "print('Test Score:',logr.score(X_test_imp,y_test).round(3))"
   ]
  },
  {
   "cell_type": "code",
   "execution_count": null,
   "id": "c7478969",
   "metadata": {},
   "outputs": [],
   "source": []
  }
 ],
 "metadata": {
  "kernelspec": {
   "display_name": "Python 3 (ipykernel)",
   "language": "python",
   "name": "python3"
  },
  "language_info": {
   "codemirror_mode": {
    "name": "ipython",
    "version": 3
   },
   "file_extension": ".py",
   "mimetype": "text/x-python",
   "name": "python",
   "nbconvert_exporter": "python",
   "pygments_lexer": "ipython3",
   "version": "3.9.7"
  }
 },
 "nbformat": 4,
 "nbformat_minor": 5
}
