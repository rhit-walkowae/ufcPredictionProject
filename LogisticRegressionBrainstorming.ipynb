{
 "cells": [
  {
   "cell_type": "code",
   "execution_count": 1,
   "id": "252d1873",
   "metadata": {},
   "outputs": [],
   "source": [
    "## Exploring algorithms for UFC project\n",
    "import pandas as pd\n",
    "import os\n",
    "from sklearn.linear_model import LinearRegression\n",
    "from sklearn.linear_model import LogisticRegression\n",
    "from sklearn.model_selection import cross_validate\n",
    "from sklearn.model_selection import train_test_split"
   ]
  },
  {
   "cell_type": "code",
   "execution_count": 47,
   "id": "16090b0e",
   "metadata": {},
   "outputs": [
    {
     "name": "stdout",
     "output_type": "stream",
     "text": [
      "(6012, 144)\n"
     ]
    },
    {
     "data": {
      "text/html": [
       "<div>\n",
       "<style scoped>\n",
       "    .dataframe tbody tr th:only-of-type {\n",
       "        vertical-align: middle;\n",
       "    }\n",
       "\n",
       "    .dataframe tbody tr th {\n",
       "        vertical-align: top;\n",
       "    }\n",
       "\n",
       "    .dataframe thead th {\n",
       "        text-align: right;\n",
       "    }\n",
       "</style>\n",
       "<table border=\"1\" class=\"dataframe\">\n",
       "  <thead>\n",
       "    <tr style=\"text-align: right;\">\n",
       "      <th></th>\n",
       "      <th>R_fighter</th>\n",
       "      <th>B_fighter</th>\n",
       "      <th>Referee</th>\n",
       "      <th>date</th>\n",
       "      <th>location</th>\n",
       "      <th>Winner</th>\n",
       "      <th>title_bout</th>\n",
       "      <th>weight_class</th>\n",
       "      <th>B_avg_KD</th>\n",
       "      <th>B_avg_opp_KD</th>\n",
       "      <th>...</th>\n",
       "      <th>R_win_by_Decision_Unanimous</th>\n",
       "      <th>R_win_by_KO/TKO</th>\n",
       "      <th>R_win_by_Submission</th>\n",
       "      <th>R_win_by_TKO_Doctor_Stoppage</th>\n",
       "      <th>R_Stance</th>\n",
       "      <th>R_Height_cms</th>\n",
       "      <th>R_Reach_cms</th>\n",
       "      <th>R_Weight_lbs</th>\n",
       "      <th>B_age</th>\n",
       "      <th>R_age</th>\n",
       "    </tr>\n",
       "  </thead>\n",
       "  <tbody>\n",
       "    <tr>\n",
       "      <th>0</th>\n",
       "      <td>Aalon Cruz</td>\n",
       "      <td>Spike Carlyle</td>\n",
       "      <td>Scott Howard</td>\n",
       "      <td>2/29/2020</td>\n",
       "      <td>Norfolk, Virginia, USA</td>\n",
       "      <td>Blue</td>\n",
       "      <td>False</td>\n",
       "      <td>Featherweight</td>\n",
       "      <td>NaN</td>\n",
       "      <td>NaN</td>\n",
       "      <td>...</td>\n",
       "      <td>0</td>\n",
       "      <td>0</td>\n",
       "      <td>0</td>\n",
       "      <td>0</td>\n",
       "      <td>Switch</td>\n",
       "      <td>182.88</td>\n",
       "      <td>198.12</td>\n",
       "      <td>145.0</td>\n",
       "      <td>26.0</td>\n",
       "      <td>30.0</td>\n",
       "    </tr>\n",
       "    <tr>\n",
       "      <th>1</th>\n",
       "      <td>Aaron Phillips</td>\n",
       "      <td>Matt Hobar</td>\n",
       "      <td>Kevin Nix</td>\n",
       "      <td>8/23/2014</td>\n",
       "      <td>Tulsa, Oklahoma, USA</td>\n",
       "      <td>Blue</td>\n",
       "      <td>False</td>\n",
       "      <td>Bantamweight</td>\n",
       "      <td>0.0</td>\n",
       "      <td>0.0</td>\n",
       "      <td>...</td>\n",
       "      <td>0</td>\n",
       "      <td>0</td>\n",
       "      <td>0</td>\n",
       "      <td>0</td>\n",
       "      <td>Southpaw</td>\n",
       "      <td>175.26</td>\n",
       "      <td>180.34</td>\n",
       "      <td>135.0</td>\n",
       "      <td>27.0</td>\n",
       "      <td>25.0</td>\n",
       "    </tr>\n",
       "    <tr>\n",
       "      <th>2</th>\n",
       "      <td>Aaron Riley</td>\n",
       "      <td>Justin Salas</td>\n",
       "      <td>Randy Corley</td>\n",
       "      <td>7/27/2013</td>\n",
       "      <td>Seattle, Washington, USA</td>\n",
       "      <td>Blue</td>\n",
       "      <td>False</td>\n",
       "      <td>Lightweight</td>\n",
       "      <td>0.0</td>\n",
       "      <td>1.0</td>\n",
       "      <td>...</td>\n",
       "      <td>3</td>\n",
       "      <td>0</td>\n",
       "      <td>0</td>\n",
       "      <td>0</td>\n",
       "      <td>Southpaw</td>\n",
       "      <td>172.72</td>\n",
       "      <td>175.26</td>\n",
       "      <td>155.0</td>\n",
       "      <td>31.0</td>\n",
       "      <td>32.0</td>\n",
       "    </tr>\n",
       "  </tbody>\n",
       "</table>\n",
       "<p>3 rows × 144 columns</p>\n",
       "</div>"
      ],
      "text/plain": [
       "        R_fighter      B_fighter       Referee       date  \\\n",
       "0      Aalon Cruz  Spike Carlyle  Scott Howard  2/29/2020   \n",
       "1  Aaron Phillips     Matt Hobar     Kevin Nix  8/23/2014   \n",
       "2     Aaron Riley   Justin Salas  Randy Corley  7/27/2013   \n",
       "\n",
       "                   location Winner  title_bout   weight_class  B_avg_KD  \\\n",
       "0    Norfolk, Virginia, USA   Blue       False  Featherweight       NaN   \n",
       "1      Tulsa, Oklahoma, USA   Blue       False   Bantamweight       0.0   \n",
       "2  Seattle, Washington, USA   Blue       False    Lightweight       0.0   \n",
       "\n",
       "   B_avg_opp_KD  ...  R_win_by_Decision_Unanimous  R_win_by_KO/TKO  \\\n",
       "0           NaN  ...                            0                0   \n",
       "1           0.0  ...                            0                0   \n",
       "2           1.0  ...                            3                0   \n",
       "\n",
       "   R_win_by_Submission  R_win_by_TKO_Doctor_Stoppage  R_Stance  R_Height_cms  \\\n",
       "0                    0                             0    Switch        182.88   \n",
       "1                    0                             0  Southpaw        175.26   \n",
       "2                    0                             0  Southpaw        172.72   \n",
       "\n",
       "   R_Reach_cms  R_Weight_lbs  B_age  R_age  \n",
       "0       198.12         145.0   26.0   30.0  \n",
       "1       180.34         135.0   27.0   25.0  \n",
       "2       175.26         155.0   31.0   32.0  \n",
       "\n",
       "[3 rows x 144 columns]"
      ]
     },
     "execution_count": 47,
     "metadata": {},
     "output_type": "execute_result"
    }
   ],
   "source": [
    "path = os.getcwd()\n",
    "p = path.removesuffix('ufcPredictionProject')\n",
    "p = p+'UFCdata.csv'\n",
    "\n",
    "\n",
    "df = pd.read_csv(p)\n",
    "print(df.shape)\n",
    "df.head(3)"
   ]
  },
  {
   "cell_type": "code",
   "execution_count": 48,
   "id": "c962a71f",
   "metadata": {},
   "outputs": [
    {
     "name": "stdout",
     "output_type": "stream",
     "text": [
      "(3914, 140)\n",
      "0\n"
     ]
    }
   ],
   "source": [
    "# removing features that are anticipated to not be significant\n",
    "df = df.drop(['R_fighter','B_fighter','Referee','location'],axis=1)\n",
    "\n",
    "# removing rows that contain NaN\n",
    "df.dropna(inplace=True)\n",
    "print(df.shape)\n",
    "df.head(3)\n",
    "print(df.isnull().sum().sum())"
   ]
  },
  {
   "cell_type": "code",
   "execution_count": 67,
   "id": "53e32b38",
   "metadata": {},
   "outputs": [
    {
     "name": "stdout",
     "output_type": "stream",
     "text": [
      "0\n"
     ]
    }
   ],
   "source": [
    "# test train split\n",
    "(df_train,df_test) = train_test_split(df, train_size = 0.8)\n",
    "\n",
    "X_train = df_train.drop('Winner',axis=1)\n",
    "y_train = df_train.Winner\n",
    "X_test = df_test.drop('Winner',axis=1)\n",
    "y_test = df_test.Winner\n",
    "\n",
    "X = X_train\n",
    "y = y_train\n",
    "\n",
    "print(X.isnull().sum().sum())"
   ]
  },
  {
   "cell_type": "code",
   "execution_count": 68,
   "id": "17946102",
   "metadata": {},
   "outputs": [],
   "source": [
    "# make time a continuous feature\n",
    "X.date = pd.to_datetime(X.date)\n",
    "X.date = pd.to_numeric(X.date)"
   ]
  },
  {
   "cell_type": "code",
   "execution_count": 69,
   "id": "2026eeae",
   "metadata": {},
   "outputs": [],
   "source": [
    "# split features into numerical and categorical\n",
    "X_num = X.select_dtypes(include='number')\n",
    "X_cat = X.select_dtypes(exclude='number')"
   ]
  },
  {
   "cell_type": "code",
   "execution_count": 70,
   "id": "7144ba6f",
   "metadata": {},
   "outputs": [],
   "source": [
    "# one hot encode\n",
    "X_cat = pd.get_dummies(X_cat)"
   ]
  },
  {
   "cell_type": "code",
   "execution_count": 72,
   "id": "cc4a2544",
   "metadata": {},
   "outputs": [
    {
     "name": "stdout",
     "output_type": "stream",
     "text": [
      "B_draw\n",
      "R_draw\n"
     ]
    }
   ],
   "source": [
    "# finding columns that are all zeros from X_num\n",
    "cols = pd.Series(X_num.columns)\n",
    "for i in range(len(cols)):\n",
    "    if (X_num.iloc[:,i] == 0).all():\n",
    "        print(cols[i])"
   ]
  },
  {
   "cell_type": "code",
   "execution_count": 73,
   "id": "0b3ccc61",
   "metadata": {},
   "outputs": [],
   "source": [
    "# removing columns of zeros\n",
    "X_num = X_num.drop(['B_draw', 'R_draw'], axis=1)"
   ]
  },
  {
   "cell_type": "code",
   "execution_count": 74,
   "id": "29995a74",
   "metadata": {},
   "outputs": [],
   "source": [
    "# standardize\n",
    "X_num = (X_num - X_num.mean())/X_num.std()"
   ]
  },
  {
   "cell_type": "code",
   "execution_count": 75,
   "id": "1effd82b",
   "metadata": {},
   "outputs": [],
   "source": [
    "# put back together\n",
    "X = pd.concat([X_num,X_cat], axis=1)"
   ]
  },
  {
   "cell_type": "code",
   "execution_count": 76,
   "id": "f78515e6",
   "metadata": {},
   "outputs": [
    {
     "data": {
      "text/html": [
       "<div>\n",
       "<style scoped>\n",
       "    .dataframe tbody tr th:only-of-type {\n",
       "        vertical-align: middle;\n",
       "    }\n",
       "\n",
       "    .dataframe tbody tr th {\n",
       "        vertical-align: top;\n",
       "    }\n",
       "\n",
       "    .dataframe thead th {\n",
       "        text-align: right;\n",
       "    }\n",
       "</style>\n",
       "<table border=\"1\" class=\"dataframe\">\n",
       "  <thead>\n",
       "    <tr style=\"text-align: right;\">\n",
       "      <th></th>\n",
       "      <th>date</th>\n",
       "      <th>B_avg_KD</th>\n",
       "      <th>B_avg_opp_KD</th>\n",
       "      <th>B_avg_SIG_STR_pct</th>\n",
       "      <th>B_avg_opp_SIG_STR_pct</th>\n",
       "      <th>B_avg_TD_pct</th>\n",
       "      <th>B_avg_opp_TD_pct</th>\n",
       "      <th>B_avg_SUB_ATT</th>\n",
       "      <th>B_avg_opp_SUB_ATT</th>\n",
       "      <th>B_avg_REV</th>\n",
       "      <th>...</th>\n",
       "      <th>R_win_by_Decision_Split</th>\n",
       "      <th>R_win_by_Decision_Unanimous</th>\n",
       "      <th>R_win_by_KO/TKO</th>\n",
       "      <th>R_win_by_Submission</th>\n",
       "      <th>R_win_by_TKO_Doctor_Stoppage</th>\n",
       "      <th>R_Height_cms</th>\n",
       "      <th>R_Reach_cms</th>\n",
       "      <th>R_Weight_lbs</th>\n",
       "      <th>B_age</th>\n",
       "      <th>R_age</th>\n",
       "    </tr>\n",
       "  </thead>\n",
       "  <tbody>\n",
       "    <tr>\n",
       "      <th>606</th>\n",
       "      <td>1.340310</td>\n",
       "      <td>-0.691349</td>\n",
       "      <td>-0.564623</td>\n",
       "      <td>-0.248648</td>\n",
       "      <td>1.429159</td>\n",
       "      <td>0.923930</td>\n",
       "      <td>-0.018191</td>\n",
       "      <td>-0.660515</td>\n",
       "      <td>0.223678</td>\n",
       "      <td>-0.462577</td>\n",
       "      <td>...</td>\n",
       "      <td>0.835616</td>\n",
       "      <td>-0.370054</td>\n",
       "      <td>-0.838396</td>\n",
       "      <td>-0.673232</td>\n",
       "      <td>-0.276159</td>\n",
       "      <td>-0.950946</td>\n",
       "      <td>-0.294774</td>\n",
       "      <td>-0.390610</td>\n",
       "      <td>-1.453669</td>\n",
       "      <td>-0.537603</td>\n",
       "    </tr>\n",
       "    <tr>\n",
       "      <th>1149</th>\n",
       "      <td>-0.196897</td>\n",
       "      <td>-0.032735</td>\n",
       "      <td>-0.355297</td>\n",
       "      <td>0.628703</td>\n",
       "      <td>-1.825607</td>\n",
       "      <td>1.102611</td>\n",
       "      <td>-0.923206</td>\n",
       "      <td>-0.437649</td>\n",
       "      <td>3.011525</td>\n",
       "      <td>-0.414370</td>\n",
       "      <td>...</td>\n",
       "      <td>-0.589392</td>\n",
       "      <td>-0.370054</td>\n",
       "      <td>1.108946</td>\n",
       "      <td>-0.673232</td>\n",
       "      <td>-0.276159</td>\n",
       "      <td>-0.666923</td>\n",
       "      <td>-0.532277</td>\n",
       "      <td>-0.680826</td>\n",
       "      <td>-0.456258</td>\n",
       "      <td>-0.057844</td>\n",
       "    </tr>\n",
       "    <tr>\n",
       "      <th>4954</th>\n",
       "      <td>-0.550549</td>\n",
       "      <td>0.585585</td>\n",
       "      <td>2.733073</td>\n",
       "      <td>-0.627371</td>\n",
       "      <td>1.553506</td>\n",
       "      <td>-0.169568</td>\n",
       "      <td>0.619264</td>\n",
       "      <td>-0.660515</td>\n",
       "      <td>0.223678</td>\n",
       "      <td>1.053412</td>\n",
       "      <td>...</td>\n",
       "      <td>0.835616</td>\n",
       "      <td>-0.370054</td>\n",
       "      <td>-0.838396</td>\n",
       "      <td>-0.673232</td>\n",
       "      <td>-0.276159</td>\n",
       "      <td>0.753191</td>\n",
       "      <td>0.655238</td>\n",
       "      <td>0.480038</td>\n",
       "      <td>-0.705611</td>\n",
       "      <td>-1.497120</td>\n",
       "    </tr>\n",
       "    <tr>\n",
       "      <th>1671</th>\n",
       "      <td>0.350085</td>\n",
       "      <td>-0.503675</td>\n",
       "      <td>-0.558182</td>\n",
       "      <td>-1.073530</td>\n",
       "      <td>-0.080750</td>\n",
       "      <td>1.364573</td>\n",
       "      <td>-0.985623</td>\n",
       "      <td>-0.660515</td>\n",
       "      <td>-0.590888</td>\n",
       "      <td>-0.460727</td>\n",
       "      <td>...</td>\n",
       "      <td>-0.589392</td>\n",
       "      <td>1.259538</td>\n",
       "      <td>1.595782</td>\n",
       "      <td>1.294306</td>\n",
       "      <td>-0.276159</td>\n",
       "      <td>-0.382900</td>\n",
       "      <td>-0.057271</td>\n",
       "      <td>-0.390610</td>\n",
       "      <td>0.042448</td>\n",
       "      <td>-0.777482</td>\n",
       "    </tr>\n",
       "    <tr>\n",
       "      <th>4211</th>\n",
       "      <td>1.113973</td>\n",
       "      <td>-0.691349</td>\n",
       "      <td>-0.564623</td>\n",
       "      <td>-1.258576</td>\n",
       "      <td>-0.270245</td>\n",
       "      <td>0.773103</td>\n",
       "      <td>-0.356839</td>\n",
       "      <td>-0.660515</td>\n",
       "      <td>-0.628766</td>\n",
       "      <td>-0.462577</td>\n",
       "      <td>...</td>\n",
       "      <td>-0.589392</td>\n",
       "      <td>-0.913252</td>\n",
       "      <td>0.135275</td>\n",
       "      <td>-0.673232</td>\n",
       "      <td>-0.276159</td>\n",
       "      <td>0.185146</td>\n",
       "      <td>-0.532277</td>\n",
       "      <td>0.044714</td>\n",
       "      <td>-0.954963</td>\n",
       "      <td>1.141553</td>\n",
       "    </tr>\n",
       "  </tbody>\n",
       "</table>\n",
       "<p>5 rows × 133 columns</p>\n",
       "</div>"
      ],
      "text/plain": [
       "          date  B_avg_KD  B_avg_opp_KD  B_avg_SIG_STR_pct  \\\n",
       "606   1.340310 -0.691349     -0.564623          -0.248648   \n",
       "1149 -0.196897 -0.032735     -0.355297           0.628703   \n",
       "4954 -0.550549  0.585585      2.733073          -0.627371   \n",
       "1671  0.350085 -0.503675     -0.558182          -1.073530   \n",
       "4211  1.113973 -0.691349     -0.564623          -1.258576   \n",
       "\n",
       "      B_avg_opp_SIG_STR_pct  B_avg_TD_pct  B_avg_opp_TD_pct  B_avg_SUB_ATT  \\\n",
       "606                1.429159      0.923930         -0.018191      -0.660515   \n",
       "1149              -1.825607      1.102611         -0.923206      -0.437649   \n",
       "4954               1.553506     -0.169568          0.619264      -0.660515   \n",
       "1671              -0.080750      1.364573         -0.985623      -0.660515   \n",
       "4211              -0.270245      0.773103         -0.356839      -0.660515   \n",
       "\n",
       "      B_avg_opp_SUB_ATT  B_avg_REV  ...  R_win_by_Decision_Split  \\\n",
       "606            0.223678  -0.462577  ...                 0.835616   \n",
       "1149           3.011525  -0.414370  ...                -0.589392   \n",
       "4954           0.223678   1.053412  ...                 0.835616   \n",
       "1671          -0.590888  -0.460727  ...                -0.589392   \n",
       "4211          -0.628766  -0.462577  ...                -0.589392   \n",
       "\n",
       "      R_win_by_Decision_Unanimous  R_win_by_KO/TKO  R_win_by_Submission  \\\n",
       "606                     -0.370054        -0.838396            -0.673232   \n",
       "1149                    -0.370054         1.108946            -0.673232   \n",
       "4954                    -0.370054        -0.838396            -0.673232   \n",
       "1671                     1.259538         1.595782             1.294306   \n",
       "4211                    -0.913252         0.135275            -0.673232   \n",
       "\n",
       "      R_win_by_TKO_Doctor_Stoppage  R_Height_cms  R_Reach_cms  R_Weight_lbs  \\\n",
       "606                      -0.276159     -0.950946    -0.294774     -0.390610   \n",
       "1149                     -0.276159     -0.666923    -0.532277     -0.680826   \n",
       "4954                     -0.276159      0.753191     0.655238      0.480038   \n",
       "1671                     -0.276159     -0.382900    -0.057271     -0.390610   \n",
       "4211                     -0.276159      0.185146    -0.532277      0.044714   \n",
       "\n",
       "         B_age     R_age  \n",
       "606  -1.453669 -0.537603  \n",
       "1149 -0.456258 -0.057844  \n",
       "4954 -0.705611 -1.497120  \n",
       "1671  0.042448 -0.777482  \n",
       "4211 -0.954963  1.141553  \n",
       "\n",
       "[5 rows x 133 columns]"
      ]
     },
     "execution_count": 76,
     "metadata": {},
     "output_type": "execute_result"
    }
   ],
   "source": [
    "X_num.head()"
   ]
  },
  {
   "cell_type": "code",
   "execution_count": 85,
   "id": "1db8605b",
   "metadata": {},
   "outputs": [
    {
     "data": {
      "text/plain": [
       "LogisticRegression(max_iter=1000, random_state=0)"
      ]
     },
     "execution_count": 85,
     "metadata": {},
     "output_type": "execute_result"
    }
   ],
   "source": [
    "# logistic regression\n",
    "logr = LogisticRegression(random_state=0, max_iter=1000)\n",
    "logr.fit(X,y)\n"
   ]
  },
  {
   "cell_type": "code",
   "execution_count": 89,
   "id": "c23cead1",
   "metadata": {},
   "outputs": [
    {
     "name": "stdout",
     "output_type": "stream",
     "text": [
      "Training R2: 0.68\n"
     ]
    }
   ],
   "source": [
    "# Training score\n",
    "print('Training R2:',logr.score(X,y).round(2))"
   ]
  },
  {
   "cell_type": "code",
   "execution_count": 104,
   "id": "5c9cb0fe",
   "metadata": {},
   "outputs": [
    {
     "ename": "ValueError",
     "evalue": "Data must be 1-dimensional",
     "output_type": "error",
     "traceback": [
      "\u001b[1;31m---------------------------------------------------------------------------\u001b[0m",
      "\u001b[1;31mValueError\u001b[0m                                Traceback (most recent call last)",
      "\u001b[1;32m~\\AppData\\Local\\Temp/ipykernel_16364/2709821776.py\u001b[0m in \u001b[0;36m<module>\u001b[1;34m\u001b[0m\n\u001b[1;32m----> 1\u001b[1;33m \u001b[0mcoef\u001b[0m \u001b[1;33m=\u001b[0m \u001b[0mpd\u001b[0m\u001b[1;33m.\u001b[0m\u001b[0mSeries\u001b[0m\u001b[1;33m(\u001b[0m\u001b[0mlogr\u001b[0m\u001b[1;33m.\u001b[0m\u001b[0mcoef_\u001b[0m\u001b[1;33m)\u001b[0m\u001b[1;33m\u001b[0m\u001b[1;33m\u001b[0m\u001b[0m\n\u001b[0m\u001b[0;32m      2\u001b[0m \u001b[0mcoef\u001b[0m\u001b[1;33m.\u001b[0m\u001b[0msort_values\u001b[0m\u001b[1;33m(\u001b[0m\u001b[0mascending\u001b[0m\u001b[1;33m=\u001b[0m\u001b[1;32mFalse\u001b[0m\u001b[1;33m)\u001b[0m\u001b[1;33m\u001b[0m\u001b[1;33m\u001b[0m\u001b[0m\n",
      "\u001b[1;32m~\\Anaconda3\\lib\\site-packages\\pandas\\core\\series.py\u001b[0m in \u001b[0;36m__init__\u001b[1;34m(self, data, index, dtype, name, copy, fastpath)\u001b[0m\n\u001b[0;32m    437\u001b[0m                     \u001b[0mdata\u001b[0m \u001b[1;33m=\u001b[0m \u001b[0mdata\u001b[0m\u001b[1;33m.\u001b[0m\u001b[0mcopy\u001b[0m\u001b[1;33m(\u001b[0m\u001b[1;33m)\u001b[0m\u001b[1;33m\u001b[0m\u001b[1;33m\u001b[0m\u001b[0m\n\u001b[0;32m    438\u001b[0m             \u001b[1;32melse\u001b[0m\u001b[1;33m:\u001b[0m\u001b[1;33m\u001b[0m\u001b[1;33m\u001b[0m\u001b[0m\n\u001b[1;32m--> 439\u001b[1;33m                 \u001b[0mdata\u001b[0m \u001b[1;33m=\u001b[0m \u001b[0msanitize_array\u001b[0m\u001b[1;33m(\u001b[0m\u001b[0mdata\u001b[0m\u001b[1;33m,\u001b[0m \u001b[0mindex\u001b[0m\u001b[1;33m,\u001b[0m \u001b[0mdtype\u001b[0m\u001b[1;33m,\u001b[0m \u001b[0mcopy\u001b[0m\u001b[1;33m)\u001b[0m\u001b[1;33m\u001b[0m\u001b[1;33m\u001b[0m\u001b[0m\n\u001b[0m\u001b[0;32m    440\u001b[0m \u001b[1;33m\u001b[0m\u001b[0m\n\u001b[0;32m    441\u001b[0m                 \u001b[0mmanager\u001b[0m \u001b[1;33m=\u001b[0m \u001b[0mget_option\u001b[0m\u001b[1;33m(\u001b[0m\u001b[1;34m\"mode.data_manager\"\u001b[0m\u001b[1;33m)\u001b[0m\u001b[1;33m\u001b[0m\u001b[1;33m\u001b[0m\u001b[0m\n",
      "\u001b[1;32m~\\Anaconda3\\lib\\site-packages\\pandas\\core\\construction.py\u001b[0m in \u001b[0;36msanitize_array\u001b[1;34m(data, index, dtype, copy, raise_cast_failure, allow_2d)\u001b[0m\n\u001b[0;32m    574\u001b[0m                 \u001b[0msubarr\u001b[0m \u001b[1;33m=\u001b[0m \u001b[0mmaybe_infer_to_datetimelike\u001b[0m\u001b[1;33m(\u001b[0m\u001b[0msubarr\u001b[0m\u001b[1;33m)\u001b[0m\u001b[1;33m\u001b[0m\u001b[1;33m\u001b[0m\u001b[0m\n\u001b[0;32m    575\u001b[0m \u001b[1;33m\u001b[0m\u001b[0m\n\u001b[1;32m--> 576\u001b[1;33m     \u001b[0msubarr\u001b[0m \u001b[1;33m=\u001b[0m \u001b[0m_sanitize_ndim\u001b[0m\u001b[1;33m(\u001b[0m\u001b[0msubarr\u001b[0m\u001b[1;33m,\u001b[0m \u001b[0mdata\u001b[0m\u001b[1;33m,\u001b[0m \u001b[0mdtype\u001b[0m\u001b[1;33m,\u001b[0m \u001b[0mindex\u001b[0m\u001b[1;33m,\u001b[0m \u001b[0mallow_2d\u001b[0m\u001b[1;33m=\u001b[0m\u001b[0mallow_2d\u001b[0m\u001b[1;33m)\u001b[0m\u001b[1;33m\u001b[0m\u001b[1;33m\u001b[0m\u001b[0m\n\u001b[0m\u001b[0;32m    577\u001b[0m \u001b[1;33m\u001b[0m\u001b[0m\n\u001b[0;32m    578\u001b[0m     \u001b[1;32mif\u001b[0m \u001b[0misinstance\u001b[0m\u001b[1;33m(\u001b[0m\u001b[0msubarr\u001b[0m\u001b[1;33m,\u001b[0m \u001b[0mnp\u001b[0m\u001b[1;33m.\u001b[0m\u001b[0mndarray\u001b[0m\u001b[1;33m)\u001b[0m\u001b[1;33m:\u001b[0m\u001b[1;33m\u001b[0m\u001b[1;33m\u001b[0m\u001b[0m\n",
      "\u001b[1;32m~\\Anaconda3\\lib\\site-packages\\pandas\\core\\construction.py\u001b[0m in \u001b[0;36m_sanitize_ndim\u001b[1;34m(result, data, dtype, index, allow_2d)\u001b[0m\n\u001b[0;32m    625\u001b[0m             \u001b[1;32mif\u001b[0m \u001b[0mallow_2d\u001b[0m\u001b[1;33m:\u001b[0m\u001b[1;33m\u001b[0m\u001b[1;33m\u001b[0m\u001b[0m\n\u001b[0;32m    626\u001b[0m                 \u001b[1;32mreturn\u001b[0m \u001b[0mresult\u001b[0m\u001b[1;33m\u001b[0m\u001b[1;33m\u001b[0m\u001b[0m\n\u001b[1;32m--> 627\u001b[1;33m             \u001b[1;32mraise\u001b[0m \u001b[0mValueError\u001b[0m\u001b[1;33m(\u001b[0m\u001b[1;34m\"Data must be 1-dimensional\"\u001b[0m\u001b[1;33m)\u001b[0m\u001b[1;33m\u001b[0m\u001b[1;33m\u001b[0m\u001b[0m\n\u001b[0m\u001b[0;32m    628\u001b[0m         \u001b[1;32mif\u001b[0m \u001b[0mis_object_dtype\u001b[0m\u001b[1;33m(\u001b[0m\u001b[0mdtype\u001b[0m\u001b[1;33m)\u001b[0m \u001b[1;32mand\u001b[0m \u001b[0misinstance\u001b[0m\u001b[1;33m(\u001b[0m\u001b[0mdtype\u001b[0m\u001b[1;33m,\u001b[0m \u001b[0mExtensionDtype\u001b[0m\u001b[1;33m)\u001b[0m\u001b[1;33m:\u001b[0m\u001b[1;33m\u001b[0m\u001b[1;33m\u001b[0m\u001b[0m\n\u001b[0;32m    629\u001b[0m             \u001b[1;31m# i.e. PandasDtype(\"O\")\u001b[0m\u001b[1;33m\u001b[0m\u001b[1;33m\u001b[0m\u001b[0m\n",
      "\u001b[1;31mValueError\u001b[0m: Data must be 1-dimensional"
     ]
    }
   ],
   "source": [
    "coef = pd.Series(logr.coef_)\n",
    "coef.sort_values(ascending=False)"
   ]
  },
  {
   "cell_type": "markdown",
   "id": "cb1d0afe",
   "metadata": {},
   "source": [
    "## Finding Test Error"
   ]
  },
  {
   "cell_type": "code",
   "execution_count": 90,
   "id": "6907c13c",
   "metadata": {},
   "outputs": [],
   "source": [
    "X = X_test\n",
    "y = y_test"
   ]
  },
  {
   "cell_type": "code",
   "execution_count": 91,
   "id": "2830d2ac",
   "metadata": {},
   "outputs": [],
   "source": [
    "# make time a continuous feature\n",
    "X.date = pd.to_datetime(X.date)\n",
    "X.date = pd.to_numeric(X.date)"
   ]
  },
  {
   "cell_type": "code",
   "execution_count": 92,
   "id": "d08f7525",
   "metadata": {},
   "outputs": [],
   "source": [
    "# split features into numerical and categorical\n",
    "X_num = X.select_dtypes(include='number')\n",
    "X_cat = X.select_dtypes(exclude='number')"
   ]
  },
  {
   "cell_type": "code",
   "execution_count": 93,
   "id": "378c92bf",
   "metadata": {},
   "outputs": [],
   "source": [
    "# one hot encode\n",
    "X_cat = pd.get_dummies(X_cat)"
   ]
  },
  {
   "cell_type": "code",
   "execution_count": 94,
   "id": "9323ea78",
   "metadata": {},
   "outputs": [],
   "source": [
    "# removing columns of zeros\n",
    "X_num = X_num.drop(['B_draw', 'R_draw'], axis=1)"
   ]
  },
  {
   "cell_type": "code",
   "execution_count": 95,
   "id": "17451924",
   "metadata": {},
   "outputs": [],
   "source": [
    "# standardize\n",
    "X_num = (X_num - X_num.mean())/X_num.std()"
   ]
  },
  {
   "cell_type": "code",
   "execution_count": 96,
   "id": "8a27e72f",
   "metadata": {},
   "outputs": [],
   "source": [
    "# put back together\n",
    "X = pd.concat([X_num,X_cat], axis=1)"
   ]
  },
  {
   "cell_type": "code",
   "execution_count": 97,
   "id": "052ce1ea",
   "metadata": {},
   "outputs": [
    {
     "data": {
      "text/plain": [
       "LogisticRegression(max_iter=1000, random_state=0)"
      ]
     },
     "execution_count": 97,
     "metadata": {},
     "output_type": "execute_result"
    }
   ],
   "source": [
    "# logistic regression\n",
    "logr = LogisticRegression(random_state=0, max_iter=1000)\n",
    "logr.fit(X,y)"
   ]
  },
  {
   "cell_type": "code",
   "execution_count": 98,
   "id": "04714e38",
   "metadata": {},
   "outputs": [
    {
     "name": "stdout",
     "output_type": "stream",
     "text": [
      "Test R2: 0.75\n"
     ]
    }
   ],
   "source": [
    "# Test score\n",
    "print('Test R2:',logr.score(X,y).round(2))"
   ]
  },
  {
   "cell_type": "code",
   "execution_count": 105,
   "id": "6ab08593",
   "metadata": {},
   "outputs": [],
   "source": [
    "logr.coef_?"
   ]
  },
  {
   "cell_type": "code",
   "execution_count": null,
   "id": "7604c8b3",
   "metadata": {},
   "outputs": [],
   "source": []
  }
 ],
 "metadata": {
  "kernelspec": {
   "display_name": "Python 3 (ipykernel)",
   "language": "python",
   "name": "python3"
  },
  "language_info": {
   "codemirror_mode": {
    "name": "ipython",
    "version": 3
   },
   "file_extension": ".py",
   "mimetype": "text/x-python",
   "name": "python",
   "nbconvert_exporter": "python",
   "pygments_lexer": "ipython3",
   "version": "3.9.7"
  }
 },
 "nbformat": 4,
 "nbformat_minor": 5
}
