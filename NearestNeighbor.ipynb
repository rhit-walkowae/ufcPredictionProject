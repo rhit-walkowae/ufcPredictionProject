{
 "cells": [
  {
   "cell_type": "code",
   "execution_count": 1,
   "id": "dbb6372d",
   "metadata": {},
   "outputs": [],
   "source": [
    "import pandas as pd\n",
    "import numpy as np\n",
    "from statistics import mode\n",
    "from sklearn.model_selection import train_test_split,GridSearchCV\n",
    "from sklearn.neighbors import KNeighborsClassifier\n",
    "from sklearn.preprocessing import scale"
   ]
  },
  {
   "cell_type": "code",
   "execution_count": 2,
   "id": "0231eac8",
   "metadata": {},
   "outputs": [],
   "source": [
    "ufc = pd.read_csv('../../Data/UFCdata.csv')"
   ]
  },
  {
   "cell_type": "code",
   "execution_count": 3,
   "id": "017b1561",
   "metadata": {},
   "outputs": [],
   "source": [
    "ufc = ufc.dropna()\n",
    "ufc = ufc.drop(['R_fighter','B_fighter','Referee','date','location'],axis=1)"
   ]
  },
  {
   "cell_type": "code",
   "execution_count": 4,
   "id": "d00cdd4d",
   "metadata": {},
   "outputs": [],
   "source": [
    "num_cols = ufc.select_dtypes('number').columns\n",
    "ufc[num_cols] = scale(ufc[num_cols])"
   ]
  },
  {
   "cell_type": "code",
   "execution_count": 5,
   "id": "7818d7f8",
   "metadata": {},
   "outputs": [],
   "source": [
    "ufc_dummy = pd.get_dummies(ufc.loc[:, ufc.columns != 'Winner'])\n",
    "ufc_dummy['Winner'] = ufc.Winner\n",
    "ufc = ufc_dummy"
   ]
  },
  {
   "cell_type": "code",
   "execution_count": 6,
   "id": "14e0c768",
   "metadata": {},
   "outputs": [],
   "source": [
    "ufc_train,ufc_test = train_test_split(ufc,test_size=0.2,random_state=321,stratify=ufc.Winner)"
   ]
  },
  {
   "cell_type": "code",
   "execution_count": 7,
   "id": "7fdcf10c",
   "metadata": {},
   "outputs": [],
   "source": [
    "features_train = ufc_train.drop('Winner',axis=1)\n",
    "features_test = ufc_test.drop('Winner',axis=1)\n",
    "target_train = ufc_train.Winner\n",
    "target_test = ufc_test.Winner"
   ]
  },
  {
   "cell_type": "code",
   "execution_count": 8,
   "id": "4d2eb265",
   "metadata": {},
   "outputs": [],
   "source": [
    "k = np.arange(1,1000)\n",
    "params = {'n_neighbors':k}"
   ]
  },
  {
   "cell_type": "code",
   "execution_count": 9,
   "id": "a8a6e51e",
   "metadata": {},
   "outputs": [
    {
     "data": {
      "text/plain": [
       "GridSearchCV(estimator=KNeighborsClassifier(), n_jobs=-1,\n",
       "             param_grid={'n_neighbors': array([  1,   2,   3,   4,   5,   6,   7,   8,   9,  10,  11,  12,  13,\n",
       "        14,  15,  16,  17,  18,  19,  20,  21,  22,  23,  24,  25,  26,\n",
       "        27,  28,  29,  30,  31,  32,  33,  34,  35,  36,  37,  38,  39,\n",
       "        40,  41,  42,  43,  44,  45,  46,  47,  48,  49,  50,  51,  52,\n",
       "        53,  54,  55,  56,  57,  58,  59,  60,  61,  62,  63,  64,  65,\n",
       "        66,  67,  68,  69,  70,  71,  72,  73,  74,  75,  76,  77,  78,\n",
       "        79,  80,  81,  82,  83,  84,  85,  86,  87,  88,  89,  90,...\n",
       "       911, 912, 913, 914, 915, 916, 917, 918, 919, 920, 921, 922, 923,\n",
       "       924, 925, 926, 927, 928, 929, 930, 931, 932, 933, 934, 935, 936,\n",
       "       937, 938, 939, 940, 941, 942, 943, 944, 945, 946, 947, 948, 949,\n",
       "       950, 951, 952, 953, 954, 955, 956, 957, 958, 959, 960, 961, 962,\n",
       "       963, 964, 965, 966, 967, 968, 969, 970, 971, 972, 973, 974, 975,\n",
       "       976, 977, 978, 979, 980, 981, 982, 983, 984, 985, 986, 987, 988,\n",
       "       989, 990, 991, 992, 993, 994, 995, 996, 997, 998, 999])})"
      ]
     },
     "execution_count": 9,
     "metadata": {},
     "output_type": "execute_result"
    }
   ],
   "source": [
    "knn = KNeighborsClassifier()\n",
    "knnCV = GridSearchCV(knn,param_grid=params,n_jobs=-1)\n",
    "knnCV.fit(features_train,target_train)"
   ]
  },
  {
   "cell_type": "code",
   "execution_count": 10,
   "id": "69046b9b",
   "metadata": {},
   "outputs": [
    {
     "name": "stdout",
     "output_type": "stream",
     "text": [
      "Optimal Validation Accuracy: 0.625\n",
      "Optimal n_neighbors: 115\n",
      "Test Accuracy of Optimal Estimator: 0.627\n"
     ]
    }
   ],
   "source": [
    "print(\"Optimal Validation Accuracy:\",round(knnCV.best_score_,3))\n",
    "print(\"Optimal n_neighbors:\",knnCV.best_params_['n_neighbors'])\n",
    "print(\"Test Accuracy of Optimal Estimator:\",round(knnCV.best_estimator_.score(features_test,target_test),3))"
   ]
  },
  {
   "cell_type": "code",
   "execution_count": 11,
   "id": "ad169951",
   "metadata": {},
   "outputs": [
    {
     "name": "stdout",
     "output_type": "stream",
     "text": [
      "Baseline Accuracy: 0.616\n"
     ]
    }
   ],
   "source": [
    "baseline_acc = sum(target_test == \"Red\") / len(target_test)\n",
    "print(\"Baseline Accuracy:\",round(baseline_acc,3))"
   ]
  }
 ],
 "metadata": {
  "kernelspec": {
   "display_name": "Python 3",
   "language": "python",
   "name": "python3"
  },
  "language_info": {
   "codemirror_mode": {
    "name": "ipython",
    "version": 3
   },
   "file_extension": ".py",
   "mimetype": "text/x-python",
   "name": "python",
   "nbconvert_exporter": "python",
   "pygments_lexer": "ipython3",
   "version": "3.8.8"
  }
 },
 "nbformat": 4,
 "nbformat_minor": 5
}
