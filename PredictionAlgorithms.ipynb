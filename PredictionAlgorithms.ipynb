{
 "cells": [
  {
   "cell_type": "markdown",
   "id": "a14ea5f1",
   "metadata": {},
   "source": [
    "# MachineLearning UFC fight predictor \n",
    "\n",
    "### Andrew Walkowski, Evan Cruse, Jack Kovacs, and Alex Ketcham\n",
    "\n",
    "NOTE: This if for final development of prediction tools, do brainstorming/exploring in a personal file before adding it here"
   ]
  },
  {
   "cell_type": "markdown",
   "id": "752f48d7",
   "metadata": {},
   "source": [
    "### 1st import and clean data\n",
    "Remove Nan values imported in from CSV file for missing fighter records that can not be used in our model"
   ]
  },
  {
   "cell_type": "code",
   "execution_count": 3,
   "id": "c3a77b41",
   "metadata": {},
   "outputs": [],
   "source": [
    "import pandas as pd\n",
    "import numpy as np\n",
    "import os"
   ]
  },
  {
   "cell_type": "code",
   "execution_count": 4,
   "id": "7dd55532",
   "metadata": {},
   "outputs": [
    {
     "data": {
      "text/plain": [
       "'C:\\\\Users\\\\walkowae\\\\Documents\\\\GitHub\\\\UFCdata.csv'"
      ]
     },
     "execution_count": 4,
     "metadata": {},
     "output_type": "execute_result"
    }
   ],
   "source": [
    "path = os.getcwd()\n",
    "p = path.removesuffix('ufcPredictionProject')\n",
    "p= p+'UFCdata.csv'\n",
    "p"
   ]
  },
  {
   "cell_type": "code",
   "execution_count": 8,
   "id": "04ebac69",
   "metadata": {},
   "outputs": [
    {
     "name": "stdout",
     "output_type": "stream",
     "text": [
      "Shape before removing NaN rows:  (6012, 144)\n",
      "Shape after:  (3890, 144)\n"
     ]
    }
   ],
   "source": [
    "df = pd.read_csv(p)\n",
    "print('Shape before removing NaN rows: ',df.shape)\n",
    "df = df.dropna()\n",
    "print('Shape after: ',df.shape)"
   ]
  },
  {
   "cell_type": "code",
   "execution_count": 10,
   "id": "059615ed",
   "metadata": {},
   "outputs": [
    {
     "name": "stdout",
     "output_type": "stream",
     "text": [
      "Columns where every cell is the same:  Index([], dtype='object')\n",
      "New Shape:  (3890, 142)\n"
     ]
    }
   ],
   "source": [
    "nunique = df.nunique()\n",
    "cols_to_drop = nunique[nunique == 1].index\n",
    "print('Columns where every cell is the same: ', cols_to_drop)\n",
    "df = df.drop(cols_to_drop, axis=1)\n",
    "print('New Shape: ',df.shape)"
   ]
  },
  {
   "cell_type": "markdown",
   "id": "a1b260ff",
   "metadata": {},
   "source": [
    "### 2nd Baseline\n"
   ]
  },
  {
   "cell_type": "code",
   "execution_count": 16,
   "id": "bdc396b7",
   "metadata": {},
   "outputs": [
    {
     "name": "stdout",
     "output_type": "stream",
     "text": [
      "Winner percentages:\n",
      " Red     0.616195\n",
      "Blue    0.366067\n",
      "Draw    0.017738\n",
      "Name: Winner, dtype: float64\n"
     ]
    }
   ],
   "source": [
    "y= df.Winner\n",
    "print('Winner percentages:\\n', y.value_counts()/3890)"
   ]
  },
  {
   "cell_type": "code",
   "execution_count": 18,
   "id": "530d3ef2",
   "metadata": {},
   "outputs": [
    {
     "name": "stdout",
     "output_type": "stream",
     "text": [
      "0.514015963158\n"
     ]
    }
   ],
   "source": [
    "baseline = 0.616195**2 + 0.366067**2 +0.017738**2\n",
    "print(baseline)"
   ]
  },
  {
   "cell_type": "markdown",
   "id": "c643baa5",
   "metadata": {},
   "source": [
    "### Baseline = 51.4% (When always guessing Red to win)\n",
    "### Real World Baseline = 50/50"
   ]
  },
  {
   "cell_type": "code",
   "execution_count": null,
   "id": "309ab525",
   "metadata": {},
   "outputs": [],
   "source": []
  }
 ],
 "metadata": {
  "kernelspec": {
   "display_name": "Python 3 (ipykernel)",
   "language": "python",
   "name": "python3"
  },
  "language_info": {
   "codemirror_mode": {
    "name": "ipython",
    "version": 3
   },
   "file_extension": ".py",
   "mimetype": "text/x-python",
   "name": "python",
   "nbconvert_exporter": "python",
   "pygments_lexer": "ipython3",
   "version": "3.9.7"
  }
 },
 "nbformat": 4,
 "nbformat_minor": 5
}
